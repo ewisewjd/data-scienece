{
 "cells": [
  {
   "cell_type": "markdown",
   "id": "b286431a",
   "metadata": {},
   "source": [
    "# 요구사항 분석 및 문제 정의\n",
    "\n",
    "- 간단한 EDA와 관련된 함수를 학습\n",
    "- BMI 데이터를 확인해 보고 잘 분류가 될 수 있는지 시각화\n",
    "- KNN의 개념에 대해 학습\n",
    "- KNN을 이용해서 학습\n",
    "- 머신러닝 프로세스에 대해 학습"
   ]
  },
  {
   "cell_type": "markdown",
   "id": "08db8938",
   "metadata": {},
   "source": [
    "# 데이터 수집"
   ]
  },
  {
   "cell_type": "code",
   "execution_count": 19,
   "id": "1ae634f8",
   "metadata": {},
   "outputs": [],
   "source": [
    "import pandas as pd\n",
    "\n",
    "bmi = pd.read_csv(\"./data/bmi_500.csv\")"
   ]
  },
  {
   "cell_type": "markdown",
   "id": "ab1db356",
   "metadata": {},
   "source": [
    "# EDA (탐색적 데이터 분석)"
   ]
  },
  {
   "cell_type": "code",
   "execution_count": 5,
   "id": "0c4543f6",
   "metadata": {},
   "outputs": [
    {
     "data": {
      "text/html": [
       "<div>\n",
       "<style scoped>\n",
       "    .dataframe tbody tr th:only-of-type {\n",
       "        vertical-align: middle;\n",
       "    }\n",
       "\n",
       "    .dataframe tbody tr th {\n",
       "        vertical-align: top;\n",
       "    }\n",
       "\n",
       "    .dataframe thead th {\n",
       "        text-align: right;\n",
       "    }\n",
       "</style>\n",
       "<table border=\"1\" class=\"dataframe\">\n",
       "  <thead>\n",
       "    <tr style=\"text-align: right;\">\n",
       "      <th></th>\n",
       "      <th>Gender</th>\n",
       "      <th>Height</th>\n",
       "      <th>Weight</th>\n",
       "      <th>Label</th>\n",
       "    </tr>\n",
       "  </thead>\n",
       "  <tbody>\n",
       "    <tr>\n",
       "      <th>0</th>\n",
       "      <td>Male</td>\n",
       "      <td>174</td>\n",
       "      <td>96</td>\n",
       "      <td>Obesity</td>\n",
       "    </tr>\n",
       "    <tr>\n",
       "      <th>1</th>\n",
       "      <td>Male</td>\n",
       "      <td>189</td>\n",
       "      <td>87</td>\n",
       "      <td>Normal</td>\n",
       "    </tr>\n",
       "    <tr>\n",
       "      <th>2</th>\n",
       "      <td>Female</td>\n",
       "      <td>185</td>\n",
       "      <td>110</td>\n",
       "      <td>Obesity</td>\n",
       "    </tr>\n",
       "    <tr>\n",
       "      <th>3</th>\n",
       "      <td>Female</td>\n",
       "      <td>195</td>\n",
       "      <td>104</td>\n",
       "      <td>Overweight</td>\n",
       "    </tr>\n",
       "    <tr>\n",
       "      <th>4</th>\n",
       "      <td>Male</td>\n",
       "      <td>149</td>\n",
       "      <td>61</td>\n",
       "      <td>Overweight</td>\n",
       "    </tr>\n",
       "    <tr>\n",
       "      <th>5</th>\n",
       "      <td>Male</td>\n",
       "      <td>189</td>\n",
       "      <td>104</td>\n",
       "      <td>Overweight</td>\n",
       "    </tr>\n",
       "    <tr>\n",
       "      <th>6</th>\n",
       "      <td>Male</td>\n",
       "      <td>147</td>\n",
       "      <td>92</td>\n",
       "      <td>Extreme Obesity</td>\n",
       "    </tr>\n",
       "    <tr>\n",
       "      <th>7</th>\n",
       "      <td>Male</td>\n",
       "      <td>154</td>\n",
       "      <td>111</td>\n",
       "      <td>Extreme Obesity</td>\n",
       "    </tr>\n",
       "    <tr>\n",
       "      <th>8</th>\n",
       "      <td>Male</td>\n",
       "      <td>174</td>\n",
       "      <td>90</td>\n",
       "      <td>Overweight</td>\n",
       "    </tr>\n",
       "  </tbody>\n",
       "</table>\n",
       "</div>"
      ],
      "text/plain": [
       "   Gender  Height  Weight            Label\n",
       "0    Male     174      96          Obesity\n",
       "1    Male     189      87           Normal\n",
       "2  Female     185     110          Obesity\n",
       "3  Female     195     104       Overweight\n",
       "4    Male     149      61       Overweight\n",
       "5    Male     189     104       Overweight\n",
       "6    Male     147      92  Extreme Obesity\n",
       "7    Male     154     111  Extreme Obesity\n",
       "8    Male     174      90       Overweight"
      ]
     },
     "execution_count": 5,
     "metadata": {},
     "output_type": "execute_result"
    }
   ],
   "source": [
    "# 처음부터 일부 데이터를 확인\n",
    "# 괄호안에 숫자를 입력하면 해당 숫자만큼 출력\n",
    "bmi.head(9)"
   ]
  },
  {
   "cell_type": "code",
   "execution_count": 4,
   "id": "11b33db7",
   "metadata": {},
   "outputs": [
    {
     "data": {
      "text/html": [
       "<div>\n",
       "<style scoped>\n",
       "    .dataframe tbody tr th:only-of-type {\n",
       "        vertical-align: middle;\n",
       "    }\n",
       "\n",
       "    .dataframe tbody tr th {\n",
       "        vertical-align: top;\n",
       "    }\n",
       "\n",
       "    .dataframe thead th {\n",
       "        text-align: right;\n",
       "    }\n",
       "</style>\n",
       "<table border=\"1\" class=\"dataframe\">\n",
       "  <thead>\n",
       "    <tr style=\"text-align: right;\">\n",
       "      <th></th>\n",
       "      <th>Gender</th>\n",
       "      <th>Height</th>\n",
       "      <th>Weight</th>\n",
       "      <th>Label</th>\n",
       "    </tr>\n",
       "  </thead>\n",
       "  <tbody>\n",
       "    <tr>\n",
       "      <th>495</th>\n",
       "      <td>Female</td>\n",
       "      <td>150</td>\n",
       "      <td>153</td>\n",
       "      <td>Extreme Obesity</td>\n",
       "    </tr>\n",
       "    <tr>\n",
       "      <th>496</th>\n",
       "      <td>Female</td>\n",
       "      <td>184</td>\n",
       "      <td>121</td>\n",
       "      <td>Obesity</td>\n",
       "    </tr>\n",
       "    <tr>\n",
       "      <th>497</th>\n",
       "      <td>Female</td>\n",
       "      <td>141</td>\n",
       "      <td>136</td>\n",
       "      <td>Extreme Obesity</td>\n",
       "    </tr>\n",
       "    <tr>\n",
       "      <th>498</th>\n",
       "      <td>Male</td>\n",
       "      <td>150</td>\n",
       "      <td>95</td>\n",
       "      <td>Extreme Obesity</td>\n",
       "    </tr>\n",
       "    <tr>\n",
       "      <th>499</th>\n",
       "      <td>Male</td>\n",
       "      <td>173</td>\n",
       "      <td>131</td>\n",
       "      <td>Extreme Obesity</td>\n",
       "    </tr>\n",
       "  </tbody>\n",
       "</table>\n",
       "</div>"
      ],
      "text/plain": [
       "     Gender  Height  Weight            Label\n",
       "495  Female     150     153  Extreme Obesity\n",
       "496  Female     184     121          Obesity\n",
       "497  Female     141     136  Extreme Obesity\n",
       "498    Male     150      95  Extreme Obesity\n",
       "499    Male     173     131  Extreme Obesity"
      ]
     },
     "execution_count": 4,
     "metadata": {},
     "output_type": "execute_result"
    }
   ],
   "source": [
    "# 끝에서부터 일부 데이터를 확인\n",
    "bmi.tail()"
   ]
  },
  {
   "cell_type": "code",
   "execution_count": 6,
   "id": "197b2341",
   "metadata": {},
   "outputs": [
    {
     "name": "stdout",
     "output_type": "stream",
     "text": [
      "<class 'pandas.core.frame.DataFrame'>\n",
      "RangeIndex: 500 entries, 0 to 499\n",
      "Data columns (total 4 columns):\n",
      " #   Column  Non-Null Count  Dtype \n",
      "---  ------  --------------  ----- \n",
      " 0   Gender  500 non-null    object\n",
      " 1   Height  500 non-null    int64 \n",
      " 2   Weight  500 non-null    int64 \n",
      " 3   Label   500 non-null    object\n",
      "dtypes: int64(2), object(2)\n",
      "memory usage: 15.8+ KB\n"
     ]
    }
   ],
   "source": [
    "# 데이터의 정보를 출력하는 함수\n",
    "# 데이터의 수, 컬럼의 수, 컬럼의 특성/데이터 타입 - 결측치 확인\n",
    "# Dtype : object(범주형), int / float (수치형)\n",
    "bmi.info()"
   ]
  },
  {
   "cell_type": "code",
   "execution_count": 8,
   "id": "6dfd1a08",
   "metadata": {},
   "outputs": [
    {
     "name": "stdout",
     "output_type": "stream",
     "text": [
      "['Male' 'Female']\n"
     ]
    }
   ],
   "source": [
    "# 범주형 컬럼의 클래스의 목록을 출력하는 함수\n",
    "print(bmi[\"Gender\"].unique())"
   ]
  },
  {
   "cell_type": "code",
   "execution_count": 9,
   "id": "1d8a79c9",
   "metadata": {},
   "outputs": [
    {
     "name": "stdout",
     "output_type": "stream",
     "text": [
      "Female    255\n",
      "Male      245\n",
      "Name: Gender, dtype: int64\n"
     ]
    }
   ],
   "source": [
    "# 범주형 컬럼의 클래스별 갯수를 확인\n",
    "# 데이터가 한쪽으로 치우쳐 있는 확인\n",
    "print(bmi[\"Gender\"].value_counts())"
   ]
  },
  {
   "cell_type": "code",
   "execution_count": 11,
   "id": "e42178ae",
   "metadata": {},
   "outputs": [
    {
     "name": "stdout",
     "output_type": "stream",
     "text": [
      "-0.12191368980139153\n",
      "-0.037692236922098034\n"
     ]
    }
   ],
   "source": [
    "# 수치형 데이터의 편향 (치우침)을 확인하는 함수\n",
    "# 0이면 정규분포\n",
    "# 양수이면 왼쪽으로 치우친 데이터이고 음수이면 오른쪽으로 치우친 데이터를 표시\n",
    "print(bmi[\"Height\"].skew())\n",
    "print(bmi[\"Weight\"].skew())"
   ]
  },
  {
   "cell_type": "code",
   "execution_count": 12,
   "id": "09137b88",
   "metadata": {},
   "outputs": [
    {
     "data": {
      "text/html": [
       "<div>\n",
       "<style scoped>\n",
       "    .dataframe tbody tr th:only-of-type {\n",
       "        vertical-align: middle;\n",
       "    }\n",
       "\n",
       "    .dataframe tbody tr th {\n",
       "        vertical-align: top;\n",
       "    }\n",
       "\n",
       "    .dataframe thead th {\n",
       "        text-align: right;\n",
       "    }\n",
       "</style>\n",
       "<table border=\"1\" class=\"dataframe\">\n",
       "  <thead>\n",
       "    <tr style=\"text-align: right;\">\n",
       "      <th></th>\n",
       "      <th>Height</th>\n",
       "      <th>Weight</th>\n",
       "    </tr>\n",
       "  </thead>\n",
       "  <tbody>\n",
       "    <tr>\n",
       "      <th>count</th>\n",
       "      <td>500.000000</td>\n",
       "      <td>500.000000</td>\n",
       "    </tr>\n",
       "    <tr>\n",
       "      <th>mean</th>\n",
       "      <td>169.944000</td>\n",
       "      <td>106.000000</td>\n",
       "    </tr>\n",
       "    <tr>\n",
       "      <th>std</th>\n",
       "      <td>16.375261</td>\n",
       "      <td>32.382607</td>\n",
       "    </tr>\n",
       "    <tr>\n",
       "      <th>min</th>\n",
       "      <td>140.000000</td>\n",
       "      <td>50.000000</td>\n",
       "    </tr>\n",
       "    <tr>\n",
       "      <th>25%</th>\n",
       "      <td>156.000000</td>\n",
       "      <td>80.000000</td>\n",
       "    </tr>\n",
       "    <tr>\n",
       "      <th>50%</th>\n",
       "      <td>170.500000</td>\n",
       "      <td>106.000000</td>\n",
       "    </tr>\n",
       "    <tr>\n",
       "      <th>75%</th>\n",
       "      <td>184.000000</td>\n",
       "      <td>136.000000</td>\n",
       "    </tr>\n",
       "    <tr>\n",
       "      <th>max</th>\n",
       "      <td>199.000000</td>\n",
       "      <td>160.000000</td>\n",
       "    </tr>\n",
       "  </tbody>\n",
       "</table>\n",
       "</div>"
      ],
      "text/plain": [
       "           Height      Weight\n",
       "count  500.000000  500.000000\n",
       "mean   169.944000  106.000000\n",
       "std     16.375261   32.382607\n",
       "min    140.000000   50.000000\n",
       "25%    156.000000   80.000000\n",
       "50%    170.500000  106.000000\n",
       "75%    184.000000  136.000000\n",
       "max    199.000000  160.000000"
      ]
     },
     "execution_count": 12,
     "metadata": {},
     "output_type": "execute_result"
    }
   ],
   "source": [
    "# 데이터의 간단한 기술통계를 보여주는 함수\n",
    "# 데이터의 개수, 평균, 표준편차, 최소값/25%/중간값/75%/최대값\n",
    "# 결측치, 이상치, 편향 (치우침정도)\n",
    "bmi.describe()"
   ]
  },
  {
   "cell_type": "markdown",
   "id": "e9dd7f4a",
   "metadata": {},
   "source": [
    "## BMI 데이터가 분류가 될 수 있는 데이터인지 확인"
   ]
  },
  {
   "cell_type": "code",
   "execution_count": 13,
   "id": "0196d888",
   "metadata": {},
   "outputs": [],
   "source": [
    "# matplotlib : 파이썬 그래프 시각화 도구\n",
    "# seaborn : matplotlib에 고급 그래프 시각화 도구를 제공\n",
    "import matplotlib.pyplot as plt\n",
    "\n",
    "# scatter : 산포도를 그리는 함수 (2차원 좌표에 점을 찍을 찍는 함수)\n",
    "# x 좌표 : Weight, y 좌표 : Height\n",
    "def myScatter(label, color) :\n",
    "    # 파라미터로 넘어온 라벨의 해당 값들을 저장 - 불리언 인덱싱\n",
    "    tmp = bmi[bmi[\"Label\"] == label]\n",
    "    \n",
    "    # 입력한 라벨값만 산포도를 그림\n",
    "    # scatter(x좌표, y좌표, 색상, 라벨)\n",
    "    plt.scatter(tmp[\"Weight\"], tmp[\"Height\"],\n",
    "                c = color, label = label)"
   ]
  },
  {
   "cell_type": "code",
   "execution_count": 14,
   "id": "6cbb8a07",
   "metadata": {},
   "outputs": [
    {
     "data": {
      "text/plain": [
       "array(['Obesity', 'Normal', 'Overweight', 'Extreme Obesity', 'Weak',\n",
       "       'Extremely Weak'], dtype=object)"
      ]
     },
     "execution_count": 14,
     "metadata": {},
     "output_type": "execute_result"
    }
   ],
   "source": [
    "bmi[\"Label\"].unique()"
   ]
  },
  {
   "cell_type": "code",
   "execution_count": 32,
   "id": "f69b4b4b",
   "metadata": {},
   "outputs": [
    {
     "data": {
      "image/png": "[encoded data removed]",
      "text/plain": [
       "<Figure size 720x720 with 1 Axes>"
      ]
     },
     "metadata": {
      "needs_background": "light"
     },
     "output_type": "display_data"
    }
   ],
   "source": [
    "# 그래프의 크기 설정\n",
    "plt.figure(figsize=(10, 10))\n",
    "\n",
    "myScatter(\"Obesity\", \"black\")\n",
    "myScatter(\"Normal\", \"yellow\")\n",
    "myScatter(\"Overweight\", \"pink\")\n",
    "myScatter(\"Extreme Obesity\", \"cyan\")\n",
    "myScatter(\"Weak\", \"red\")\n",
    "myScatter(\"Extremely Weak\", \"blue\")\n",
    "\n",
    "# 범례 추가 (loc : 범례의 위치)\n",
    "# loc를 써주지 않으면 알아서 데이터가 가장 작게 분포된 위치에 표시\n",
    "plt.legend(loc=\"upper right\")\n",
    "\n",
    "# x축 라벨 표시 (기본적으로 한글은 지원하지 않음)\n",
    "plt.xlabel(\"Weight\")\n",
    "\n",
    "# y축 라벨 표시 \n",
    "plt.ylabel(\"Height\")\n",
    "\n",
    "# x축 눈금의 범위\n",
    "plt.xlim(0, 200)\n",
    "\n",
    "# y축 눈금의 범위\n",
    "plt.ylim(0, 250)\n",
    "\n",
    "# 제목 표시\n",
    "plt.title(\"BMI data\")\n",
    "\n",
    "# 격자 표시\n",
    "plt.grid()"
   ]
  },
  {
   "cell_type": "markdown",
   "id": "63ff9df9",
   "metadata": {},
   "source": [
    "## 학습 데이터로 변환\n",
    "\n",
    "- 특성데이터와 라벨데이터로 분리\n",
    "- 훈련데이터와 테스트데이터로 분리"
   ]
  },
  {
   "cell_type": "code",
   "execution_count": 2,
   "id": "32837115",
   "metadata": {},
   "outputs": [
    {
     "data": {
      "text/plain": [
       "((500, 2), (500,))"
      ]
     },
     "execution_count": 2,
     "metadata": {},
     "output_type": "execute_result"
    }
   ],
   "source": [
    "# 특성데이터와 라벨데이터로 분리\n",
    "bmi_X = bmi.loc[:, \"Height\":\"Weight\"]\n",
    "bmi_y = bmi.loc[:, \"Label\"]\n",
    "\n",
    "bmi_X.shape, bmi_y.shape"
   ]
  },
  {
   "cell_type": "code",
   "execution_count": 4,
   "id": "ff10cf0d",
   "metadata": {},
   "outputs": [
    {
     "data": {
      "text/plain": [
       "((350, 2), (350,), (150, 2), (150,))"
      ]
     },
     "execution_count": 4,
     "metadata": {},
     "output_type": "execute_result"
    }
   ],
   "source": [
    "# 훈련데이터와 테스트데이터로 분리 (훈련 70%, 테스트 30%)\n",
    "X_train = bmi_X.iloc[:350, :]\n",
    "y_train = bmi_y.iloc[:350]\n",
    "X_test = bmi_X.iloc[350:, :]\n",
    "y_test = bmi_y.iloc[350:]\n",
    "\n",
    "X_train.shape, y_train.shape, X_test.shape, y_test.shape"
   ]
  },
  {
   "cell_type": "markdown",
   "id": "f02c6b95",
   "metadata": {},
   "source": [
    "# KNN으로 BMI 데이터 학습"
   ]
  },
  {
   "cell_type": "code",
   "execution_count": 5,
   "id": "d2c87bdf",
   "metadata": {},
   "outputs": [
    {
     "data": {
      "text/plain": [
       "KNeighborsClassifier(n_neighbors=3)"
      ]
     },
     "execution_count": 5,
     "metadata": {},
     "output_type": "execute_result"
    }
   ],
   "source": [
    "from sklearn.neighbors import KNeighborsClassifier\n",
    "\n",
    "# n_neighbors : 이웃의 수\n",
    "# 이웃의 수가 적으면 과대적합\n",
    "# 이웃의 수가 많으면 과소적합\n",
    "# Hyper Parameter Tuning : 적당한 이웃의 수를 결정하는 것\n",
    "knn_model = KNeighborsClassifier(n_neighbors=3)\n",
    "# 훈련은 훈련데이터로\n",
    "knn_model.fit(X_train, y_train)"
   ]
  },
  {
   "cell_type": "code",
   "execution_count": 6,
   "id": "8dd87ac9",
   "metadata": {},
   "outputs": [
    {
     "name": "stdout",
     "output_type": "stream",
     "text": [
      "훈련 정확도 :  0.9342857142857143\n",
      "테스트 정확도 :  0.9\n"
     ]
    }
   ],
   "source": [
    "# 정확도 계산\n",
    "# 훈련정확도와 테스트정확도가 모두 낮으면 -> 과소적합\n",
    "# 훈련정확도보다 테스트정확도가 높으면 -> 과소적합\n",
    "# 훈련정확도와 테스트정확도가 크게 차이나면 -> 과대적합\n",
    "# 일반화모델 : 훈련정확도가 테스트정확도가 약간 높은 모델\n",
    "print(\"훈련 정확도 : \", knn_model.score(X_train, y_train))\n",
    "print(\"테스트 정확도 : \", knn_model.score(X_test, y_test))"
   ]
  },
  {
   "cell_type": "markdown",
   "id": "5a9e1024",
   "metadata": {},
   "source": [
    "- 이웃의 수가 감소하면 과대적합이 생김"
   ]
  },
  {
   "cell_type": "code",
   "execution_count": 7,
   "id": "c9a570db",
   "metadata": {},
   "outputs": [
    {
     "name": "stdout",
     "output_type": "stream",
     "text": [
      "훈련 정확도 :  1.0\n",
      "테스트 정확도 :  0.8933333333333333\n"
     ]
    }
   ],
   "source": [
    "knn_model2 = KNeighborsClassifier(n_neighbors=1)\n",
    "knn_model2.fit(X_train, y_train)\n",
    "\n",
    "print(\"훈련 정확도 : \", knn_model2.score(X_train, y_train))\n",
    "print(\"테스트 정확도 : \", knn_model2.score(X_test, y_test))"
   ]
  },
  {
   "cell_type": "markdown",
   "id": "b2d559e6",
   "metadata": {},
   "source": [
    "- 이웃의 수가 증가하면 과소적합이 생김"
   ]
  },
  {
   "cell_type": "code",
   "execution_count": 8,
   "id": "9a573dd4",
   "metadata": {},
   "outputs": [
    {
     "name": "stdout",
     "output_type": "stream",
     "text": [
      "훈련 정확도 :  0.9085714285714286\n",
      "테스트 정확도 :  0.94\n"
     ]
    }
   ],
   "source": [
    "knn_model3 = KNeighborsClassifier(n_neighbors=10)\n",
    "knn_model3.fit(X_train, y_train)\n",
    "\n",
    "print(\"훈련 정확도 : \", knn_model3.score(X_train, y_train))\n",
    "print(\"테스트 정확도 : \", knn_model3.score(X_test, y_test))"
   ]
  },
  {
   "cell_type": "markdown",
   "id": "acf79e4c",
   "metadata": {},
   "source": [
    "- 일반화된 모델을 찾아보자 - 하이퍼파라미터 튜닝"
   ]
  },
  {
   "cell_type": "code",
   "execution_count": 9,
   "id": "396c5220",
   "metadata": {},
   "outputs": [],
   "source": [
    "# 이웃의 수마다의 정확도\n",
    "train_acc = []\n",
    "test_acc = []\n",
    "\n",
    "# 사용할 이웃의 범위 값들을 정의\n",
    "neighbor = range(1, 20)\n",
    "\n",
    "for n in neighbor :\n",
    "    knn_model = KNeighborsClassifier(n_neighbors=n)\n",
    "    knn_model.fit(X_train, y_train)\n",
    "    \n",
    "    # 이웃의 수마다의 훈련데이터 정확도와 테스트데이터 정확도를 리스트에 저장\n",
    "    train_acc.append(knn_model.score(X_train, y_train))\n",
    "    test_acc.append(knn_model.score(X_test, y_test))"
   ]
  },
  {
   "cell_type": "code",
   "execution_count": 10,
   "id": "8d3e97e5",
   "metadata": {},
   "outputs": [
    {
     "data": {
      "text/plain": [
       "<matplotlib.legend.Legend at 0x1b42ecb6f10>"
      ]
     },
     "execution_count": 10,
     "metadata": {},
     "output_type": "execute_result"
    },
    {
     "data": {
      "image/png": "[encoded data removed]",
      "text/plain": [
       "<Figure size 432x288 with 1 Axes>"
      ]
     },
     "metadata": {
      "needs_background": "light"
     },
     "output_type": "display_data"
    }
   ],
   "source": [
    "# 시각화\n",
    "import matplotlib.pyplot as plt\n",
    "\n",
    "plt.plot(neighbor, train_acc, label=\"Train\")\n",
    "plt.plot(neighbor, test_acc, label=\"Test\")\n",
    "plt.legend()"
   ]
  },
  {
   "cell_type": "markdown",
   "id": "629369ef",
   "metadata": {},
   "source": [
    "- 특성의 수를 증가시켜서 과소적합을 줄여보자"
   ]
  },
  {
   "cell_type": "code",
   "execution_count": 21,
   "id": "8da89de4",
   "metadata": {},
   "outputs": [
    {
     "data": {
      "text/html": [
       "<div>\n",
       "<style scoped>\n",
       "    .dataframe tbody tr th:only-of-type {\n",
       "        vertical-align: middle;\n",
       "    }\n",
       "\n",
       "    .dataframe tbody tr th {\n",
       "        vertical-align: top;\n",
       "    }\n",
       "\n",
       "    .dataframe thead th {\n",
       "        text-align: right;\n",
       "    }\n",
       "</style>\n",
       "<table border=\"1\" class=\"dataframe\">\n",
       "  <thead>\n",
       "    <tr style=\"text-align: right;\">\n",
       "      <th></th>\n",
       "      <th>Gender</th>\n",
       "      <th>Height</th>\n",
       "      <th>Weight</th>\n",
       "      <th>Label</th>\n",
       "    </tr>\n",
       "  </thead>\n",
       "  <tbody>\n",
       "    <tr>\n",
       "      <th>0</th>\n",
       "      <td>Male</td>\n",
       "      <td>174</td>\n",
       "      <td>96</td>\n",
       "      <td>Obesity</td>\n",
       "    </tr>\n",
       "    <tr>\n",
       "      <th>1</th>\n",
       "      <td>Male</td>\n",
       "      <td>189</td>\n",
       "      <td>87</td>\n",
       "      <td>Normal</td>\n",
       "    </tr>\n",
       "    <tr>\n",
       "      <th>2</th>\n",
       "      <td>Female</td>\n",
       "      <td>185</td>\n",
       "      <td>110</td>\n",
       "      <td>Obesity</td>\n",
       "    </tr>\n",
       "    <tr>\n",
       "      <th>3</th>\n",
       "      <td>Female</td>\n",
       "      <td>195</td>\n",
       "      <td>104</td>\n",
       "      <td>Overweight</td>\n",
       "    </tr>\n",
       "    <tr>\n",
       "      <th>4</th>\n",
       "      <td>Male</td>\n",
       "      <td>149</td>\n",
       "      <td>61</td>\n",
       "      <td>Overweight</td>\n",
       "    </tr>\n",
       "  </tbody>\n",
       "</table>\n",
       "</div>"
      ],
      "text/plain": [
       "   Gender  Height  Weight       Label\n",
       "0    Male     174      96     Obesity\n",
       "1    Male     189      87      Normal\n",
       "2  Female     185     110     Obesity\n",
       "3  Female     195     104  Overweight\n",
       "4    Male     149      61  Overweight"
      ]
     },
     "execution_count": 21,
     "metadata": {},
     "output_type": "execute_result"
    }
   ],
   "source": [
    "import pandas as pd\n",
    "\n",
    "bmi = pd.read_csv(\"./data/bmi_500.csv\")\n",
    "\n",
    "bmi.head()"
   ]
  },
  {
   "cell_type": "code",
   "execution_count": 22,
   "id": "79ca89cf",
   "metadata": {},
   "outputs": [
    {
     "data": {
      "text/html": [
       "<div>\n",
       "<style scoped>\n",
       "    .dataframe tbody tr th:only-of-type {\n",
       "        vertical-align: middle;\n",
       "    }\n",
       "\n",
       "    .dataframe tbody tr th {\n",
       "        vertical-align: top;\n",
       "    }\n",
       "\n",
       "    .dataframe thead th {\n",
       "        text-align: right;\n",
       "    }\n",
       "</style>\n",
       "<table border=\"1\" class=\"dataframe\">\n",
       "  <thead>\n",
       "    <tr style=\"text-align: right;\">\n",
       "      <th></th>\n",
       "      <th>Gender</th>\n",
       "      <th>Height</th>\n",
       "      <th>Weight</th>\n",
       "      <th>Label</th>\n",
       "    </tr>\n",
       "  </thead>\n",
       "  <tbody>\n",
       "    <tr>\n",
       "      <th>0</th>\n",
       "      <td>0</td>\n",
       "      <td>174</td>\n",
       "      <td>96</td>\n",
       "      <td>Obesity</td>\n",
       "    </tr>\n",
       "    <tr>\n",
       "      <th>1</th>\n",
       "      <td>0</td>\n",
       "      <td>189</td>\n",
       "      <td>87</td>\n",
       "      <td>Normal</td>\n",
       "    </tr>\n",
       "    <tr>\n",
       "      <th>2</th>\n",
       "      <td>1</td>\n",
       "      <td>185</td>\n",
       "      <td>110</td>\n",
       "      <td>Obesity</td>\n",
       "    </tr>\n",
       "    <tr>\n",
       "      <th>3</th>\n",
       "      <td>1</td>\n",
       "      <td>195</td>\n",
       "      <td>104</td>\n",
       "      <td>Overweight</td>\n",
       "    </tr>\n",
       "    <tr>\n",
       "      <th>4</th>\n",
       "      <td>0</td>\n",
       "      <td>149</td>\n",
       "      <td>61</td>\n",
       "      <td>Overweight</td>\n",
       "    </tr>\n",
       "  </tbody>\n",
       "</table>\n",
       "</div>"
      ],
      "text/plain": [
       "   Gender  Height  Weight       Label\n",
       "0       0     174      96     Obesity\n",
       "1       0     189      87      Normal\n",
       "2       1     185     110     Obesity\n",
       "3       1     195     104  Overweight\n",
       "4       0     149      61  Overweight"
      ]
     },
     "execution_count": 22,
     "metadata": {},
     "output_type": "execute_result"
    }
   ],
   "source": [
    "# Gender 컬럼에서 Male -> 0으로 Female -> 1로 변경\n",
    "bmi[\"Gender\"] = bmi[\"Gender\"].map({\"Male\":0, \"Female\":1})\n",
    "\n",
    "bmi.head()"
   ]
  },
  {
   "cell_type": "code",
   "execution_count": 23,
   "id": "741e4cb3",
   "metadata": {},
   "outputs": [
    {
     "data": {
      "text/plain": [
       "((500, 3), (500,))"
      ]
     },
     "execution_count": 23,
     "metadata": {},
     "output_type": "execute_result"
    }
   ],
   "source": [
    "# 특성데이터와 라벨데이터로 분리\n",
    "bmi_X = bmi.loc[:, \"Gender\":\"Weight\"]\n",
    "bmi_y = bmi.loc[:, \"Label\"]\n",
    "\n",
    "bmi_X.shape, bmi_y.shape"
   ]
  },
  {
   "cell_type": "code",
   "execution_count": 24,
   "id": "9fd8149f",
   "metadata": {},
   "outputs": [
    {
     "data": {
      "text/plain": [
       "((350, 3), (350,), (150, 3), (150,))"
      ]
     },
     "execution_count": 24,
     "metadata": {},
     "output_type": "execute_result"
    }
   ],
   "source": [
    "# 훈련데이터와 테스트데이터로 분리 (훈련 70%, 테스트 30%)\n",
    "X_train = bmi_X.iloc[:350, :]\n",
    "y_train = bmi_y.iloc[:350]\n",
    "X_test = bmi_X.iloc[350:, :]\n",
    "y_test = bmi_y.iloc[350:]\n",
    "\n",
    "X_train.shape, y_train.shape, X_test.shape, y_test.shape"
   ]
  },
  {
   "cell_type": "code",
   "execution_count": 25,
   "id": "999d3181",
   "metadata": {},
   "outputs": [],
   "source": [
    "# 이웃의 수마다의 정확도\n",
    "train_acc = []\n",
    "test_acc = []\n",
    "\n",
    "# 사용할 이웃의 범위 값들을 정의\n",
    "neighbor = range(1, 20)\n",
    "\n",
    "for n in neighbor :\n",
    "    knn_model = KNeighborsClassifier(n_neighbors=n)\n",
    "    knn_model.fit(X_train, y_train)\n",
    "    \n",
    "    # 이웃의 수마다의 훈련데이터 정확도와 테스트데이터 정확도를 리스트에 저장\n",
    "    train_acc.append(knn_model.score(X_train, y_train))\n",
    "    test_acc.append(knn_model.score(X_test, y_test))"
   ]
  },
  {
   "cell_type": "code",
   "execution_count": 26,
   "id": "4205b041",
   "metadata": {},
   "outputs": [
    {
     "data": {
      "text/plain": [
       "<matplotlib.legend.Legend at 0x1b430b32190>"
      ]
     },
     "execution_count": 26,
     "metadata": {},
     "output_type": "execute_result"
    },
    {
     "data": {
      "image/png": "[encoded data removed]",
      "text/plain": [
       "<Figure size 432x288 with 1 Axes>"
      ]
     },
     "metadata": {
      "needs_background": "light"
     },
     "output_type": "display_data"
    }
   ],
   "source": [
    "# 시각화\n",
    "import matplotlib.pyplot as plt\n",
    "\n",
    "plt.plot(neighbor, train_acc, label=\"Train\")\n",
    "plt.plot(neighbor, test_acc, label=\"Test\")\n",
    "plt.legend()"
   ]
  },
  {
   "cell_type": "markdown",
   "id": "e797f1fd",
   "metadata": {},
   "source": [
    "- 특성들끼리 각각 곱해서 새로운 특성을 추가"
   ]
  },
  {
   "cell_type": "code",
   "execution_count": 27,
   "id": "e68c8c31",
   "metadata": {},
   "outputs": [
    {
     "data": {
      "text/html": [
       "<div>\n",
       "<style scoped>\n",
       "    .dataframe tbody tr th:only-of-type {\n",
       "        vertical-align: middle;\n",
       "    }\n",
       "\n",
       "    .dataframe tbody tr th {\n",
       "        vertical-align: top;\n",
       "    }\n",
       "\n",
       "    .dataframe thead th {\n",
       "        text-align: right;\n",
       "    }\n",
       "</style>\n",
       "<table border=\"1\" class=\"dataframe\">\n",
       "  <thead>\n",
       "    <tr style=\"text-align: right;\">\n",
       "      <th></th>\n",
       "      <th>Gender</th>\n",
       "      <th>Height</th>\n",
       "      <th>Weight</th>\n",
       "      <th>GenderxGender</th>\n",
       "      <th>GenderxHeight</th>\n",
       "      <th>GenderxWeight</th>\n",
       "      <th>HeightxHeight</th>\n",
       "      <th>HeightxWeight</th>\n",
       "      <th>WeightxWeight</th>\n",
       "    </tr>\n",
       "  </thead>\n",
       "  <tbody>\n",
       "    <tr>\n",
       "      <th>0</th>\n",
       "      <td>0</td>\n",
       "      <td>174</td>\n",
       "      <td>96</td>\n",
       "      <td>0</td>\n",
       "      <td>0</td>\n",
       "      <td>0</td>\n",
       "      <td>30276</td>\n",
       "      <td>16704</td>\n",
       "      <td>9216</td>\n",
       "    </tr>\n",
       "    <tr>\n",
       "      <th>1</th>\n",
       "      <td>0</td>\n",
       "      <td>189</td>\n",
       "      <td>87</td>\n",
       "      <td>0</td>\n",
       "      <td>0</td>\n",
       "      <td>0</td>\n",
       "      <td>35721</td>\n",
       "      <td>16443</td>\n",
       "      <td>7569</td>\n",
       "    </tr>\n",
       "    <tr>\n",
       "      <th>2</th>\n",
       "      <td>1</td>\n",
       "      <td>185</td>\n",
       "      <td>110</td>\n",
       "      <td>1</td>\n",
       "      <td>185</td>\n",
       "      <td>110</td>\n",
       "      <td>34225</td>\n",
       "      <td>20350</td>\n",
       "      <td>12100</td>\n",
       "    </tr>\n",
       "    <tr>\n",
       "      <th>3</th>\n",
       "      <td>1</td>\n",
       "      <td>195</td>\n",
       "      <td>104</td>\n",
       "      <td>1</td>\n",
       "      <td>195</td>\n",
       "      <td>104</td>\n",
       "      <td>38025</td>\n",
       "      <td>20280</td>\n",
       "      <td>10816</td>\n",
       "    </tr>\n",
       "    <tr>\n",
       "      <th>4</th>\n",
       "      <td>0</td>\n",
       "      <td>149</td>\n",
       "      <td>61</td>\n",
       "      <td>0</td>\n",
       "      <td>0</td>\n",
       "      <td>0</td>\n",
       "      <td>22201</td>\n",
       "      <td>9089</td>\n",
       "      <td>3721</td>\n",
       "    </tr>\n",
       "  </tbody>\n",
       "</table>\n",
       "</div>"
      ],
      "text/plain": [
       "   Gender  Height  Weight  GenderxGender  GenderxHeight  GenderxWeight  \\\n",
       "0       0     174      96              0              0              0   \n",
       "1       0     189      87              0              0              0   \n",
       "2       1     185     110              1            185            110   \n",
       "3       1     195     104              1            195            104   \n",
       "4       0     149      61              0              0              0   \n",
       "\n",
       "   HeightxHeight  HeightxWeight  WeightxWeight  \n",
       "0          30276          16704           9216  \n",
       "1          35721          16443           7569  \n",
       "2          34225          20350          12100  \n",
       "3          38025          20280          10816  \n",
       "4          22201           9089           3721  "
      ]
     },
     "execution_count": 27,
     "metadata": {},
     "output_type": "execute_result"
    }
   ],
   "source": [
    "X_train2 = X_train.copy()\n",
    "\n",
    "# 컬럼의 이름들을 가져온다\n",
    "col = X_train2.columns\n",
    "\n",
    "for i in range(col.size) :\n",
    "    for j in range(i, col.size) :\n",
    "        X_train2[col[i] + \"x\" + col[j]] = X_train2[col[i]] * X_train2[col[j]]\n",
    "        \n",
    "X_train2.head()        "
   ]
  },
  {
   "cell_type": "code",
   "execution_count": 28,
   "id": "131b4fe2",
   "metadata": {},
   "outputs": [
    {
     "data": {
      "text/html": [
       "<div>\n",
       "<style scoped>\n",
       "    .dataframe tbody tr th:only-of-type {\n",
       "        vertical-align: middle;\n",
       "    }\n",
       "\n",
       "    .dataframe tbody tr th {\n",
       "        vertical-align: top;\n",
       "    }\n",
       "\n",
       "    .dataframe thead th {\n",
       "        text-align: right;\n",
       "    }\n",
       "</style>\n",
       "<table border=\"1\" class=\"dataframe\">\n",
       "  <thead>\n",
       "    <tr style=\"text-align: right;\">\n",
       "      <th></th>\n",
       "      <th>Gender</th>\n",
       "      <th>Height</th>\n",
       "      <th>Weight</th>\n",
       "      <th>GenderxGender</th>\n",
       "      <th>GenderxHeight</th>\n",
       "      <th>GenderxWeight</th>\n",
       "      <th>HeightxHeight</th>\n",
       "      <th>HeightxWeight</th>\n",
       "      <th>WeightxWeight</th>\n",
       "    </tr>\n",
       "  </thead>\n",
       "  <tbody>\n",
       "    <tr>\n",
       "      <th>350</th>\n",
       "      <td>0</td>\n",
       "      <td>184</td>\n",
       "      <td>83</td>\n",
       "      <td>0</td>\n",
       "      <td>0</td>\n",
       "      <td>0</td>\n",
       "      <td>33856</td>\n",
       "      <td>15272</td>\n",
       "      <td>6889</td>\n",
       "    </tr>\n",
       "    <tr>\n",
       "      <th>351</th>\n",
       "      <td>0</td>\n",
       "      <td>197</td>\n",
       "      <td>88</td>\n",
       "      <td>0</td>\n",
       "      <td>0</td>\n",
       "      <td>0</td>\n",
       "      <td>38809</td>\n",
       "      <td>17336</td>\n",
       "      <td>7744</td>\n",
       "    </tr>\n",
       "    <tr>\n",
       "      <th>352</th>\n",
       "      <td>1</td>\n",
       "      <td>160</td>\n",
       "      <td>51</td>\n",
       "      <td>1</td>\n",
       "      <td>160</td>\n",
       "      <td>51</td>\n",
       "      <td>25600</td>\n",
       "      <td>8160</td>\n",
       "      <td>2601</td>\n",
       "    </tr>\n",
       "    <tr>\n",
       "      <th>353</th>\n",
       "      <td>0</td>\n",
       "      <td>184</td>\n",
       "      <td>153</td>\n",
       "      <td>0</td>\n",
       "      <td>0</td>\n",
       "      <td>0</td>\n",
       "      <td>33856</td>\n",
       "      <td>28152</td>\n",
       "      <td>23409</td>\n",
       "    </tr>\n",
       "    <tr>\n",
       "      <th>354</th>\n",
       "      <td>0</td>\n",
       "      <td>190</td>\n",
       "      <td>50</td>\n",
       "      <td>0</td>\n",
       "      <td>0</td>\n",
       "      <td>0</td>\n",
       "      <td>36100</td>\n",
       "      <td>9500</td>\n",
       "      <td>2500</td>\n",
       "    </tr>\n",
       "  </tbody>\n",
       "</table>\n",
       "</div>"
      ],
      "text/plain": [
       "     Gender  Height  Weight  GenderxGender  GenderxHeight  GenderxWeight  \\\n",
       "350       0     184      83              0              0              0   \n",
       "351       0     197      88              0              0              0   \n",
       "352       1     160      51              1            160             51   \n",
       "353       0     184     153              0              0              0   \n",
       "354       0     190      50              0              0              0   \n",
       "\n",
       "     HeightxHeight  HeightxWeight  WeightxWeight  \n",
       "350          33856          15272           6889  \n",
       "351          38809          17336           7744  \n",
       "352          25600           8160           2601  \n",
       "353          33856          28152          23409  \n",
       "354          36100           9500           2500  "
      ]
     },
     "execution_count": 28,
     "metadata": {},
     "output_type": "execute_result"
    }
   ],
   "source": [
    "X_test2 = X_test.copy()\n",
    "\n",
    "# 컬럼의 이름들을 가져온다\n",
    "col = X_test2.columns\n",
    "\n",
    "for i in range(col.size) :\n",
    "    for j in range(i, col.size) :\n",
    "        X_test2[col[i] + \"x\" + col[j]] = X_test2[col[i]] * X_test2[col[j]]\n",
    "        \n",
    "X_test2.head()  "
   ]
  },
  {
   "cell_type": "code",
   "execution_count": null,
   "id": "c23dc04f",
   "metadata": {},
   "outputs": [],
   "source": []
  },
  {
   "cell_type": "code",
   "execution_count": null,
   "id": "b89edaa0",
   "metadata": {},
   "outputs": [],
   "source": []
  },
  {
   "cell_type": "code",
   "execution_count": null,
   "id": "547a247c",
   "metadata": {},
   "outputs": [],
   "source": []
  },
  {
   "cell_type": "code",
   "execution_count": null,
   "id": "b048756d",
   "metadata": {},
   "outputs": [],
   "source": []
  },
  {
   "cell_type": "code",
   "execution_count": null,
   "id": "3940713d",
   "metadata": {},
   "outputs": [],
   "source": []
  },
  {
   "cell_type": "code",
   "execution_count": null,
   "id": "416241b8",
   "metadata": {},
   "outputs": [],
   "source": []
  },
  {
   "cell_type": "code",
   "execution_count": null,
   "id": "cd0f71c0",
   "metadata": {},
   "outputs": [],
   "source": []
  },
  {
   "cell_type": "code",
   "execution_count": null,
   "id": "885f8ae9",
   "metadata": {},
   "outputs": [],
   "source": []
  },
  {
   "cell_type": "code",
   "execution_count": null,
   "id": "0823ddfd",
   "metadata": {},
   "outputs": [],
   "source": []
  }
 ],
 "metadata": {
  "kernelspec": {
   "display_name": "Python 3 (ipykernel)",
   "language": "python",
   "name": "python3"
  },
  "language_info": {
   "codemirror_mode": {
    "name": "ipython",
    "version": 3
   },
   "file_extension": ".py",
   "mimetype": "text/x-python",
   "name": "python",
   "nbconvert_exporter": "python",
   "pygments_lexer": "ipython3",
   "version": "3.9.12"
  },
  "toc": {
   "base_numbering": 1,
   "nav_menu": {},
   "number_sections": true,
   "sideBar": true,
   "skip_h1_title": false,
   "title_cell": "Table of Contents",
   "title_sidebar": "Contents",
   "toc_cell": false,
   "toc_position": {},
   "toc_section_display": true,
   "toc_window_display": false
  }
 },
 "nbformat": 4,
 "nbformat_minor": 5
}
