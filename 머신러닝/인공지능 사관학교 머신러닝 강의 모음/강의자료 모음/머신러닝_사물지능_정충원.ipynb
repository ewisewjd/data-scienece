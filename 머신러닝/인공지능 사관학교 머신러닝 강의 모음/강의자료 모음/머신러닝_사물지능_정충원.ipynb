{
 "cells": [
  {
   "cell_type": "markdown",
   "id": "11d8dd86",
   "metadata": {},
   "source": [
    "# 정답\n"
   ]
  },
  {
   "cell_type": "markdown",
   "id": "ada2eb76",
   "metadata": {},
   "source": [
    "- 지도학습: (라벨데이터- 정답이 주어진것) (분류, 회귀, 추천시스템, 시각/음성감지, 텍스트분석)\n",
    "    - 1,3, 4,5, 8\n",
    "\n",
    "- 비지도 학습:(라벨데이터- 정답이 없는것)( 클러스터링, 차원축소, 강화학습)\n",
    "    - 2,  6, 7"
   ]
  },
  {
   "cell_type": "markdown",
   "id": "3b094245",
   "metadata": {},
   "source": [
    "# 정답"
   ]
  },
  {
   "cell_type": "markdown",
   "id": "6fee881f",
   "metadata": {},
   "source": [
    "- 정답: \n",
    "    - ㄱ: a\n",
    "    - ㄴ: b\n",
    "    - ㄷ: a\n",
    "    - ㄹ: b"
   ]
  },
  {
   "cell_type": "markdown",
   "id": "2024a177",
   "metadata": {},
   "source": [
    "# 정답"
   ]
  },
  {
   "cell_type": "markdown",
   "id": "61837bf3",
   "metadata": {},
   "source": [
    "- 정답: 지도학습\n"
   ]
  },
  {
   "cell_type": "markdown",
   "id": "0206823f",
   "metadata": {},
   "source": [
    "# 정답"
   ]
  },
  {
   "cell_type": "markdown",
   "id": "4ea8d8ea",
   "metadata": {},
   "source": [
    "- 정답: 비지도학습"
   ]
  },
  {
   "cell_type": "markdown",
   "id": "a75d1cea",
   "metadata": {},
   "source": [
    "# 정답"
   ]
  },
  {
   "cell_type": "markdown",
   "id": "f591a1ee",
   "metadata": {},
   "source": [
    "- 정답: 1,3,5"
   ]
  },
  {
   "cell_type": "markdown",
   "id": "5c04176d",
   "metadata": {},
   "source": [
    "# 정답"
   ]
  },
  {
   "cell_type": "markdown",
   "id": "8ef727b4",
   "metadata": {},
   "source": [
    "- 정답: 2, 3, 8"
   ]
  },
  {
   "cell_type": "markdown",
   "id": "01ae44e2",
   "metadata": {},
   "source": [
    "# 정답"
   ]
  },
  {
   "cell_type": "markdown",
   "id": "95f1d24d",
   "metadata": {},
   "source": [
    "- 정답: 3, 4, 5, 7"
   ]
  },
  {
   "cell_type": "markdown",
   "id": "62586adf",
   "metadata": {},
   "source": [
    "# 정답"
   ]
  },
  {
   "cell_type": "markdown",
   "id": "2fcfeeca",
   "metadata": {},
   "source": [
    "- 정답\n",
    "    - 1. max_depth\n",
    "    - 2. max_leaf_node\n",
    "    - 3. min_samples_split\n",
    "    - 4. min_samples_leaf"
   ]
  },
  {
   "cell_type": "markdown",
   "id": "1eafbc4f",
   "metadata": {},
   "source": [
    "#  정답"
   ]
  },
  {
   "cell_type": "markdown",
   "id": "bb1b0102",
   "metadata": {},
   "source": [
    "- 정답: 3, 4,6"
   ]
  },
  {
   "cell_type": "markdown",
   "id": "5ba91bfb",
   "metadata": {},
   "source": [
    "# 정답"
   ]
  },
  {
   "cell_type": "markdown",
   "id": "fef7edf9",
   "metadata": {},
   "source": [
    "- 정답: 1, 3"
   ]
  },
  {
   "cell_type": "markdown",
   "id": "c8827181",
   "metadata": {},
   "source": [
    "# 정답"
   ]
  },
  {
   "cell_type": "markdown",
   "id": "de7c72dd",
   "metadata": {},
   "source": [
    "##  정답"
   ]
  },
  {
   "cell_type": "markdown",
   "id": "8353b024",
   "metadata": {},
   "source": [
    "- 정답:\n",
    "    - 정밀도: 2, 3\n",
    "    - 재현율: 1, 4 "
   ]
  },
  {
   "cell_type": "markdown",
   "id": "176357e0",
   "metadata": {},
   "source": [
    "## 정답"
   ]
  },
  {
   "cell_type": "markdown",
   "id": "9f663966",
   "metadata": {},
   "source": [
    "- 정답:\n",
    "    - 정확도: 예측결과가 동일한 데이터 건수/ 전체 예측 데이터 건수=> 0.95\n",
    "    - 정밀도: 0\n",
    "    - 재현율: 0"
   ]
  },
  {
   "cell_type": "markdown",
   "id": "423d238a",
   "metadata": {},
   "source": [
    "## 정답"
   ]
  },
  {
   "cell_type": "markdown",
   "id": "9602c6c2",
   "metadata": {},
   "source": [
    "- 정답: 3,4,5,6 "
   ]
  },
  {
   "cell_type": "markdown",
   "id": "68050df3",
   "metadata": {},
   "source": [
    "# 정답- 여기서부터 2과목"
   ]
  },
  {
   "cell_type": "markdown",
   "id": "d65d5825",
   "metadata": {},
   "source": [
    "- 정답: ㅁ-> ㄱ-> ㄷ->ㄴ->ㄹ"
   ]
  },
  {
   "cell_type": "markdown",
   "id": "89676967",
   "metadata": {},
   "source": [
    "# 정답"
   ]
  },
  {
   "cell_type": "markdown",
   "id": "bade7128",
   "metadata": {},
   "source": [
    "- 정답; 2, "
   ]
  },
  {
   "cell_type": "markdown",
   "id": "486e17cf",
   "metadata": {},
   "source": [
    "# 정답 "
   ]
  },
  {
   "cell_type": "markdown",
   "id": "4ec9a74b",
   "metadata": {},
   "source": [
    "- 정답 :1, 4"
   ]
  },
  {
   "cell_type": "markdown",
   "id": "26f7ed77",
   "metadata": {},
   "source": [
    "# 정답"
   ]
  },
  {
   "cell_type": "markdown",
   "id": "030729d2",
   "metadata": {},
   "source": [
    "## 정답"
   ]
  },
  {
   "cell_type": "markdown",
   "id": "2376adb5",
   "metadata": {},
   "source": [
    "- 정답: 3,4"
   ]
  },
  {
   "cell_type": "markdown",
   "id": "1c39444a",
   "metadata": {},
   "source": [
    "## 정답"
   ]
  },
  {
   "cell_type": "markdown",
   "id": "0adcc49a",
   "metadata": {},
   "source": [
    "- 정답: overfit -과적합"
   ]
  },
  {
   "cell_type": "markdown",
   "id": "9256408f",
   "metadata": {},
   "source": [
    "## 정답"
   ]
  },
  {
   "cell_type": "markdown",
   "id": "cc40876d",
   "metadata": {},
   "source": [
    "- 정답: 7:3 -> 30%"
   ]
  },
  {
   "cell_type": "markdown",
   "id": "556b649c",
   "metadata": {},
   "source": [
    "# 정답"
   ]
  },
  {
   "cell_type": "code",
   "execution_count": 19,
   "id": "fd92d3ee",
   "metadata": {},
   "outputs": [
    {
     "name": "stdout",
     "output_type": "stream",
     "text": [
      "정확도:  [1.         1.         1.         0.88888889 1.        ]\n"
     ]
    }
   ],
   "source": [
    "from sklearn.datasets import load_iris\n",
    "from sklearn.model_selection import train_test_split\n",
    "from sklearn.neighbors import KNeighborsClassifier\n",
    "from sklearn.model_selection import cross_val_score\n",
    "\n",
    "# 1.번 iris data 불러오기 \n",
    "data=load_iris()\n",
    "\n",
    "# 2.번 iris data를  문제와 답으로 분리\n",
    "X= data.data\n",
    "y= data.target\n",
    "\n",
    "# 3.번 분리된 문제와 답을 train과 test 데이터로 분리\n",
    "X_train,X_test, y_train, y_test=train_test_split(X,y, random_state=805, test_size=0.3)\n",
    "X_train.shape, X_test.shape\n",
    "y_train.shape, y_test.shape\n",
    "\n",
    "# 4. kn 분류기 모델생성 \n",
    "knn_model=KNeighborsClassifier(n_neighbors=3)\n",
    "knn_model.fit(X_train,y_train)\n",
    "\n",
    "# 5.교차검증 실행 \n",
    "score=cross_val_score(knn_model, X_test,y_test, cv=5)\n",
    "\n",
    "# 6.결과확인 \n",
    "print(\"정확도: \",score)"
   ]
  },
  {
   "cell_type": "code",
   "execution_count": 12,
   "id": "b2563306",
   "metadata": {},
   "outputs": [
    {
     "data": {
      "text/plain": [
       "((105, 4), (45, 4))"
      ]
     },
     "execution_count": 12,
     "metadata": {},
     "output_type": "execute_result"
    }
   ],
   "source": [
    "X_train.shape, X_test.shape"
   ]
  },
  {
   "cell_type": "code",
   "execution_count": 13,
   "id": "0fdc3ddd",
   "metadata": {},
   "outputs": [
    {
     "data": {
      "text/plain": [
       "((105,), (45,))"
      ]
     },
     "execution_count": 13,
     "metadata": {},
     "output_type": "execute_result"
    }
   ],
   "source": [
    "y_train.shape, y_test.shape"
   ]
  },
  {
   "cell_type": "markdown",
   "id": "3943bc3b",
   "metadata": {},
   "source": [
    "# 정답"
   ]
  },
  {
   "cell_type": "markdown",
   "id": "0914659c",
   "metadata": {},
   "source": [
    "- 정답: 2"
   ]
  },
  {
   "cell_type": "markdown",
   "id": "d04445c7",
   "metadata": {},
   "source": [
    "# 정답"
   ]
  },
  {
   "cell_type": "markdown",
   "id": "72535fee",
   "metadata": {},
   "source": [
    "## 정답"
   ]
  },
  {
   "cell_type": "markdown",
   "id": "d13b5d3a",
   "metadata": {},
   "source": [
    "- 원핫인코딩 "
   ]
  },
  {
   "cell_type": "markdown",
   "id": "0f4b52c9",
   "metadata": {},
   "source": [
    "## 정답"
   ]
  },
  {
   "cell_type": "markdown",
   "id": "92b05085",
   "metadata": {},
   "source": [
    "- 정답: 1, 2"
   ]
  },
  {
   "cell_type": "code",
   "execution_count": null,
   "id": "30e0e4ed",
   "metadata": {},
   "outputs": [],
   "source": []
  }
 ],
 "metadata": {
  "kernelspec": {
   "display_name": "Python 3 (ipykernel)",
   "language": "python",
   "name": "python3"
  },
  "language_info": {
   "codemirror_mode": {
    "name": "ipython",
    "version": 3
   },
   "file_extension": ".py",
   "mimetype": "text/x-python",
   "name": "python",
   "nbconvert_exporter": "python",
   "pygments_lexer": "ipython3",
   "version": "3.9.12"
  },
  "toc": {
   "base_numbering": 1,
   "nav_menu": {},
   "number_sections": true,
   "sideBar": true,
   "skip_h1_title": false,
   "title_cell": "Table of Contents",
   "title_sidebar": "Contents",
   "toc_cell": false,
   "toc_position": {},
   "toc_section_display": true,
   "toc_window_display": false
  }
 },
 "nbformat": 4,
 "nbformat_minor": 5
}
