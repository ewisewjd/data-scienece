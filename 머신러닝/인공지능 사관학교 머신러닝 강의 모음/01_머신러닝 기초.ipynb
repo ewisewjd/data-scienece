{
 "cells": [
  {
   "cell_type": "markdown",
   "id": "f36da6de",
   "metadata": {},
   "source": [
    "# 머신러닝 학습 방법\n",
    "\n",
    "- 거리 기반 학습\n",
    "- 수식 기반 학습\n",
    "- 논리 기반 학습\n",
    "- 확률 기반 학습(나이브 베이즈 Naive Bayes )"
   ]
  },
  {
   "cell_type": "markdown",
   "id": "54f6dc44",
   "metadata": {},
   "source": [
    "## 거리 기반 학습으로 AND 논리를 학습하는 모델을 만들자\n",
    "\n",
    "- 머신러닝 모델 종류: knn, svm\n"
   ]
  },
  {
   "cell_type": "code",
   "execution_count": 1,
   "id": "40c15f8c",
   "metadata": {},
   "outputs": [
    {
     "data": {
      "text/plain": [
       "[[0, 0, 0], [0, 1, 0], [1, 0, 0], [1, 1, 1]]"
      ]
     },
     "execution_count": 1,
     "metadata": {},
     "output_type": "execute_result"
    }
   ],
   "source": [
    "# AND 논리선언\n",
    "data=[[0,0,0],\n",
    "     [0,1,0],\n",
    "     [1,0,0],\n",
    "     [1,1,1]]\n",
    "data"
   ]
  },
  {
   "cell_type": "code",
   "execution_count": 2,
   "id": "265b8ccd",
   "metadata": {},
   "outputs": [
    {
     "data": {
      "text/plain": [
       "[[150, 40, '저체중'],\n",
       " [200, 100, '비만'],\n",
       " [180, 150, '초고도 비만'],\n",
       " [160, 40, '저체중'],\n",
       " [170, 70, '정상']]"
      ]
     },
     "execution_count": 2,
     "metadata": {},
     "output_type": "execute_result"
    }
   ],
   "source": [
    "data2=[[150,40,\"저체중\"],\n",
    "      [200,100,'비만'],\n",
    "      [180,150,\"초고도 비만\"],\n",
    "      [160,40,\"저체중\"],\n",
    "      [170,70,\"정상\"]]\n",
    "data2"
   ]
  },
  {
   "cell_type": "code",
   "execution_count": 3,
   "id": "14229701",
   "metadata": {},
   "outputs": [
    {
     "name": "stdout",
     "output_type": "stream",
     "text": [
      "초고도 비만\n"
     ]
    }
   ],
   "source": [
    "# 함수를 선언해서 거리기반을 판단 모델을 만들어 보자\n",
    "#입력된 데이터(x1,x2)에서 가장 가까운 데이터의 라벨을 출력\n",
    "def distanceML(x1,x2):\n",
    "    #최종 결과값을 저장하기 위한 변수\n",
    "    result=0\n",
    "    #최소 거리를 비교하기 위한 값\n",
    "    minDis=99\n",
    "    \n",
    "    #전체 데이터에서 한행씩 데이터를 가져온다.\n",
    "    #특성 데이터와 라벨 데이터를 분리\n",
    "    for row in data2:\n",
    "        X=row[:2]\n",
    "        y=row[-1]\n",
    "        \n",
    "        #print(X,y)\n",
    "        #입력된 데이터 (X1, X2)와 각 특성데이터 간의 거리 계산\n",
    "        dis=abs(x1-X[0])+abs(x2-X[1]) # 같은 위치의 값끼리 빼 주어서 서로의 거리를 계산 한다. # 거리는 음수가 없으므로 절대값 or 제곱을 이용한다. \n",
    "        \n",
    "        #거리가 최소인 데이터를 찾아서 라벨 값을 반환\n",
    "        if minDis> dis:\n",
    "            minDis=dis\n",
    "            result=y\n",
    "    \n",
    "    #거리가 가장 작은 데이터의 라벨값을 반환\n",
    "    return result\n",
    "        \n",
    "print(distanceML(180,125))\n"
   ]
  },
  {
   "cell_type": "markdown",
   "id": "a5941bb9",
   "metadata": {},
   "source": [
    "## 수식 기반 학습으로 AND 논리를 학습하는 모델을 만들자\n",
    "\n",
    "- Linear Regression (선형 회귀), Ridge, Lasso\n",
    "- Logisitic Regression"
   ]
  },
  {
   "cell_type": "code",
   "execution_count": 4,
   "id": "497f9b8b",
   "metadata": {},
   "outputs": [
    {
     "data": {
      "text/plain": [
       "[[0, 0, 0], [0, 1, 0], [1, 0, 0], [1, 1, 1]]"
      ]
     },
     "execution_count": 4,
     "metadata": {},
     "output_type": "execute_result"
    }
   ],
   "source": [
    "data=[[0,0,0],\n",
    "     [0,1,0],\n",
    "     [1,0,0],\n",
    "     [1,1,1]]\n",
    "data"
   ]
  },
  {
   "cell_type": "code",
   "execution_count": 5,
   "id": "504f1fbc",
   "metadata": {},
   "outputs": [
    {
     "name": "stdout",
     "output_type": "stream",
     "text": [
      "0\n",
      "0\n",
      "0\n",
      "1\n"
     ]
    }
   ],
   "source": [
    "def andML(x1,x2):\n",
    "    w1,w2,b= 1,1,-1 #여러분이 직접 맞춰보세요(-1.0과 1.0 사이에 실수값)\n",
    "    \n",
    "    # and 논리를 만드는 수식\n",
    "    temp= w1 *x1 +w2 *x2+b\n",
    "    \n",
    "    if temp<=0.5:\n",
    "              \n",
    "        return 0\n",
    "    \n",
    "    else:\n",
    "        \n",
    "        return 1\n",
    "    \n",
    "print(andML(0,0))\n",
    "print(andML(0,1))\n",
    "print(andML(1,0))\n",
    "print(andML(1,1))"
   ]
  },
  {
   "cell_type": "markdown",
   "id": "ada5707a",
   "metadata": {},
   "source": [
    "## 논리 기반 학습으로 AND논리를 학습하는 모델을 만들자\n",
    "\n",
    "- Decision Tree(의사결정)"
   ]
  },
  {
   "cell_type": "code",
   "execution_count": 6,
   "id": "a7224784",
   "metadata": {},
   "outputs": [
    {
     "name": "stdout",
     "output_type": "stream",
     "text": [
      "0\n",
      "0\n",
      "0\n",
      "1\n"
     ]
    }
   ],
   "source": [
    "def logicalML(x1,x2):\n",
    "    if x1== 0 and x2==0:\n",
    "        return 0\n",
    "    elif x1==1 and x2==0:\n",
    "        return 0\n",
    "    elif x1==0 and x2==1:\n",
    "        return 0\n",
    "    elif x1==1 and x2==1:\n",
    "        return 1\n",
    "    \n",
    "print(logicalML(0,0))\n",
    "print(logicalML(0,1))\n",
    "print(logicalML(1,0))\n",
    "print(logicalML(1,1))"
   ]
  },
  {
   "cell_type": "markdown",
   "id": "766ca90e",
   "metadata": {},
   "source": [
    "## 앙상블 (Ensemble)\n",
    "\n",
    "- 랜덤 포레스트 (Random Forest), Adaboost, GBM, Xgboost, LightGBM등등 \n",
    "- 여러개의 모델을 사용해서 투표나 확률을 계산하는 방식 -voting, stacking\n",
    "- 데이터를 쪼개서 적용하는 방식 -bagging, boosting\n"
   ]
  },
  {
   "cell_type": "markdown",
   "id": "279680af",
   "metadata": {},
   "source": [
    "# scikit- learn 프레임 워크를 활용한 학습\n",
    "- scikit-learn 프레임 워크 : 머신러닝과 관련된 데이터, 모델, 함수등을 다양하게 제공하는 가장 많이 사용되는 머신러닝 프레임 워크 "
   ]
  },
  {
   "cell_type": "code",
   "execution_count": 15,
   "id": "2cc7b2d4",
   "metadata": {
    "scrolled": false
   },
   "outputs": [
    {
     "data": {
      "text/html": [
       "<div>\n",
       "<style scoped>\n",
       "    .dataframe tbody tr th:only-of-type {\n",
       "        vertical-align: middle;\n",
       "    }\n",
       "\n",
       "    .dataframe tbody tr th {\n",
       "        vertical-align: top;\n",
       "    }\n",
       "\n",
       "    .dataframe thead th {\n",
       "        text-align: right;\n",
       "    }\n",
       "</style>\n",
       "<table border=\"1\" class=\"dataframe\">\n",
       "  <thead>\n",
       "    <tr style=\"text-align: right;\">\n",
       "      <th></th>\n",
       "      <th>A</th>\n",
       "      <th>B</th>\n",
       "      <th>AND</th>\n",
       "    </tr>\n",
       "  </thead>\n",
       "  <tbody>\n",
       "    <tr>\n",
       "      <th>0</th>\n",
       "      <td>0</td>\n",
       "      <td>0</td>\n",
       "      <td>0</td>\n",
       "    </tr>\n",
       "    <tr>\n",
       "      <th>1</th>\n",
       "      <td>0</td>\n",
       "      <td>1</td>\n",
       "      <td>0</td>\n",
       "    </tr>\n",
       "    <tr>\n",
       "      <th>2</th>\n",
       "      <td>1</td>\n",
       "      <td>0</td>\n",
       "      <td>0</td>\n",
       "    </tr>\n",
       "    <tr>\n",
       "      <th>3</th>\n",
       "      <td>1</td>\n",
       "      <td>1</td>\n",
       "      <td>1</td>\n",
       "    </tr>\n",
       "  </tbody>\n",
       "</table>\n",
       "</div>"
      ],
      "text/plain": [
       "   A  B  AND\n",
       "0  0  0    0\n",
       "1  0  1    0\n",
       "2  1  0    0\n",
       "3  1  1    1"
      ]
     },
     "execution_count": 15,
     "metadata": {},
     "output_type": "execute_result"
    }
   ],
   "source": [
    "# AND 논리선언\n",
    "data=[[0,0,0],\n",
    "     [0,1,0],\n",
    "     [1,0,0],\n",
    "     [1,1,1]]\n",
    "data\n",
    "\n",
    "#데이터를 pandas 데이터로 변환\n",
    "import pandas as pd\n",
    "df=pd.DataFrame(data, columns=['A','B','AND'])\n",
    "df"
   ]
  },
  {
   "cell_type": "code",
   "execution_count": 22,
   "id": "31a6d7ff",
   "metadata": {},
   "outputs": [],
   "source": [
    "#특성데이터와 라벨데이터로 분리\n",
    "X=df.iloc[:,:2]\n",
    "y=df.iloc[:,-1]\n",
    "\n",
    "y1=df.iloc[:,2:]"
   ]
  },
  {
   "cell_type": "code",
   "execution_count": 25,
   "id": "cfa8efa8",
   "metadata": {},
   "outputs": [
    {
     "name": "stdout",
     "output_type": "stream",
     "text": [
      "(4,)\n",
      "(4, 1)\n"
     ]
    }
   ],
   "source": [
    "print(y.shape)\n",
    "print(y1.shape)"
   ]
  },
  {
   "cell_type": "code",
   "execution_count": 29,
   "id": "7872525f",
   "metadata": {},
   "outputs": [
    {
     "data": {
      "text/plain": [
       "KNeighborsClassifier(n_neighbors=1)"
      ]
     },
     "execution_count": 29,
     "metadata": {},
     "output_type": "execute_result"
    }
   ],
   "source": [
    "#knn 모델을 로드\n",
    "from sklearn.neighbors import KNeighborsClassifier\n",
    "\n",
    "#모델 생성\n",
    "#n_neighbors: 가까이에 있는 참고하는 데이터의 수\n",
    "knn_model= KNeighborsClassifier(n_neighbors=1)\n",
    "\n",
    "#특성데이터와 라벨 데이터를 입력해서 훈련 - fit(특성데이터, 라벨데이터)\n",
    "knn_model.fit(X,y)"
   ]
  },
  {
   "cell_type": "code",
   "execution_count": 30,
   "id": "b3d55595",
   "metadata": {},
   "outputs": [
    {
     "name": "stderr",
     "output_type": "stream",
     "text": [
      "C:\\Users\\AI\\Anaconda3\\lib\\site-packages\\sklearn\\base.py:450: UserWarning: X does not have valid feature names, but KNeighborsClassifier was fitted with feature names\n",
      "  warnings.warn(\n"
     ]
    },
    {
     "data": {
      "text/plain": [
       "array([1, 0, 0, 0], dtype=int64)"
      ]
     },
     "execution_count": 30,
     "metadata": {},
     "output_type": "execute_result"
    }
   ],
   "source": [
    "# 새로운 데이터를 입력해서 예측\n",
    "new_X=[[1,1],[0,1],[0,0],[1,0]]\n",
    "new_y=[1,0,0,0]\n",
    "\n",
    "pred_y=knn_model.predict(pd.DataFrame(new_X))\n",
    "pred_y"
   ]
  },
  {
   "cell_type": "code",
   "execution_count": 35,
   "id": "63f944ef",
   "metadata": {},
   "outputs": [
    {
     "name": "stdout",
     "output_type": "stream",
     "text": [
      "1.0\n",
      "1.0\n"
     ]
    }
   ],
   "source": [
    "# 성능 평가하기(score, accuracy_score)- 정확도 구하는 함수\n",
    "#score(): 훈련하고 나서 특성데이터와 라벨 데이터로 정확도를 계산\n",
    "#accuracy_score: 예측한 라벨과 원래 라벨을 비교하여 정확도를 계산\n",
    "from sklearn.metrics import accuracy_score\n",
    "\n",
    "print(knn_model.score(X,y))\n",
    "print(accuracy_score(pred_y,new_y))"
   ]
  },
  {
   "cell_type": "code",
   "execution_count": null,
   "id": "ad257c62",
   "metadata": {},
   "outputs": [],
   "source": []
  },
  {
   "cell_type": "code",
   "execution_count": null,
   "id": "e4c0163f",
   "metadata": {},
   "outputs": [],
   "source": []
  }
 ],
 "metadata": {
  "kernelspec": {
   "display_name": "Python 3 (ipykernel)",
   "language": "python",
   "name": "python3"
  },
  "language_info": {
   "codemirror_mode": {
    "name": "ipython",
    "version": 3
   },
   "file_extension": ".py",
   "mimetype": "text/x-python",
   "name": "python",
   "nbconvert_exporter": "python",
   "pygments_lexer": "ipython3",
   "version": "3.9.12"
  },
  "toc": {
   "base_numbering": 1,
   "nav_menu": {},
   "number_sections": true,
   "sideBar": true,
   "skip_h1_title": false,
   "title_cell": "Table of Contents",
   "title_sidebar": "Contents",
   "toc_cell": false,
   "toc_position": {},
   "toc_section_display": true,
   "toc_window_display": false
  }
 },
 "nbformat": 4,
 "nbformat_minor": 5
}
