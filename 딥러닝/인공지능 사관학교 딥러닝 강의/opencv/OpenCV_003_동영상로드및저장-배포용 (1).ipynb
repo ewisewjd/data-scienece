{
 "cells": [
  {
   "cell_type": "markdown",
   "metadata": {},
   "source": [
    "<img src=\"./lecture_image/00_title.png\">"
   ]
  },
  {
   "cell_type": "markdown",
   "metadata": {},
   "source": [
    "<table border=1 width=100%>\n",
    "    <tr><td style=\"border: 1px solid black; width:600px; height:40px; text-align: center;\"><font size=4 color=blue><b>[3차시] 학습목표</b></font></td></tr>       \n",
    "    <tr><td style=\"border: 1px solid black; text-align: left;\"><font size=3>○ 카메라나 동영상으로부터 비디오 프레임 캡처하기<br>\n",
    "○ CCTV 만들기 - 동영상 녹화하기<br>\n",
    "○ 동영상에서 한 프레임을 이미지 파일로 저장하기<br>\n",
    "○ 저장한 이미지들을 동영상으로 만들기<br>\n",
    "○ 유튜브 영상 연동하기<br>\n",
    "        </font></td></tr>   \n",
    "</table>"
   ]
  },
  {
   "cell_type": "markdown",
   "metadata": {
    "id": "gLauf9_UarFp"
   },
   "source": [
    "# 동영상을 읽고 출력하기\n",
    "\n",
    "## 카메라나 동영상으로부터 비디오 프레임 캡처하기\n",
    "\n",
    "- <font color=red>cap = cv2.VideoCapture(0)</font>\n",
    "  - 0번 카메라로부터 비디오 캡처\n",
    "  - 0 대신에 파일명을 입력하면 동영상으로부터 캡처 \n",
    "    - cv2.VideoCapture(“images/video.mp4”)\n",
    "  - IP가 부여된 웹캠인 경우 IP와 카메라 번호를 입력 \n",
    "    - cap = cv2.VideoCapture(\"rtsp:127.0.0.1/0\")\n",
    "  \n",
    "  \n",
    "- <font color=red>w = cap.set(3, 480)</font> : 비디오의 가로 크기 설정\n",
    "- <font color=red>h = cap.set(4, 320)</font> : 비디오의 세로 크기 설정\n",
    "\n",
    "\n",
    "- <font color=red>ret, frame = cap.read()</font> \n",
    "  - 카메라로부터 비디오 파일을 읽고 프레임(frame) 이미지와 읽기성공여부(ret)를 반환 (True/False)\n",
    "\n",
    "\n",
    "- <font color=red>key = cv2.waitKey(33)</font>\n",
    "  - 0.033초동안 키 입력을 대기 (30프레임인 경우)\n",
    "  - key 값은 아스키 코드로 반환\n",
    "  \n",
    "  \n",
    "- <font color=red>cap.release()</font>\n",
    "  - 비디오 객체를 종료하고 메모리를 해제\n",
    "  \n",
    "\n",
    "- 아스키 코드\n",
    "<img src=\"./lecture_image/03_ascii.png\" width=70%>"
   ]
  },
  {
   "cell_type": "code",
   "execution_count": 20,
   "metadata": {
    "colab": {
     "base_uri": "https://localhost:8080/",
     "height": 55
    },
    "executionInfo": {
     "elapsed": 585,
     "status": "ok",
     "timestamp": 1601964088660,
     "user": {
      "displayName": "강성관",
      "photoUrl": "",
      "userId": "00571094306841577419"
     },
     "user_tz": -540
    },
    "id": "Gdu9-Y9LarFn",
    "outputId": "dc8915da-3df0-4d1f-d9fe-4e472c1c0911"
   },
   "outputs": [],
   "source": [
    "import cv2\n",
    "\n",
    "cap = cv2.VideoCapture(\"./image/video.mp4\")\n",
    "\n",
    "# 캡처한 비디오로부터 프레임이미지 (영상을 구성하는 이미지)를 읽는다\n",
    "while True :\n",
    "    # ret : 읽기 성공여부, frame : 읽은 프레임 이미지\n",
    "    ret, frame = cap.read()\n",
    "    \n",
    "    if not ret :    # 이미지를 읽지 못했다면\n",
    "        cap.release()  \n",
    "        cv2.destroyAllWindows()  \n",
    "        break\n",
    "    \n",
    "    cv2.imshow(\"video\", frame)\n",
    "    \n",
    "    key = cv2.waitKey(33)\n",
    "    \n",
    "    if key == 49 :   # 숫자 1을 누르면\n",
    "        cap.release()   # 비디오 객체 해제\n",
    "        cv2.destroyAllWindows()  # 창 닫기\n",
    "        break"
   ]
  },
  {
   "cell_type": "markdown",
   "metadata": {},
   "source": [
    "<table border=1 width=100%>\n",
    "    <tr><td style=\"border: 1px solid black; width:600px; text-align: left;\"><font size=4 color=red><b>실습문제</b></font><br><br>\n",
    "        <font size=4>○ 동영상 파일을 읽고 출력해보자.</font></td></tr>       \n",
    "    <tr><td style=\"border: 1px solid black; text-align: left;\">\n",
    "        <img src=\"./lecture_image/03_movie.png\" width=50%></td></tr>   \n",
    "</table>"
   ]
  },
  {
   "cell_type": "markdown",
   "metadata": {},
   "source": [
    "## 위젯을 이용하여 동영상 출력하기"
   ]
  },
  {
   "cell_type": "code",
   "execution_count": 24,
   "metadata": {},
   "outputs": [
    {
     "data": {
      "application/vnd.jupyter.widget-view+json": {
       "model_id": "96a00718d8874385ae9787c14c25d90a",
       "version_major": 2,
       "version_minor": 0
      },
      "text/plain": [
       "Image(value=b'', format='.jpeg', height='480', width='480')"
      ]
     },
     "metadata": {},
     "output_type": "display_data"
    }
   ],
   "source": [
    "import ipywidgets as widget\n",
    "from IPython.display import display\n",
    "import cv2\n",
    "\n",
    "img_widget = widget.Image(format=\".jpeg\", width=480, height=480)\n",
    "display(img_widget)\n",
    "\n",
    "cap = cv2.VideoCapture(\"./image/video.mp4\")\n",
    "\n",
    "while True :\n",
    "    ret, frame = cap.read()\n",
    "    \n",
    "    if not ret :\n",
    "        cap.release()\n",
    "        break\n",
    "    \n",
    "    try :\n",
    "        cv2.waitKey(33) \n",
    "        _, en_img = cv2.imencode(\".jpeg\", frame)\n",
    "    except KeyboardInterrupt :\n",
    "        cap.release()\n",
    "        break   "
   ]
  },
  {
   "cell_type": "markdown",
   "metadata": {
    "id": "c_T9xGKy7YGH"
   },
   "source": [
    "## CCTV 만들기 - 동영상 녹화하기\n",
    "\n",
    "- <font color=red>codec = cv2.VideoWriter_fourcc('D', 'I', 'V', 'X')</font> : 비디오 타입을 DIVX로 설정\n",
    "\n",
    "<img src=\"./lecture_image/03_codec.png\" width=70%>\n",
    "\n",
    "\n",
    "- <font color=red>out = cv2.VideoWriter('cctv01.avi', codec, fps, (w, h))</font>  \n",
    "  - cctv01.avi 파일에 설정한 코덱, 프레임, 크기로 저장하도록 설정\n",
    "  \n",
    "  \n",
    "- <font color=red>out.write(frame)</font>  : 이미지 프레임을 파일에 쓰기\n",
    "\n",
    "\n",
    "- <font color=red>out.release() </font> : 파일 객체 해제하기"
   ]
  },
  {
   "cell_type": "code",
   "execution_count": 1,
   "metadata": {},
   "outputs": [
    {
     "name": "stdout",
     "output_type": "stream",
     "text": [
      "녹화 시작\n",
      "종료\n"
     ]
    }
   ],
   "source": [
    "import cv2\n",
    "\n",
    "# 카메라로부터 영상을 획득\n",
    "cap = cv2.VideoCapture(0)\n",
    "\n",
    "# 녹화 설정\n",
    "# 초당 프레임 수\n",
    "fps = 30.0\n",
    "w = int(cap.get(3))   # 가로의 크기를 가져온다\n",
    "h = int(cap.get(4))   # 세로의 크기를 가져온다\n",
    "\n",
    "# * : 가변 매개변수 설정\n",
    "codec = cv2.VideoWriter_fourcc(*'DIVX')   # avi 타입으로 저장\n",
    "\n",
    "# 녹화 설정\n",
    "out = cv2.VideoWriter(\"./image/cctv01.avi\", codec, fps, (w, h))\n",
    "print(\"녹화 시작\")\n",
    "\n",
    "record = False    # 처음에는 녹화하지 않음\n",
    "\n",
    "while True :\n",
    "    ret, frame = cap.read()\n",
    "    \n",
    "    if not ret :\n",
    "        print(\"종료\")\n",
    "        out.release()\n",
    "        cap.release()\n",
    "        cv2.destroyAllWindows()\n",
    "        break\n",
    "        \n",
    "    key = cv2.waitKey(33) \n",
    "    \n",
    "    cv2.imshow(\"cctv\", frame)\n",
    "    \n",
    "    # 녹화하기\n",
    "    if record :        \n",
    "        out.write(frame)\n",
    "        \n",
    "    if key == 50 :    # 숫자 2\n",
    "        record = True\n",
    "        \n",
    "    elif key == 49 :\n",
    "        print(\"종료\")\n",
    "        out.release()\n",
    "        cap.release()\n",
    "        cv2.destroyAllWindows()\n",
    "        break"
   ]
  },
  {
   "cell_type": "markdown",
   "metadata": {
    "id": "ARYE0iZR7YGL"
   },
   "source": [
    "# 동영상에서 한 프레임을 이미지 파일로 저장하기\n",
    "\n",
    "- <font color=red>cv2.imwrite(“파일명.확장자”, 프레임이미지, 옵션)</font>\n",
    "  - params=[cv2.IMWRITE_PNG_COMPRESSION, 0]) : 압축 하지 않는 PNG, 세 번째 파라미터는 압축률로 0~9까지 설정 가능 (0은 압축 없음)"
   ]
  },
  {
   "cell_type": "code",
   "execution_count": 2,
   "metadata": {
    "id": "mm27wOurarFs",
    "outputId": "23d68150-df97-4770-e818-42974043234c"
   },
   "outputs": [
    {
     "name": "stdout",
     "output_type": "stream",
     "text": [
      "./image/img1.png 파일을 저장하였습니다\n",
      "./image/img2.png 파일을 저장하였습니다\n",
      "./image/img3.png 파일을 저장하였습니다\n",
      "./image/img4.png 파일을 저장하였습니다\n",
      "./image/img5.png 파일을 저장하였습니다\n",
      "./image/img6.png 파일을 저장하였습니다\n",
      "./image/img7.png 파일을 저장하였습니다\n",
      "./image/img8.png 파일을 저장하였습니다\n",
      "./image/img9.png 파일을 저장하였습니다\n",
      "./image/img10.png 파일을 저장하였습니다\n",
      "./image/img11.png 파일을 저장하였습니다\n",
      "종료\n"
     ]
    }
   ],
   "source": [
    "import cv2\n",
    "\n",
    "# 카메라로부터 영상을 획득\n",
    "cap = cv2.VideoCapture(0)\n",
    "\n",
    "co = 0\n",
    "\n",
    "while True :\n",
    "    ret, frame = cap.read()\n",
    "    \n",
    "    if not ret :\n",
    "        print(\"종료\")\n",
    "        cap.release()\n",
    "        cv2.destroyAllWindows()\n",
    "        break\n",
    "        \n",
    "    key = cv2.waitKey(33) \n",
    "    \n",
    "    cv2.imshow(\"cctv\", frame)\n",
    "    \n",
    "    # 숫자 2키를 누르면 프레임이미지를 파일(PNG)로 저장\n",
    "    if key == 50 :           \n",
    "        co = co + 1\n",
    "        print(f\"./image/img{co}.png 파일을 저장하였습니다\")\n",
    "        # 파일을 압축하지 않고(0) PNG 파일로 저장 (img1.png img2.png, img3.png...)\n",
    "        cv2.imwrite(f\"./image/img{co}.png\", frame,\n",
    "                   params=[cv2.IMWRITE_PNG_COMPRESSION, 0])\n",
    "        \n",
    "    elif key == 49 :\n",
    "        print(\"종료\")\n",
    "        cap.release()\n",
    "        cv2.destroyAllWindows()\n",
    "        break"
   ]
  },
  {
   "cell_type": "markdown",
   "metadata": {
    "id": "Q2YlE60vAEtW"
   },
   "source": [
    "## 저장한 이미지들을 동영상으로 만들기"
   ]
  },
  {
   "cell_type": "code",
   "execution_count": 3,
   "metadata": {
    "id": "FUw1ewhLAEX_"
   },
   "outputs": [],
   "source": [
    "fps = 5\n",
    "w = 640\n",
    "h = 480\n",
    "codec = cv2.VideoWriter_fourcc(*'DIVX')\n",
    "\n",
    "out = cv2.VideoWriter(\"./image/img.avi\", codec, fps, (w, h))\n",
    "\n",
    "# 이미지를 한장씩 읽어와서 동영상으로 저장\n",
    "for i in range(1, 11) :\n",
    "    # 이미지 파일 읽기\n",
    "    img = cv2.imread(f\"./image/img{i}.png\", cv2.IMREAD_COLOR)\n",
    "    out.write(img)\n",
    "    \n",
    "out.release()    "
   ]
  },
  {
   "cell_type": "markdown",
   "metadata": {},
   "source": [
    "# 유튜브 영상 연동하기\n",
    "\n",
    "## pafy로 유튜브 영상 연동하기\n",
    "\n",
    "- pafy : youtube의 메타 데이터를 수집/검색하거나 다운로드 할 수 있는 Python 라이브러리\n",
    "- yt-dlp : 현재 업데이트가 되지 않는 youtube-dl을 업그레이드한 버전, 유튜브로부터 영상을 다운로드 (영상만 다운로드 – 음성 제외)"
   ]
  },
  {
   "cell_type": "code",
   "execution_count": 5,
   "metadata": {
    "scrolled": true
   },
   "outputs": [
    {
     "name": "stdout",
     "output_type": "stream",
     "text": [
      "Requirement already satisfied: pafy in c:\\users\\ai\\anaconda3\\envs\\opencv\\lib\\site-packages (0.5.5)\n",
      "Requirement already satisfied: youtube-dl in c:\\users\\ai\\anaconda3\\envs\\opencv\\lib\\site-packages (2021.12.17)\n",
      "Requirement already satisfied: yt-dlp in c:\\users\\ai\\anaconda3\\envs\\opencv\\lib\\site-packages (2022.9.1)\n",
      "Requirement already satisfied: certifi in c:\\users\\ai\\anaconda3\\envs\\opencv\\lib\\site-packages (from yt-dlp) (2022.6.15)\n",
      "Requirement already satisfied: pycryptodomex in c:\\users\\ai\\anaconda3\\envs\\opencv\\lib\\site-packages (from yt-dlp) (3.15.0)\n",
      "Requirement already satisfied: mutagen in c:\\users\\ai\\anaconda3\\envs\\opencv\\lib\\site-packages (from yt-dlp) (1.45.1)\n",
      "Requirement already satisfied: websockets in c:\\users\\ai\\anaconda3\\envs\\opencv\\lib\\site-packages (from yt-dlp) (10.3)\n",
      "Requirement already satisfied: brotli in c:\\users\\ai\\anaconda3\\envs\\opencv\\lib\\site-packages (from yt-dlp) (1.0.9)\n",
      "Collecting yt-dlp\n",
      "  Using cached yt_dlp-2022.9.1-py2.py3-none-any.whl (2.7 MB)\n",
      "Collecting brotli\n",
      "  Downloading Brotli-1.0.9-cp37-cp37m-win_amd64.whl (365 kB)\n",
      "     -------------------------------------- 365.3/365.3 kB 3.3 MB/s eta 0:00:00\n",
      "Collecting mutagen\n",
      "  Using cached mutagen-1.45.1-py3-none-any.whl (218 kB)\n",
      "Collecting websockets\n",
      "  Downloading websockets-10.3-cp37-cp37m-win_amd64.whl (98 kB)\n",
      "     ---------------------------------------- 98.5/98.5 kB ? eta 0:00:00\n",
      "Requirement already satisfied: certifi in c:\\users\\ai\\anaconda3\\envs\\opencv\\lib\\site-packages (from yt-dlp) (2022.6.15)\n",
      "Collecting pycryptodomex\n",
      "  Using cached pycryptodomex-3.15.0-cp35-abi3-win_amd64.whl (1.9 MB)\n",
      "Installing collected packages: brotli, websockets, pycryptodomex, mutagen, yt-dlp\n",
      "Successfully installed brotli-1.0.9 mutagen-1.45.1 pycryptodomex-3.15.0 websockets-10.3 yt-dlp-2022.9.1\n"
     ]
    }
   ],
   "source": [
    "# Youtube의 메타 데이터를 수집/검색하거나 다운로드 할 수 있는 Python 라이브러리\n",
    "!pip install pafy\n",
    "# 유튜브로부터 영상만을 다운로드 \n",
    "!pip install youtube-dl\n",
    "# 유튜브로부터 영상만을 다운로드 (youtube-dl 라이브러리 업그레이드 버전)\n",
    "!pip install yt-dlp"
   ]
  },
  {
   "cell_type": "markdown",
   "metadata": {},
   "source": [
    "- <font color=red>video = pafy.new(\"유튜브 주소\")</font> : YouTube 주소로 영상 정보 가져오기\n",
    "\n",
    "- <font color=red>best = video.getbest(preftype=\"mp4\")</font> : YouTube 실제 주소 가져오기"
   ]
  },
  {
   "cell_type": "code",
   "execution_count": 3,
   "metadata": {},
   "outputs": [
    {
     "name": "stdout",
     "output_type": "stream",
     "text": [
      "제목 : Rome, Italy - 4K Virtual Walking Tour around the City - Travel Guide\n",
      "평점 : None\n",
      "조회수 : 2114192\n",
      "좋아요 : 19541\n",
      "싫어요 : 0\n",
      "영상크기 : 1280x720\n",
      "실제 파일 링크 : https://rr3---sn-ab02a0nfpgxapox-bh2zs.googlevideo.com/videoplayback?expire=1662457405&ei=3cEWY8y9BfmVvcAPq7WYgAY&ip=115.95.222.202&id=o-AGym3mvZPjIypzk4SKwjlIVa30XF3JS3Xg-fmu8_T4b5&itag=22&source=youtube&requiressl=yes&mh=mD&mm=31%2C26&mn=sn-ab02a0nfpgxapox-bh2zs%2Csn-n4v7sns7&ms=au%2Conr&mv=m&mvi=3&pl=23&pcm2=yes&initcwndbps=846250&vprv=1&mime=video%2Fmp4&ns=0aSStNuEvw7Bnxd6OuOUS3YH&cnr=14&ratebypass=yes&dur=7220.848&lmt=1566700080480682&mt=1662435436&fvip=5&fexp=24001373%2C24007246&c=WEB&rbqsm=fr&txp=5532432&n=rEdqApVHBoM87Rb&sparams=expire%2Cei%2Cip%2Cid%2Citag%2Csource%2Crequiressl%2Cpcm2%2Cvprv%2Cmime%2Cns%2Ccnr%2Cratebypass%2Cdur%2Clmt&sig=AOq0QJ8wRgIhALpgg596iYvloU4ysDC44Htkcyha_InswPFh4IaxF3itAiEArQahyyn6urreaTewqocsA1VC6MAfJD7DvXCeNYJwK_c%3D&lsparams=mh%2Cmm%2Cmn%2Cms%2Cmv%2Cmvi%2Cpl%2Cinitcwndbps&lsig=AG3C_xAwRgIhANJ5PhnPBnpl8kwYI0RQStQfiN4zm7K8fM-gzyu2hp-MAiEA4OfHIbMA8GVvCa89KqWBzGTjY8Zhb8bnXr4Nq5ixUiw%3D\n"
     ]
    }
   ],
   "source": [
    "# 실습\n",
    "import pafy\n",
    "\n",
    "video=pafy.new(\"https://www.youtube.com/watch?v=EsFheWkimsU\")\n",
    "print(f\"제목 : {video.title}\")\n",
    "print(f\"평점 : {video.rating}\")\n",
    "print(f\"조회수 : {video.viewcount}\")\n",
    "print(f\"좋아요 : {video.likes}\")\n",
    "print(f\"싫어요 : {video.dislikes}\")\n",
    "codec = video.getbest(preftype=\"mp4\")\n",
    "print(f\"영상크기 : {codec.resolution}\")\n",
    "print(f\"실제 파일 링크 : {codec.url}\")"
   ]
  },
  {
   "cell_type": "markdown",
   "metadata": {},
   "source": [
    "- 코드 수행시에 KeyError: 'dislike_count'가 뜨는 경우\n",
    "  - pafy 설치폴더 (anaconda3설치폴더\\envs\\OpenCV\\Lib\\site-packages\\pafy)로 이동해서 backend_youtube_dl.py 파일을 열어서 53, 54라인을\n",
    "    - self._likes = self._ydl_info['like_count']\n",
    "    - self._dislikes = self._ydl_info['dislike_count']\n",
    "  - 다음 코드로 변경    \n",
    "    - self._likes = self._ydl_info.get('like_count',0)\n",
    "    - self._dislikes = self._ydl_info.get('dislike_count',0)\n",
    "    \n",
    "  - 주피터노트북을 닫고 재실행  "
   ]
  },
  {
   "cell_type": "code",
   "execution_count": 4,
   "metadata": {},
   "outputs": [
    {
     "ename": "KeyboardInterrupt",
     "evalue": "",
     "output_type": "error",
     "traceback": [
      "\u001b[1;31m---------------------------------------------------------------------------\u001b[0m",
      "\u001b[1;31mKeyboardInterrupt\u001b[0m                         Traceback (most recent call last)",
      "\u001b[1;32m~\\AppData\\Local\\Temp\\ipykernel_32208\\951329623.py\u001b[0m in \u001b[0;36m<module>\u001b[1;34m\u001b[0m\n\u001b[0;32m      4\u001b[0m \u001b[0mcap\u001b[0m \u001b[1;33m=\u001b[0m \u001b[0mcv2\u001b[0m\u001b[1;33m.\u001b[0m\u001b[0mVideoCapture\u001b[0m\u001b[1;33m(\u001b[0m\u001b[0mcodec\u001b[0m\u001b[1;33m.\u001b[0m\u001b[0murl\u001b[0m\u001b[1;33m)\u001b[0m\u001b[1;33m\u001b[0m\u001b[1;33m\u001b[0m\u001b[0m\n\u001b[0;32m      5\u001b[0m \u001b[1;32mwhile\u001b[0m \u001b[1;32mTrue\u001b[0m \u001b[1;33m:\u001b[0m\u001b[1;33m\u001b[0m\u001b[1;33m\u001b[0m\u001b[0m\n\u001b[1;32m----> 6\u001b[1;33m     \u001b[0mret\u001b[0m\u001b[1;33m,\u001b[0m \u001b[0mframe\u001b[0m \u001b[1;33m=\u001b[0m \u001b[0mcap\u001b[0m\u001b[1;33m.\u001b[0m\u001b[0mread\u001b[0m\u001b[1;33m(\u001b[0m\u001b[1;33m)\u001b[0m\u001b[1;33m\u001b[0m\u001b[1;33m\u001b[0m\u001b[0m\n\u001b[0m\u001b[0;32m      7\u001b[0m     \u001b[1;32mif\u001b[0m \u001b[1;32mnot\u001b[0m \u001b[0mret\u001b[0m \u001b[1;33m:\u001b[0m\u001b[1;33m\u001b[0m\u001b[1;33m\u001b[0m\u001b[0m\n\u001b[0;32m      8\u001b[0m         \u001b[0mprint\u001b[0m\u001b[1;33m(\u001b[0m\u001b[1;34m\"종료\"\u001b[0m\u001b[1;33m)\u001b[0m\u001b[1;33m\u001b[0m\u001b[1;33m\u001b[0m\u001b[0m\n",
      "\u001b[1;31mKeyboardInterrupt\u001b[0m: "
     ]
    }
   ],
   "source": [
    "# 실습\n",
    "\n",
    "import cv2\n",
    "cap = cv2.VideoCapture(codec.url)\n",
    "while True :\n",
    "    ret, frame = cap.read()\n",
    "    if not ret :\n",
    "        print(\"종료\")\n",
    "        cap.release()\n",
    "        cv2.destroyAllWindows()\n",
    "        break\n",
    "    key = cv2.waitKey(33)\n",
    "    cv2.imshow(\"cctv\", frame)\n",
    "    if key == 49 :\n",
    "        print(\"종료\")\n",
    "        cap.release()\n",
    "        cv2.destroyAllWindows()\n",
    "        break"
   ]
  },
  {
   "cell_type": "markdown",
   "metadata": {},
   "source": [
    "## yt-dlp로 유튜브 영상 다운로드하기"
   ]
  },
  {
   "cell_type": "code",
   "execution_count": 6,
   "metadata": {
    "scrolled": true
   },
   "outputs": [
    {
     "name": "stdout",
     "output_type": "stream",
     "text": [
      "[youtube] EsFheWkimsU: Downloading webpage\n",
      "[youtube] EsFheWkimsU: Downloading android player API JSON\n",
      "[youtube] EsFheWkimsU: Downloading player c16db54a\n",
      "[info] EsFheWkimsU: Downloading 1 format(s): 315\n",
      "[download] Destination: image\\Rome, Italy - 4K Virtual Walking Tour around the City - Travel Guide.webm\n",
      "[download]  55.1% of 22.07GiB at    5.58MiB/s ETA 30:19   "
     ]
    },
    {
     "name": "stderr",
     "output_type": "stream",
     "text": [
      "ERROR: \r",
      "[download] Got error: <urlopen error [WinError 10054] 현재 연결은 원격 호스트에 의해 강제로 끊겼습니다>\n"
     ]
    },
    {
     "ename": "DownloadError",
     "evalue": "ERROR: \r[download] Got error: <urlopen error [WinError 10054] 현재 연결은 원격 호스트에 의해 강제로 끊겼습니다>",
     "output_type": "error",
     "traceback": [
      "\u001b[1;31m---------------------------------------------------------------------------\u001b[0m",
      "\u001b[1;31mDownloadError\u001b[0m                             Traceback (most recent call last)",
      "\u001b[1;32m~\\AppData\\Local\\Temp\\ipykernel_32208\\1870862331.py\u001b[0m in \u001b[0;36m<module>\u001b[1;34m\u001b[0m\n\u001b[0;32m     20\u001b[0m \u001b[1;31m# 다운로드\u001b[0m\u001b[1;33m\u001b[0m\u001b[1;33m\u001b[0m\u001b[1;33m\u001b[0m\u001b[0m\n\u001b[0;32m     21\u001b[0m \u001b[1;32mwith\u001b[0m \u001b[0myt_dlp\u001b[0m\u001b[1;33m.\u001b[0m\u001b[0mYoutubeDL\u001b[0m\u001b[1;33m(\u001b[0m\u001b[0myt_opts\u001b[0m\u001b[1;33m)\u001b[0m \u001b[1;32mas\u001b[0m \u001b[0myt\u001b[0m\u001b[1;33m:\u001b[0m\u001b[1;33m\u001b[0m\u001b[1;33m\u001b[0m\u001b[0m\n\u001b[1;32m---> 22\u001b[1;33m     \u001b[0myt\u001b[0m\u001b[1;33m.\u001b[0m\u001b[0mdownload\u001b[0m\u001b[1;33m(\u001b[0m\u001b[0mdownload_list\u001b[0m\u001b[1;33m)\u001b[0m\u001b[1;33m\u001b[0m\u001b[1;33m\u001b[0m\u001b[0m\n\u001b[0m\u001b[0;32m     23\u001b[0m \u001b[1;33m\u001b[0m\u001b[0m\n\u001b[0;32m     24\u001b[0m \u001b[0mprint\u001b[0m\u001b[1;33m(\u001b[0m\u001b[1;34m\"종료\"\u001b[0m\u001b[1;33m)\u001b[0m\u001b[1;33m\u001b[0m\u001b[1;33m\u001b[0m\u001b[0m\n",
      "\u001b[1;32m~\\Anaconda3\\envs\\opencv\\lib\\site-packages\\yt_dlp\\YoutubeDL.py\u001b[0m in \u001b[0;36mdownload\u001b[1;34m(self, url_list)\u001b[0m\n\u001b[0;32m   3292\u001b[0m         \u001b[1;32mfor\u001b[0m \u001b[0murl\u001b[0m \u001b[1;32min\u001b[0m \u001b[0murl_list\u001b[0m\u001b[1;33m:\u001b[0m\u001b[1;33m\u001b[0m\u001b[1;33m\u001b[0m\u001b[0m\n\u001b[0;32m   3293\u001b[0m             self.__download_wrapper(self.extract_info)(\n\u001b[1;32m-> 3294\u001b[1;33m                 url, force_generic_extractor=self.params.get('force_generic_extractor', False))\n\u001b[0m\u001b[0;32m   3295\u001b[0m \u001b[1;33m\u001b[0m\u001b[0m\n\u001b[0;32m   3296\u001b[0m         \u001b[1;32mreturn\u001b[0m \u001b[0mself\u001b[0m\u001b[1;33m.\u001b[0m\u001b[0m_download_retcode\u001b[0m\u001b[1;33m\u001b[0m\u001b[1;33m\u001b[0m\u001b[0m\n",
      "\u001b[1;32m~\\Anaconda3\\envs\\opencv\\lib\\site-packages\\yt_dlp\\YoutubeDL.py\u001b[0m in \u001b[0;36mwrapper\u001b[1;34m(*args, **kwargs)\u001b[0m\n\u001b[0;32m   3266\u001b[0m         \u001b[1;32mdef\u001b[0m \u001b[0mwrapper\u001b[0m\u001b[1;33m(\u001b[0m\u001b[1;33m*\u001b[0m\u001b[0margs\u001b[0m\u001b[1;33m,\u001b[0m \u001b[1;33m**\u001b[0m\u001b[0mkwargs\u001b[0m\u001b[1;33m)\u001b[0m\u001b[1;33m:\u001b[0m\u001b[1;33m\u001b[0m\u001b[1;33m\u001b[0m\u001b[0m\n\u001b[0;32m   3267\u001b[0m             \u001b[1;32mtry\u001b[0m\u001b[1;33m:\u001b[0m\u001b[1;33m\u001b[0m\u001b[1;33m\u001b[0m\u001b[0m\n\u001b[1;32m-> 3268\u001b[1;33m                 \u001b[0mres\u001b[0m \u001b[1;33m=\u001b[0m \u001b[0mfunc\u001b[0m\u001b[1;33m(\u001b[0m\u001b[1;33m*\u001b[0m\u001b[0margs\u001b[0m\u001b[1;33m,\u001b[0m \u001b[1;33m**\u001b[0m\u001b[0mkwargs\u001b[0m\u001b[1;33m)\u001b[0m\u001b[1;33m\u001b[0m\u001b[1;33m\u001b[0m\u001b[0m\n\u001b[0m\u001b[0;32m   3269\u001b[0m             \u001b[1;32mexcept\u001b[0m \u001b[0mUnavailableVideoError\u001b[0m \u001b[1;32mas\u001b[0m \u001b[0me\u001b[0m\u001b[1;33m:\u001b[0m\u001b[1;33m\u001b[0m\u001b[1;33m\u001b[0m\u001b[0m\n\u001b[0;32m   3270\u001b[0m                 \u001b[0mself\u001b[0m\u001b[1;33m.\u001b[0m\u001b[0mreport_error\u001b[0m\u001b[1;33m(\u001b[0m\u001b[0me\u001b[0m\u001b[1;33m)\u001b[0m\u001b[1;33m\u001b[0m\u001b[1;33m\u001b[0m\u001b[0m\n",
      "\u001b[1;32m~\\Anaconda3\\envs\\opencv\\lib\\site-packages\\yt_dlp\\YoutubeDL.py\u001b[0m in \u001b[0;36mextract_info\u001b[1;34m(self, url, download, ie_key, extra_info, process, force_generic_extractor)\u001b[0m\n\u001b[0;32m   1446\u001b[0m                     \u001b[1;32mraise\u001b[0m \u001b[0mExistingVideoReached\u001b[0m\u001b[1;33m(\u001b[0m\u001b[1;33m)\u001b[0m\u001b[1;33m\u001b[0m\u001b[1;33m\u001b[0m\u001b[0m\n\u001b[0;32m   1447\u001b[0m                 \u001b[1;32mbreak\u001b[0m\u001b[1;33m\u001b[0m\u001b[1;33m\u001b[0m\u001b[0m\n\u001b[1;32m-> 1448\u001b[1;33m             \u001b[1;32mreturn\u001b[0m \u001b[0mself\u001b[0m\u001b[1;33m.\u001b[0m\u001b[0m__extract_info\u001b[0m\u001b[1;33m(\u001b[0m\u001b[0murl\u001b[0m\u001b[1;33m,\u001b[0m \u001b[0mself\u001b[0m\u001b[1;33m.\u001b[0m\u001b[0mget_info_extractor\u001b[0m\u001b[1;33m(\u001b[0m\u001b[0mkey\u001b[0m\u001b[1;33m)\u001b[0m\u001b[1;33m,\u001b[0m \u001b[0mdownload\u001b[0m\u001b[1;33m,\u001b[0m \u001b[0mextra_info\u001b[0m\u001b[1;33m,\u001b[0m \u001b[0mprocess\u001b[0m\u001b[1;33m)\u001b[0m\u001b[1;33m\u001b[0m\u001b[1;33m\u001b[0m\u001b[0m\n\u001b[0m\u001b[0;32m   1449\u001b[0m         \u001b[1;32melse\u001b[0m\u001b[1;33m:\u001b[0m\u001b[1;33m\u001b[0m\u001b[1;33m\u001b[0m\u001b[0m\n\u001b[0;32m   1450\u001b[0m             \u001b[0mextractors_restricted\u001b[0m \u001b[1;33m=\u001b[0m \u001b[0mself\u001b[0m\u001b[1;33m.\u001b[0m\u001b[0mparams\u001b[0m\u001b[1;33m.\u001b[0m\u001b[0mget\u001b[0m\u001b[1;33m(\u001b[0m\u001b[1;34m'allowed_extractors'\u001b[0m\u001b[1;33m)\u001b[0m \u001b[1;32mnot\u001b[0m \u001b[1;32min\u001b[0m \u001b[1;33m(\u001b[0m\u001b[1;32mNone\u001b[0m\u001b[1;33m,\u001b[0m \u001b[1;33m[\u001b[0m\u001b[1;34m'default'\u001b[0m\u001b[1;33m]\u001b[0m\u001b[1;33m)\u001b[0m\u001b[1;33m\u001b[0m\u001b[1;33m\u001b[0m\u001b[0m\n",
      "\u001b[1;32m~\\Anaconda3\\envs\\opencv\\lib\\site-packages\\yt_dlp\\YoutubeDL.py\u001b[0m in \u001b[0;36mwrapper\u001b[1;34m(self, *args, **kwargs)\u001b[0m\n\u001b[0;32m   1457\u001b[0m             \u001b[1;32mwhile\u001b[0m \u001b[1;32mTrue\u001b[0m\u001b[1;33m:\u001b[0m\u001b[1;33m\u001b[0m\u001b[1;33m\u001b[0m\u001b[0m\n\u001b[0;32m   1458\u001b[0m                 \u001b[1;32mtry\u001b[0m\u001b[1;33m:\u001b[0m\u001b[1;33m\u001b[0m\u001b[1;33m\u001b[0m\u001b[0m\n\u001b[1;32m-> 1459\u001b[1;33m                     \u001b[1;32mreturn\u001b[0m \u001b[0mfunc\u001b[0m\u001b[1;33m(\u001b[0m\u001b[0mself\u001b[0m\u001b[1;33m,\u001b[0m \u001b[1;33m*\u001b[0m\u001b[0margs\u001b[0m\u001b[1;33m,\u001b[0m \u001b[1;33m**\u001b[0m\u001b[0mkwargs\u001b[0m\u001b[1;33m)\u001b[0m\u001b[1;33m\u001b[0m\u001b[1;33m\u001b[0m\u001b[0m\n\u001b[0m\u001b[0;32m   1460\u001b[0m                 \u001b[1;32mexcept\u001b[0m \u001b[1;33m(\u001b[0m\u001b[0mDownloadCancelled\u001b[0m\u001b[1;33m,\u001b[0m \u001b[0mLazyList\u001b[0m\u001b[1;33m.\u001b[0m\u001b[0mIndexError\u001b[0m\u001b[1;33m,\u001b[0m \u001b[0mPagedList\u001b[0m\u001b[1;33m.\u001b[0m\u001b[0mIndexError\u001b[0m\u001b[1;33m)\u001b[0m\u001b[1;33m:\u001b[0m\u001b[1;33m\u001b[0m\u001b[1;33m\u001b[0m\u001b[0m\n\u001b[0;32m   1461\u001b[0m                     \u001b[1;32mraise\u001b[0m\u001b[1;33m\u001b[0m\u001b[1;33m\u001b[0m\u001b[0m\n",
      "\u001b[1;32m~\\Anaconda3\\envs\\opencv\\lib\\site-packages\\yt_dlp\\YoutubeDL.py\u001b[0m in \u001b[0;36m__extract_info\u001b[1;34m(self, url, ie, download, extra_info, process)\u001b[0m\n\u001b[0;32m   1554\u001b[0m         \u001b[1;32mif\u001b[0m \u001b[0mprocess\u001b[0m\u001b[1;33m:\u001b[0m\u001b[1;33m\u001b[0m\u001b[1;33m\u001b[0m\u001b[0m\n\u001b[0;32m   1555\u001b[0m             \u001b[0mself\u001b[0m\u001b[1;33m.\u001b[0m\u001b[0m_wait_for_video\u001b[0m\u001b[1;33m(\u001b[0m\u001b[0mie_result\u001b[0m\u001b[1;33m)\u001b[0m\u001b[1;33m\u001b[0m\u001b[1;33m\u001b[0m\u001b[0m\n\u001b[1;32m-> 1556\u001b[1;33m             \u001b[1;32mreturn\u001b[0m \u001b[0mself\u001b[0m\u001b[1;33m.\u001b[0m\u001b[0mprocess_ie_result\u001b[0m\u001b[1;33m(\u001b[0m\u001b[0mie_result\u001b[0m\u001b[1;33m,\u001b[0m \u001b[0mdownload\u001b[0m\u001b[1;33m,\u001b[0m \u001b[0mextra_info\u001b[0m\u001b[1;33m)\u001b[0m\u001b[1;33m\u001b[0m\u001b[1;33m\u001b[0m\u001b[0m\n\u001b[0m\u001b[0;32m   1557\u001b[0m         \u001b[1;32melse\u001b[0m\u001b[1;33m:\u001b[0m\u001b[1;33m\u001b[0m\u001b[1;33m\u001b[0m\u001b[0m\n\u001b[0;32m   1558\u001b[0m             \u001b[1;32mreturn\u001b[0m \u001b[0mie_result\u001b[0m\u001b[1;33m\u001b[0m\u001b[1;33m\u001b[0m\u001b[0m\n",
      "\u001b[1;32m~\\Anaconda3\\envs\\opencv\\lib\\site-packages\\yt_dlp\\YoutubeDL.py\u001b[0m in \u001b[0;36mprocess_ie_result\u001b[1;34m(self, ie_result, download, extra_info)\u001b[0m\n\u001b[0;32m   1612\u001b[0m         \u001b[1;32mif\u001b[0m \u001b[0mresult_type\u001b[0m \u001b[1;33m==\u001b[0m \u001b[1;34m'video'\u001b[0m\u001b[1;33m:\u001b[0m\u001b[1;33m\u001b[0m\u001b[1;33m\u001b[0m\u001b[0m\n\u001b[0;32m   1613\u001b[0m             \u001b[0mself\u001b[0m\u001b[1;33m.\u001b[0m\u001b[0madd_extra_info\u001b[0m\u001b[1;33m(\u001b[0m\u001b[0mie_result\u001b[0m\u001b[1;33m,\u001b[0m \u001b[0mextra_info\u001b[0m\u001b[1;33m)\u001b[0m\u001b[1;33m\u001b[0m\u001b[1;33m\u001b[0m\u001b[0m\n\u001b[1;32m-> 1614\u001b[1;33m             \u001b[0mie_result\u001b[0m \u001b[1;33m=\u001b[0m \u001b[0mself\u001b[0m\u001b[1;33m.\u001b[0m\u001b[0mprocess_video_result\u001b[0m\u001b[1;33m(\u001b[0m\u001b[0mie_result\u001b[0m\u001b[1;33m,\u001b[0m \u001b[0mdownload\u001b[0m\u001b[1;33m=\u001b[0m\u001b[0mdownload\u001b[0m\u001b[1;33m)\u001b[0m\u001b[1;33m\u001b[0m\u001b[1;33m\u001b[0m\u001b[0m\n\u001b[0m\u001b[0;32m   1615\u001b[0m             \u001b[0mself\u001b[0m\u001b[1;33m.\u001b[0m\u001b[0m_raise_pending_errors\u001b[0m\u001b[1;33m(\u001b[0m\u001b[0mie_result\u001b[0m\u001b[1;33m)\u001b[0m\u001b[1;33m\u001b[0m\u001b[1;33m\u001b[0m\u001b[0m\n\u001b[0;32m   1616\u001b[0m             \u001b[0madditional_urls\u001b[0m \u001b[1;33m=\u001b[0m \u001b[1;33m(\u001b[0m\u001b[0mie_result\u001b[0m \u001b[1;32mor\u001b[0m \u001b[1;33m{\u001b[0m\u001b[1;33m}\u001b[0m\u001b[1;33m)\u001b[0m\u001b[1;33m.\u001b[0m\u001b[0mget\u001b[0m\u001b[1;33m(\u001b[0m\u001b[1;34m'additional_urls'\u001b[0m\u001b[1;33m)\u001b[0m\u001b[1;33m\u001b[0m\u001b[1;33m\u001b[0m\u001b[0m\n",
      "\u001b[1;32m~\\Anaconda3\\envs\\opencv\\lib\\site-packages\\yt_dlp\\YoutubeDL.py\u001b[0m in \u001b[0;36mprocess_video_result\u001b[1;34m(self, info_dict, download)\u001b[0m\n\u001b[0;32m   2710\u001b[0m                 \u001b[0mdownloaded_formats\u001b[0m\u001b[1;33m.\u001b[0m\u001b[0mappend\u001b[0m\u001b[1;33m(\u001b[0m\u001b[0mnew_info\u001b[0m\u001b[1;33m)\u001b[0m\u001b[1;33m\u001b[0m\u001b[1;33m\u001b[0m\u001b[0m\n\u001b[0;32m   2711\u001b[0m                 \u001b[1;32mtry\u001b[0m\u001b[1;33m:\u001b[0m\u001b[1;33m\u001b[0m\u001b[1;33m\u001b[0m\u001b[0m\n\u001b[1;32m-> 2712\u001b[1;33m                     \u001b[0mself\u001b[0m\u001b[1;33m.\u001b[0m\u001b[0mprocess_info\u001b[0m\u001b[1;33m(\u001b[0m\u001b[0mnew_info\u001b[0m\u001b[1;33m)\u001b[0m\u001b[1;33m\u001b[0m\u001b[1;33m\u001b[0m\u001b[0m\n\u001b[0m\u001b[0;32m   2713\u001b[0m                 \u001b[1;32mexcept\u001b[0m \u001b[0mMaxDownloadsReached\u001b[0m\u001b[1;33m:\u001b[0m\u001b[1;33m\u001b[0m\u001b[1;33m\u001b[0m\u001b[0m\n\u001b[0;32m   2714\u001b[0m                     \u001b[0mmax_downloads_reached\u001b[0m \u001b[1;33m=\u001b[0m \u001b[1;32mTrue\u001b[0m\u001b[1;33m\u001b[0m\u001b[1;33m\u001b[0m\u001b[0m\n",
      "\u001b[1;32m~\\Anaconda3\\envs\\opencv\\lib\\site-packages\\yt_dlp\\YoutubeDL.py\u001b[0m in \u001b[0;36mprocess_info\u001b[1;34m(self, info_dict)\u001b[0m\n\u001b[0;32m   3169\u001b[0m                         \u001b[1;31m# dl_filename == temp_filename could mean that the file was partially downloaded with --no-part.\u001b[0m\u001b[1;33m\u001b[0m\u001b[1;33m\u001b[0m\u001b[1;33m\u001b[0m\u001b[0m\n\u001b[0;32m   3170\u001b[0m                         \u001b[1;31m# So we should try to resume the download\u001b[0m\u001b[1;33m\u001b[0m\u001b[1;33m\u001b[0m\u001b[1;33m\u001b[0m\u001b[0m\n\u001b[1;32m-> 3171\u001b[1;33m                         \u001b[0msuccess\u001b[0m\u001b[1;33m,\u001b[0m \u001b[0mreal_download\u001b[0m \u001b[1;33m=\u001b[0m \u001b[0mself\u001b[0m\u001b[1;33m.\u001b[0m\u001b[0mdl\u001b[0m\u001b[1;33m(\u001b[0m\u001b[0mtemp_filename\u001b[0m\u001b[1;33m,\u001b[0m \u001b[0minfo_dict\u001b[0m\u001b[1;33m)\u001b[0m\u001b[1;33m\u001b[0m\u001b[1;33m\u001b[0m\u001b[0m\n\u001b[0m\u001b[0;32m   3172\u001b[0m                         \u001b[0minfo_dict\u001b[0m\u001b[1;33m[\u001b[0m\u001b[1;34m'__real_download'\u001b[0m\u001b[1;33m]\u001b[0m \u001b[1;33m=\u001b[0m \u001b[0mreal_download\u001b[0m\u001b[1;33m\u001b[0m\u001b[1;33m\u001b[0m\u001b[0m\n\u001b[0;32m   3173\u001b[0m                     \u001b[1;32melse\u001b[0m\u001b[1;33m:\u001b[0m\u001b[1;33m\u001b[0m\u001b[1;33m\u001b[0m\u001b[0m\n",
      "\u001b[1;32m~\\Anaconda3\\envs\\opencv\\lib\\site-packages\\yt_dlp\\YoutubeDL.py\u001b[0m in \u001b[0;36mdl\u001b[1;34m(self, name, info, subtitle, test)\u001b[0m\n\u001b[0;32m   2893\u001b[0m         \u001b[1;32mif\u001b[0m \u001b[0mnew_info\u001b[0m\u001b[1;33m.\u001b[0m\u001b[0mget\u001b[0m\u001b[1;33m(\u001b[0m\u001b[1;34m'http_headers'\u001b[0m\u001b[1;33m)\u001b[0m \u001b[1;32mis\u001b[0m \u001b[1;32mNone\u001b[0m\u001b[1;33m:\u001b[0m\u001b[1;33m\u001b[0m\u001b[1;33m\u001b[0m\u001b[0m\n\u001b[0;32m   2894\u001b[0m             \u001b[0mnew_info\u001b[0m\u001b[1;33m[\u001b[0m\u001b[1;34m'http_headers'\u001b[0m\u001b[1;33m]\u001b[0m \u001b[1;33m=\u001b[0m \u001b[0mself\u001b[0m\u001b[1;33m.\u001b[0m\u001b[0m_calc_headers\u001b[0m\u001b[1;33m(\u001b[0m\u001b[0mnew_info\u001b[0m\u001b[1;33m)\u001b[0m\u001b[1;33m\u001b[0m\u001b[1;33m\u001b[0m\u001b[0m\n\u001b[1;32m-> 2895\u001b[1;33m         \u001b[1;32mreturn\u001b[0m \u001b[0mfd\u001b[0m\u001b[1;33m.\u001b[0m\u001b[0mdownload\u001b[0m\u001b[1;33m(\u001b[0m\u001b[0mname\u001b[0m\u001b[1;33m,\u001b[0m \u001b[0mnew_info\u001b[0m\u001b[1;33m,\u001b[0m \u001b[0msubtitle\u001b[0m\u001b[1;33m)\u001b[0m\u001b[1;33m\u001b[0m\u001b[1;33m\u001b[0m\u001b[0m\n\u001b[0m\u001b[0;32m   2896\u001b[0m \u001b[1;33m\u001b[0m\u001b[0m\n\u001b[0;32m   2897\u001b[0m     \u001b[1;32mdef\u001b[0m \u001b[0mexisting_file\u001b[0m\u001b[1;33m(\u001b[0m\u001b[0mself\u001b[0m\u001b[1;33m,\u001b[0m \u001b[0mfilepaths\u001b[0m\u001b[1;33m,\u001b[0m \u001b[1;33m*\u001b[0m\u001b[1;33m,\u001b[0m \u001b[0mdefault_overwrite\u001b[0m\u001b[1;33m=\u001b[0m\u001b[1;32mTrue\u001b[0m\u001b[1;33m)\u001b[0m\u001b[1;33m:\u001b[0m\u001b[1;33m\u001b[0m\u001b[1;33m\u001b[0m\u001b[0m\n",
      "\u001b[1;32m~\\Anaconda3\\envs\\opencv\\lib\\site-packages\\yt_dlp\\downloader\\common.py\u001b[0m in \u001b[0;36mdownload\u001b[1;34m(self, filename, info_dict, subtitle)\u001b[0m\n\u001b[0;32m    441\u001b[0m             \u001b[0mtime\u001b[0m\u001b[1;33m.\u001b[0m\u001b[0msleep\u001b[0m\u001b[1;33m(\u001b[0m\u001b[0msleep_interval\u001b[0m\u001b[1;33m)\u001b[0m\u001b[1;33m\u001b[0m\u001b[1;33m\u001b[0m\u001b[0m\n\u001b[0;32m    442\u001b[0m \u001b[1;33m\u001b[0m\u001b[0m\n\u001b[1;32m--> 443\u001b[1;33m         \u001b[0mret\u001b[0m \u001b[1;33m=\u001b[0m \u001b[0mself\u001b[0m\u001b[1;33m.\u001b[0m\u001b[0mreal_download\u001b[0m\u001b[1;33m(\u001b[0m\u001b[0mfilename\u001b[0m\u001b[1;33m,\u001b[0m \u001b[0minfo_dict\u001b[0m\u001b[1;33m)\u001b[0m\u001b[1;33m\u001b[0m\u001b[1;33m\u001b[0m\u001b[0m\n\u001b[0m\u001b[0;32m    444\u001b[0m         \u001b[0mself\u001b[0m\u001b[1;33m.\u001b[0m\u001b[0m_finish_multiline_status\u001b[0m\u001b[1;33m(\u001b[0m\u001b[1;33m)\u001b[0m\u001b[1;33m\u001b[0m\u001b[1;33m\u001b[0m\u001b[0m\n\u001b[0;32m    445\u001b[0m         \u001b[1;32mreturn\u001b[0m \u001b[0mret\u001b[0m\u001b[1;33m,\u001b[0m \u001b[1;32mTrue\u001b[0m\u001b[1;33m\u001b[0m\u001b[1;33m\u001b[0m\u001b[0m\n",
      "\u001b[1;32m~\\Anaconda3\\envs\\opencv\\lib\\site-packages\\yt_dlp\\downloader\\http.py\u001b[0m in \u001b[0;36mreal_download\u001b[1;34m(self, filename, info_dict)\u001b[0m\n\u001b[0;32m    367\u001b[0m             \u001b[1;32mreturn\u001b[0m \u001b[1;32mTrue\u001b[0m\u001b[1;33m\u001b[0m\u001b[1;33m\u001b[0m\u001b[0m\n\u001b[0;32m    368\u001b[0m \u001b[1;33m\u001b[0m\u001b[0m\n\u001b[1;32m--> 369\u001b[1;33m         \u001b[1;32mfor\u001b[0m \u001b[0mretry\u001b[0m \u001b[1;32min\u001b[0m \u001b[0mRetryManager\u001b[0m\u001b[1;33m(\u001b[0m\u001b[0mself\u001b[0m\u001b[1;33m.\u001b[0m\u001b[0mparams\u001b[0m\u001b[1;33m.\u001b[0m\u001b[0mget\u001b[0m\u001b[1;33m(\u001b[0m\u001b[1;34m'retries'\u001b[0m\u001b[1;33m)\u001b[0m\u001b[1;33m,\u001b[0m \u001b[0mself\u001b[0m\u001b[1;33m.\u001b[0m\u001b[0mreport_retry\u001b[0m\u001b[1;33m)\u001b[0m\u001b[1;33m:\u001b[0m\u001b[1;33m\u001b[0m\u001b[1;33m\u001b[0m\u001b[0m\n\u001b[0m\u001b[0;32m    370\u001b[0m             \u001b[1;32mtry\u001b[0m\u001b[1;33m:\u001b[0m\u001b[1;33m\u001b[0m\u001b[1;33m\u001b[0m\u001b[0m\n\u001b[0;32m    371\u001b[0m                 \u001b[0mestablish_connection\u001b[0m\u001b[1;33m(\u001b[0m\u001b[1;33m)\u001b[0m\u001b[1;33m\u001b[0m\u001b[1;33m\u001b[0m\u001b[0m\n",
      "\u001b[1;32m~\\Anaconda3\\envs\\opencv\\lib\\site-packages\\yt_dlp\\utils.py\u001b[0m in \u001b[0;36m__iter__\u001b[1;34m(self)\u001b[0m\n\u001b[0;32m   5792\u001b[0m             \u001b[1;32myield\u001b[0m \u001b[0mself\u001b[0m\u001b[1;33m\u001b[0m\u001b[1;33m\u001b[0m\u001b[0m\n\u001b[0;32m   5793\u001b[0m             \u001b[1;32mif\u001b[0m \u001b[0mself\u001b[0m\u001b[1;33m.\u001b[0m\u001b[0merror\u001b[0m\u001b[1;33m:\u001b[0m\u001b[1;33m\u001b[0m\u001b[1;33m\u001b[0m\u001b[0m\n\u001b[1;32m-> 5794\u001b[1;33m                 \u001b[0mself\u001b[0m\u001b[1;33m.\u001b[0m\u001b[0merror_callback\u001b[0m\u001b[1;33m(\u001b[0m\u001b[0mself\u001b[0m\u001b[1;33m.\u001b[0m\u001b[0merror\u001b[0m\u001b[1;33m,\u001b[0m \u001b[0mself\u001b[0m\u001b[1;33m.\u001b[0m\u001b[0mattempt\u001b[0m\u001b[1;33m,\u001b[0m \u001b[0mself\u001b[0m\u001b[1;33m.\u001b[0m\u001b[0mretries\u001b[0m\u001b[1;33m)\u001b[0m\u001b[1;33m\u001b[0m\u001b[1;33m\u001b[0m\u001b[0m\n\u001b[0m\u001b[0;32m   5795\u001b[0m \u001b[1;33m\u001b[0m\u001b[0m\n\u001b[0;32m   5796\u001b[0m     \u001b[1;33m@\u001b[0m\u001b[0mstaticmethod\u001b[0m\u001b[1;33m\u001b[0m\u001b[1;33m\u001b[0m\u001b[0m\n",
      "\u001b[1;32m~\\Anaconda3\\envs\\opencv\\lib\\site-packages\\yt_dlp\\downloader\\common.py\u001b[0m in \u001b[0;36mreport_retry\u001b[1;34m(self, err, count, retries, frag_index, fatal)\u001b[0m\n\u001b[0;32m    391\u001b[0m             \u001b[0merror\u001b[0m\u001b[1;33m=\u001b[0m\u001b[0mIDENTITY\u001b[0m \u001b[1;32mif\u001b[0m \u001b[1;32mnot\u001b[0m \u001b[0mfatal\u001b[0m \u001b[1;32melse\u001b[0m \u001b[1;32mlambda\u001b[0m \u001b[0me\u001b[0m\u001b[1;33m:\u001b[0m \u001b[0mself\u001b[0m\u001b[1;33m.\u001b[0m\u001b[0mreport_error\u001b[0m\u001b[1;33m(\u001b[0m\u001b[1;34mf'\\r[download] Got error: {e}'\u001b[0m\u001b[1;33m)\u001b[0m\u001b[1;33m,\u001b[0m\u001b[1;33m\u001b[0m\u001b[1;33m\u001b[0m\u001b[0m\n\u001b[0;32m    392\u001b[0m             \u001b[0msleep_func\u001b[0m\u001b[1;33m=\u001b[0m\u001b[0mself\u001b[0m\u001b[1;33m.\u001b[0m\u001b[0mparams\u001b[0m\u001b[1;33m.\u001b[0m\u001b[0mget\u001b[0m\u001b[1;33m(\u001b[0m\u001b[1;34m'retry_sleep_functions'\u001b[0m\u001b[1;33m,\u001b[0m \u001b[1;33m{\u001b[0m\u001b[1;33m}\u001b[0m\u001b[1;33m)\u001b[0m\u001b[1;33m.\u001b[0m\u001b[0mget\u001b[0m\u001b[1;33m(\u001b[0m\u001b[0mis_frag\u001b[0m \u001b[1;32mor\u001b[0m \u001b[1;34m'http'\u001b[0m\u001b[1;33m)\u001b[0m\u001b[1;33m,\u001b[0m\u001b[1;33m\u001b[0m\u001b[1;33m\u001b[0m\u001b[0m\n\u001b[1;32m--> 393\u001b[1;33m             suffix=f'fragment{\"s\" if frag_index is None else f\" {frag_index}\"}' if is_frag else None)\n\u001b[0m\u001b[0;32m    394\u001b[0m \u001b[1;33m\u001b[0m\u001b[0m\n\u001b[0;32m    395\u001b[0m     \u001b[1;32mdef\u001b[0m \u001b[0mreport_unable_to_resume\u001b[0m\u001b[1;33m(\u001b[0m\u001b[0mself\u001b[0m\u001b[1;33m)\u001b[0m\u001b[1;33m:\u001b[0m\u001b[1;33m\u001b[0m\u001b[1;33m\u001b[0m\u001b[0m\n",
      "\u001b[1;32m~\\Anaconda3\\envs\\opencv\\lib\\site-packages\\yt_dlp\\utils.py\u001b[0m in \u001b[0;36mreport_retry\u001b[1;34m(e, count, retries, sleep_func, info, warn, error, suffix)\u001b[0m\n\u001b[0;32m   5799\u001b[0m         \u001b[1;32mif\u001b[0m \u001b[0mcount\u001b[0m \u001b[1;33m>\u001b[0m \u001b[0mretries\u001b[0m\u001b[1;33m:\u001b[0m\u001b[1;33m\u001b[0m\u001b[1;33m\u001b[0m\u001b[0m\n\u001b[0;32m   5800\u001b[0m             \u001b[1;32mif\u001b[0m \u001b[0merror\u001b[0m\u001b[1;33m:\u001b[0m\u001b[1;33m\u001b[0m\u001b[1;33m\u001b[0m\u001b[0m\n\u001b[1;32m-> 5801\u001b[1;33m                 \u001b[1;32mreturn\u001b[0m \u001b[0merror\u001b[0m\u001b[1;33m(\u001b[0m\u001b[1;34mf'{e}. Giving up after {count - 1} retries'\u001b[0m\u001b[1;33m)\u001b[0m \u001b[1;32mif\u001b[0m \u001b[0mcount\u001b[0m \u001b[1;33m>\u001b[0m \u001b[1;36m1\u001b[0m \u001b[1;32melse\u001b[0m \u001b[0merror\u001b[0m\u001b[1;33m(\u001b[0m\u001b[0mstr\u001b[0m\u001b[1;33m(\u001b[0m\u001b[0me\u001b[0m\u001b[1;33m)\u001b[0m\u001b[1;33m)\u001b[0m\u001b[1;33m\u001b[0m\u001b[1;33m\u001b[0m\u001b[0m\n\u001b[0m\u001b[0;32m   5802\u001b[0m             \u001b[1;32mraise\u001b[0m \u001b[0me\u001b[0m\u001b[1;33m\u001b[0m\u001b[1;33m\u001b[0m\u001b[0m\n\u001b[0;32m   5803\u001b[0m \u001b[1;33m\u001b[0m\u001b[0m\n",
      "\u001b[1;32m~\\Anaconda3\\envs\\opencv\\lib\\site-packages\\yt_dlp\\downloader\\common.py\u001b[0m in \u001b[0;36m<lambda>\u001b[1;34m(e)\u001b[0m\n\u001b[0;32m    389\u001b[0m             \u001b[0merr\u001b[0m\u001b[1;33m,\u001b[0m \u001b[0mcount\u001b[0m\u001b[1;33m,\u001b[0m \u001b[0mretries\u001b[0m\u001b[1;33m,\u001b[0m \u001b[0minfo\u001b[0m\u001b[1;33m=\u001b[0m\u001b[0mself\u001b[0m\u001b[1;33m.\u001b[0m\u001b[0m__to_screen\u001b[0m\u001b[1;33m,\u001b[0m\u001b[1;33m\u001b[0m\u001b[1;33m\u001b[0m\u001b[0m\n\u001b[0;32m    390\u001b[0m             \u001b[0mwarn\u001b[0m\u001b[1;33m=\u001b[0m\u001b[1;32mlambda\u001b[0m \u001b[0mmsg\u001b[0m\u001b[1;33m:\u001b[0m \u001b[0mself\u001b[0m\u001b[1;33m.\u001b[0m\u001b[0m__to_screen\u001b[0m\u001b[1;33m(\u001b[0m\u001b[1;34mf'[download] Got error: {msg}'\u001b[0m\u001b[1;33m)\u001b[0m\u001b[1;33m,\u001b[0m\u001b[1;33m\u001b[0m\u001b[1;33m\u001b[0m\u001b[0m\n\u001b[1;32m--> 391\u001b[1;33m             \u001b[0merror\u001b[0m\u001b[1;33m=\u001b[0m\u001b[0mIDENTITY\u001b[0m \u001b[1;32mif\u001b[0m \u001b[1;32mnot\u001b[0m \u001b[0mfatal\u001b[0m \u001b[1;32melse\u001b[0m \u001b[1;32mlambda\u001b[0m \u001b[0me\u001b[0m\u001b[1;33m:\u001b[0m \u001b[0mself\u001b[0m\u001b[1;33m.\u001b[0m\u001b[0mreport_error\u001b[0m\u001b[1;33m(\u001b[0m\u001b[1;34mf'\\r[download] Got error: {e}'\u001b[0m\u001b[1;33m)\u001b[0m\u001b[1;33m,\u001b[0m\u001b[1;33m\u001b[0m\u001b[1;33m\u001b[0m\u001b[0m\n\u001b[0m\u001b[0;32m    392\u001b[0m             \u001b[0msleep_func\u001b[0m\u001b[1;33m=\u001b[0m\u001b[0mself\u001b[0m\u001b[1;33m.\u001b[0m\u001b[0mparams\u001b[0m\u001b[1;33m.\u001b[0m\u001b[0mget\u001b[0m\u001b[1;33m(\u001b[0m\u001b[1;34m'retry_sleep_functions'\u001b[0m\u001b[1;33m,\u001b[0m \u001b[1;33m{\u001b[0m\u001b[1;33m}\u001b[0m\u001b[1;33m)\u001b[0m\u001b[1;33m.\u001b[0m\u001b[0mget\u001b[0m\u001b[1;33m(\u001b[0m\u001b[0mis_frag\u001b[0m \u001b[1;32mor\u001b[0m \u001b[1;34m'http'\u001b[0m\u001b[1;33m)\u001b[0m\u001b[1;33m,\u001b[0m\u001b[1;33m\u001b[0m\u001b[1;33m\u001b[0m\u001b[0m\n\u001b[0;32m    393\u001b[0m             suffix=f'fragment{\"s\" if frag_index is None else f\" {frag_index}\"}' if is_frag else None)\n",
      "\u001b[1;32m~\\Anaconda3\\envs\\opencv\\lib\\site-packages\\yt_dlp\\YoutubeDL.py\u001b[0m in \u001b[0;36mreport_error\u001b[1;34m(self, message, *args, **kwargs)\u001b[0m\n\u001b[0;32m    992\u001b[0m         \u001b[1;32min\u001b[0m \u001b[0mred\u001b[0m \u001b[1;32mif\u001b[0m \u001b[0mstderr\u001b[0m \u001b[1;32mis\u001b[0m \u001b[0ma\u001b[0m \u001b[0mtty\u001b[0m \u001b[0mfile\u001b[0m\u001b[1;33m.\u001b[0m\u001b[1;33m\u001b[0m\u001b[1;33m\u001b[0m\u001b[0m\n\u001b[0;32m    993\u001b[0m         '''\n\u001b[1;32m--> 994\u001b[1;33m         \u001b[0mself\u001b[0m\u001b[1;33m.\u001b[0m\u001b[0mtrouble\u001b[0m\u001b[1;33m(\u001b[0m\u001b[1;34mf'{self._format_err(\"ERROR:\", self.Styles.ERROR)} {message}'\u001b[0m\u001b[1;33m,\u001b[0m \u001b[1;33m*\u001b[0m\u001b[0margs\u001b[0m\u001b[1;33m,\u001b[0m \u001b[1;33m**\u001b[0m\u001b[0mkwargs\u001b[0m\u001b[1;33m)\u001b[0m\u001b[1;33m\u001b[0m\u001b[1;33m\u001b[0m\u001b[0m\n\u001b[0m\u001b[0;32m    995\u001b[0m \u001b[1;33m\u001b[0m\u001b[0m\n\u001b[0;32m    996\u001b[0m     \u001b[1;32mdef\u001b[0m \u001b[0mwrite_debug\u001b[0m\u001b[1;33m(\u001b[0m\u001b[0mself\u001b[0m\u001b[1;33m,\u001b[0m \u001b[0mmessage\u001b[0m\u001b[1;33m,\u001b[0m \u001b[0monly_once\u001b[0m\u001b[1;33m=\u001b[0m\u001b[1;32mFalse\u001b[0m\u001b[1;33m)\u001b[0m\u001b[1;33m:\u001b[0m\u001b[1;33m\u001b[0m\u001b[1;33m\u001b[0m\u001b[0m\n",
      "\u001b[1;32m~\\Anaconda3\\envs\\opencv\\lib\\site-packages\\yt_dlp\\YoutubeDL.py\u001b[0m in \u001b[0;36mtrouble\u001b[1;34m(self, message, tb, is_error)\u001b[0m\n\u001b[0;32m    932\u001b[0m             \u001b[1;32melse\u001b[0m\u001b[1;33m:\u001b[0m\u001b[1;33m\u001b[0m\u001b[1;33m\u001b[0m\u001b[0m\n\u001b[0;32m    933\u001b[0m                 \u001b[0mexc_info\u001b[0m \u001b[1;33m=\u001b[0m \u001b[0msys\u001b[0m\u001b[1;33m.\u001b[0m\u001b[0mexc_info\u001b[0m\u001b[1;33m(\u001b[0m\u001b[1;33m)\u001b[0m\u001b[1;33m\u001b[0m\u001b[1;33m\u001b[0m\u001b[0m\n\u001b[1;32m--> 934\u001b[1;33m             \u001b[1;32mraise\u001b[0m \u001b[0mDownloadError\u001b[0m\u001b[1;33m(\u001b[0m\u001b[0mmessage\u001b[0m\u001b[1;33m,\u001b[0m \u001b[0mexc_info\u001b[0m\u001b[1;33m)\u001b[0m\u001b[1;33m\u001b[0m\u001b[1;33m\u001b[0m\u001b[0m\n\u001b[0m\u001b[0;32m    935\u001b[0m         \u001b[0mself\u001b[0m\u001b[1;33m.\u001b[0m\u001b[0m_download_retcode\u001b[0m \u001b[1;33m=\u001b[0m \u001b[1;36m1\u001b[0m\u001b[1;33m\u001b[0m\u001b[1;33m\u001b[0m\u001b[0m\n\u001b[0;32m    936\u001b[0m \u001b[1;33m\u001b[0m\u001b[0m\n",
      "\u001b[1;31mDownloadError\u001b[0m: ERROR: \r[download] Got error: <urlopen error [WinError 10054] 현재 연결은 원격 호스트에 의해 강제로 끊겼습니다>"
     ]
    }
   ],
   "source": [
    "# 실습\n",
    "\n",
    "import os\n",
    "import yt_dlp\n",
    "\n",
    "#다운받을 영상 리스트 \n",
    "download_list=['https://www.youtube.com/watch?v=EsFheWkimsU']\n",
    "\n",
    "# 저장 폴더\n",
    "save_dir=\"./image/\"\n",
    "\n",
    "#다운로드 옵션\n",
    "yt_opts={\n",
    "    #다운받을 영상의 파일명과 확장자명 설정\n",
    "    \"outtmpl\":f\"./image/%(title)s.%(ext)s\",\n",
    "    #최상의 품질 영상을 다운로드 \n",
    "    \"format\": \"bestvideo/best\"\n",
    "}\n",
    "\n",
    "# 다운로드 \n",
    "with yt_dlp.YoutubeDL(yt_opts) as yt:\n",
    "    yt.download(download_list)\n",
    "    \n",
    "print(\"종료\")"
   ]
  },
  {
   "cell_type": "code",
   "execution_count": 7,
   "metadata": {},
   "outputs": [
    {
     "name": "stdout",
     "output_type": "stream",
     "text": [
      "[youtube] XnPHJTEng_I: Downloading webpage\n",
      "[youtube] XnPHJTEng_I: Downloading android player API JSON\n",
      "[info] XnPHJTEng_I: Downloading 1 format(s): 248\n",
      "[download] Destination: image\\스마트인재개발원.webm\n",
      "[download] 100% of 4.57MiB in 00:01 at 3.02MiB/s      \n"
     ]
    }
   ],
   "source": [
    "import os\n",
    "import yt_dlp\n",
    "# 다운받을 영상 리스트\n",
    "download_list = [\"https://www.youtube.com/watch?v=XnPHJTEng_I\"]\n",
    "# 저장 폴더\n",
    "save_dir = \"./image/\"\n",
    "# 다운로드 옵션\n",
    "yt_opts = {\n",
    "    # 다운받을 영상의 파일명과 확장명 설정\n",
    "    \"outtmpl\" : f\"./image/%(title)s.%(ext)s\",\n",
    "    # 최상의 품질의 영상을 다운로드\n",
    "    \"format\" : \"bestvideo/best\"\n",
    "}\n",
    "# 다운로드\n",
    "with yt_dlp.YoutubeDL(yt_opts) as yt :\n",
    "    yt.download(download_list)"
   ]
  },
  {
   "cell_type": "markdown",
   "metadata": {},
   "source": [
    "## pytube로 유튜브 영상 다운로드\n",
    "  \n",
    "  - 영상과 음성을 모두 다운로드"
   ]
  },
  {
   "cell_type": "code",
   "execution_count": 1,
   "metadata": {},
   "outputs": [
    {
     "name": "stdout",
     "output_type": "stream",
     "text": [
      "Collecting git+https://github.com/nficano/pytube.git\n",
      "  Cloning https://github.com/nficano/pytube.git to c:\\users\\ai\\appdata\\local\\temp\\pip-req-build-3v5f52fy\n",
      "  Resolved https://github.com/nficano/pytube.git to commit 2e307d8d615ef30aa837fe2275954146dab07ca6\n",
      "  Preparing metadata (setup.py): started\n",
      "  Preparing metadata (setup.py): finished with status 'done'\n",
      "Building wheels for collected packages: pytube\n",
      "  Building wheel for pytube (setup.py): started\n",
      "  Building wheel for pytube (setup.py): finished with status 'done'\n",
      "  Created wheel for pytube: filename=pytube-12.1.0-py3-none-any.whl size=56929 sha256=ef86a88711fab5f777c5f39486313a654f06e208bf91f8950d0032062f421cba\n",
      "  Stored in directory: C:\\Users\\AI\\AppData\\Local\\Temp\\pip-ephem-wheel-cache-c30tpsyn\\wheels\\f1\\b5\\78\\12b4d0c5846b07ac841f094923d3b270c10c0a522dad8c2951\n",
      "Successfully built pytube\n",
      "Installing collected packages: pytube\n",
      "Successfully installed pytube-12.1.0\n"
     ]
    },
    {
     "name": "stderr",
     "output_type": "stream",
     "text": [
      "  Running command git clone --filter=blob:none --quiet https://github.com/nficano/pytube.git 'C:\\Users\\AI\\AppData\\Local\\Temp\\pip-req-build-3v5f52fy'\n"
     ]
    }
   ],
   "source": [
    "# 아나콘다 프롬프트 창에서 실행\n",
    "!pip install --upgrade \"git+https://github.com/nficano/pytube.git\""
   ]
  },
  {
   "cell_type": "code",
   "execution_count": null,
   "metadata": {},
   "outputs": [
    {
     "name": "stdout",
     "output_type": "stream",
     "text": [
      "제목:Rome, Italy - 4K Virtual Walking Tour around the City - Travel Guide\n",
      "조회수:2114269\n"
     ]
    }
   ],
   "source": [
    "# 실습\n",
    "\n",
    "import os\n",
    "import pytube\n",
    "from pytube.cli import on_progress\n",
    "\n",
    "url='https://www.youtube.com/watch?v=EsFheWkimsU'\n",
    "\n",
    "#유튜브로부터 영상을 가져온다.\n",
    "yt=pytube.YouTube(url)\n",
    "\n",
    "#영상정보 출력\n",
    "print(f\"제목:{yt.title}\")\n",
    "print(f\"조회수:{yt.views}\")\n",
    "\n",
    "#저장할 폴더\n",
    "save_dir=\"./image/\"\n",
    "\n",
    "#다운로드\n",
    "#progressive: 순차적으로 다운로드\n",
    "#file_extension: 파일 확장자 \n",
    "#order_by(\"resolution\"):해상도로 검색\n",
    "#desc() 내림차순\n",
    "#first() 첫번째 파일\n",
    "# order_by(\"resolution\").desc().first():해상도가 가장 높은 파일\n",
    "yt.streams.filter(progressive=True, file_extension=\"mp4\")\\\n",
    ".order_by(\"resolution\")\\\n",
    ".desc().first().download(save_dir)\n"
   ]
  },
  {
   "cell_type": "markdown",
   "metadata": {},
   "source": [
    "<table border=1 width=100%>\n",
    "    <tr><td style=\"border: 1px solid black; width:600px; text-align: left;\"><font size=4 color=red><b>실습문제</b></font><br><br>\n",
    "        <font size=4>○ 다른 유튜브 영상을 읽고 출력해보자.</font></td></tr>       \n",
    "    <tr><td style=\"border: 1px solid black; text-align: left;\">\n",
    "        <img src=\"./lecture_image/03_youtube.png\" width=50%></td></tr>   \n",
    "</table>"
   ]
  },
  {
   "cell_type": "markdown",
   "metadata": {},
   "source": [
    "<table border=1 width=100%>\n",
    "    <tr><td style=\"border: 1px solid black; width:600px; text-align: left;\"><font size=4 color=red><b>실습문제</b></font><br><br>\n",
    "        <font size=4>○ 다른 유튜브 영상을 저장해보자.</font></td></tr>   \n",
    "</table>"
   ]
  },
  {
   "cell_type": "markdown",
   "metadata": {},
   "source": [
    "<table border=1 width=100%>\n",
    "    <tr><td style=\"border: 1px solid black; width:600px; height:40px; text-align: center;\"><font size=4 color=blue><b>[3차시] 학습요약</b></font></td></tr>       \n",
    "    <tr><td style=\"border: 1px solid black; text-align: left;\"><font size=3>\n",
    "        \n",
    "○ <font color=red>cv2.VideoCapture()</font> : 비디오 캡처 (카메라, 동영상, 유튜브 등)<br>\n",
    "○ <font color=red>ret, frame = cap.read()</font> : 비디오로부터 프레임 이미지를 읽어서 반환<br>\n",
    "○ <font color=red>cv2.VideoWriter_fourcc ()</font> : 녹화 파일을 설정하는 함수<br>\n",
    "○ <font color=red>out.write()</font> : 영상을 저장<br>\n",
    "○ <font color=red>cv2.imwrite()</font> : 이미지를 저장<br>\n",
    "\n",
    "        \n",
    "○ 일반적인 동영상은 1초에 30장의 프레임이미지로 구성<br>\n",
    "○ pafy : 유투브 메타 데이터를 가져오는 라이브러리<br>\n",
    "○ yt-dlp : 유투브 영상을 다운로드하는 라이브러리 (음성 제외)<br>\n",
    "○ pytube : 유투브 영상을 다운로드하는 라이브러리 (음성 포함)\n",
    "         \n",
    "        \n",
    "</font></td></tr>   \n",
    "</table>"
   ]
  }
 ],
 "metadata": {
  "colab": {
   "name": "DL008_01_OpenCV.ipynb",
   "provenance": []
  },
  "hide_input": false,
  "kernelspec": {
   "display_name": "Python 3 (ipykernel)",
   "language": "python",
   "name": "python3"
  },
  "language_info": {
   "codemirror_mode": {
    "name": "ipython",
    "version": 3
   },
   "file_extension": ".py",
   "mimetype": "text/x-python",
   "name": "python",
   "nbconvert_exporter": "python",
   "pygments_lexer": "ipython3",
   "version": "3.7.13"
  },
  "toc": {
   "base_numbering": 1,
   "nav_menu": {},
   "number_sections": true,
   "sideBar": true,
   "skip_h1_title": false,
   "title_cell": "Table of Contents",
   "title_sidebar": "Contents",
   "toc_cell": false,
   "toc_position": {
    "height": "calc(100% - 180px)",
    "left": "10px",
    "top": "150px",
    "width": "165px"
   },
   "toc_section_display": true,
   "toc_window_display": true
  }
 },
 "nbformat": 4,
 "nbformat_minor": 1
}
