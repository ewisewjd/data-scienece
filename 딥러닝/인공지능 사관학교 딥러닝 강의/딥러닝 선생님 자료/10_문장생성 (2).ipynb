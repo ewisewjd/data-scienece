{
  "nbformat": 4,
  "nbformat_minor": 0,
  "metadata": {
    "colab": {
      "provenance": [],
      "collapsed_sections": []
    },
    "kernelspec": {
      "name": "python3",
      "display_name": "Python 3"
    },
    "language_info": {
      "name": "python"
    },
    "accelerator": "GPU"
  },
  "cells": [
    {
      "cell_type": "code",
      "execution_count": 3,
      "metadata": {
        "id": "mGn3hQcaGTzZ"
      },
      "outputs": [],
      "source": [
        "text = \"\"\"경마장에 있는 말이 뛰고 있다\\n\n",
        "그의 말이 법이다\\n\n",
        "가는 말이 고와야 오는 말이 곱다\"\"\""
      ]
    },
    {
      "cell_type": "markdown",
      "source": [
        "- 토큰화"
      ],
      "metadata": {
        "id": "TQFdImKoG5lm"
      }
    },
    {
      "cell_type": "code",
      "source": [
        "from tensorflow.keras.preprocessing.text import Tokenizer\n",
        "\n",
        "t = Tokenizer()\n",
        "# 문장 분석\n",
        "t.fit_on_texts([text])\n",
        "\n",
        "# 분석된 단어의 목록을 확인\n",
        "t.word_docs"
      ],
      "metadata": {
        "colab": {
          "base_uri": "https://localhost:8080/"
        },
        "id": "spB0IV8xGe5Y",
        "outputId": "be51379e-24f5-435a-9ce5-f7bccebfccb3"
      },
      "execution_count": 4,
      "outputs": [
        {
          "output_type": "execute_result",
          "data": {
            "text/plain": [
              "defaultdict(int,\n",
              "            {'법이다': 1,\n",
              "             '말이': 1,\n",
              "             '있다': 1,\n",
              "             '오는': 1,\n",
              "             '뛰고': 1,\n",
              "             '있는': 1,\n",
              "             '그의': 1,\n",
              "             '고와야': 1,\n",
              "             '가는': 1,\n",
              "             '곱다': 1,\n",
              "             '경마장에': 1})"
            ]
          },
          "metadata": {},
          "execution_count": 4
        }
      ]
    },
    {
      "cell_type": "code",
      "source": [
        "# 단어의 수를 저장\n",
        "vocab_size = len(t.word_docs) + 1\n",
        "\n",
        "vocab_size"
      ],
      "metadata": {
        "colab": {
          "base_uri": "https://localhost:8080/"
        },
        "id": "oOe83C08Ge8W",
        "outputId": "b726fce9-bd55-4714-84bd-f73f06878745"
      },
      "execution_count": 5,
      "outputs": [
        {
          "output_type": "execute_result",
          "data": {
            "text/plain": [
              "12"
            ]
          },
          "metadata": {},
          "execution_count": 5
        }
      ]
    },
    {
      "cell_type": "markdown",
      "source": [
        "- 정수 인코딩"
      ],
      "metadata": {
        "id": "_6ZgqaHsH91m"
      }
    },
    {
      "cell_type": "code",
      "source": [
        "seq = []\n",
        "\n",
        "# 문장을 한 줄씩 읽어온다\n",
        "for line in text.split(\"\\n\") :\n",
        "  encoded = t.texts_to_sequences([line])[0]\n",
        "\n",
        "  # 조합 가능한 단어 조합을 생성\n",
        "  for i in range(1, len(encoded)) :\n",
        "    s = encoded[:i+1]\n",
        "    seq.append(s)\n",
        "\n",
        "seq    \n",
        "\n",
        "# 경마장에 있는 말이 뛰고 있다\n",
        "#    경마장에 있는\n",
        "#    경마장에 있는 말이\n",
        "#    경마장에 있는 말이 뛰고\n",
        "#    경마장에 있는 말이 뛰고 있다\n",
        "# 그의 말이 법이다\n",
        "#    그의 말이\n",
        "#    그의 말이 법이다\n",
        "# 가는 말이 고와야 오는 말이 곱다\n",
        "#     가는 말이\n",
        "#     가는 말이 고와야\n",
        "#     가는 말이 고와야 오는\n",
        "#     가는 말이 고와야 오는 말이\n",
        "#     가는 말이 고와야 오는 말이 곱다"
      ],
      "metadata": {
        "colab": {
          "base_uri": "https://localhost:8080/"
        },
        "id": "7_ua6duDH9LH",
        "outputId": "6b1b8823-236e-450d-a2cc-e19401cbf382"
      },
      "execution_count": 6,
      "outputs": [
        {
          "output_type": "execute_result",
          "data": {
            "text/plain": [
              "[[2, 3],\n",
              " [2, 3, 1],\n",
              " [2, 3, 1, 4],\n",
              " [2, 3, 1, 4, 5],\n",
              " [6, 1],\n",
              " [6, 1, 7],\n",
              " [8, 1],\n",
              " [8, 1, 9],\n",
              " [8, 1, 9, 10],\n",
              " [8, 1, 9, 10, 1],\n",
              " [8, 1, 9, 10, 1, 11]]"
            ]
          },
          "metadata": {},
          "execution_count": 6
        }
      ]
    },
    {
      "cell_type": "markdown",
      "source": [
        "- 인코딩된 결과를 같은 길이로 만듬"
      ],
      "metadata": {
        "id": "kXlhYKNdJ5vI"
      }
    },
    {
      "cell_type": "code",
      "source": [
        "from tensorflow.keras.preprocessing.sequence import pad_sequences\n",
        "\n",
        "# 최대 길이의 문자의 단어수\n",
        "max_len = 6\n",
        "\n",
        "sequence = pad_sequences(seq, maxlen=max_len)\n",
        "sequence"
      ],
      "metadata": {
        "colab": {
          "base_uri": "https://localhost:8080/"
        },
        "id": "S7UnS7ZmGe_P",
        "outputId": "2fb0f110-d776-4ce4-89b7-b98cb165692f"
      },
      "execution_count": 7,
      "outputs": [
        {
          "output_type": "execute_result",
          "data": {
            "text/plain": [
              "array([[ 0,  0,  0,  0,  2,  3],\n",
              "       [ 0,  0,  0,  2,  3,  1],\n",
              "       [ 0,  0,  2,  3,  1,  4],\n",
              "       [ 0,  2,  3,  1,  4,  5],\n",
              "       [ 0,  0,  0,  0,  6,  1],\n",
              "       [ 0,  0,  0,  6,  1,  7],\n",
              "       [ 0,  0,  0,  0,  8,  1],\n",
              "       [ 0,  0,  0,  8,  1,  9],\n",
              "       [ 0,  0,  8,  1,  9, 10],\n",
              "       [ 0,  8,  1,  9, 10,  1],\n",
              "       [ 8,  1,  9, 10,  1, 11]], dtype=int32)"
            ]
          },
          "metadata": {},
          "execution_count": 7
        }
      ]
    },
    {
      "cell_type": "markdown",
      "source": [
        "- 특성데이터와 라벨데이터로 분리"
      ],
      "metadata": {
        "id": "T2Puf0jLKxaI"
      }
    },
    {
      "cell_type": "code",
      "source": [
        "X = sequence[:, :-1]\n",
        "y = sequence[:, -1]\n",
        "\n",
        "X.shape, y.shape"
      ],
      "metadata": {
        "colab": {
          "base_uri": "https://localhost:8080/"
        },
        "id": "tOJ2EVOMGfCI",
        "outputId": "c5bfe989-e7ee-4d80-b028-be4ca36db3f6"
      },
      "execution_count": 8,
      "outputs": [
        {
          "output_type": "execute_result",
          "data": {
            "text/plain": [
              "((11, 5), (11,))"
            ]
          },
          "metadata": {},
          "execution_count": 8
        }
      ]
    },
    {
      "cell_type": "markdown",
      "source": [
        "- y를 원핫인코딩"
      ],
      "metadata": {
        "id": "1cx4cJO9L0Nf"
      }
    },
    {
      "cell_type": "code",
      "source": [
        "# 값이 수치 형태의 데이터인 경우에만 원핫인코딩\n",
        "from tensorflow.keras.utils import to_categorical\n",
        "\n",
        "y_en = to_categorical(y, num_classes=vocab_size)\n",
        "\n",
        "y_en.shape"
      ],
      "metadata": {
        "colab": {
          "base_uri": "https://localhost:8080/"
        },
        "id": "potgSlEcGfE2",
        "outputId": "d52858a4-fb6c-4384-acfb-e5a7498e56b4"
      },
      "execution_count": 9,
      "outputs": [
        {
          "output_type": "execute_result",
          "data": {
            "text/plain": [
              "(11, 12)"
            ]
          },
          "metadata": {},
          "execution_count": 9
        }
      ]
    },
    {
      "cell_type": "code",
      "source": [
        "y_en"
      ],
      "metadata": {
        "colab": {
          "base_uri": "https://localhost:8080/"
        },
        "id": "2jjNeEngGfHh",
        "outputId": "d8e8b0ed-56f4-4843-d0a6-7df3f6007c5a"
      },
      "execution_count": 10,
      "outputs": [
        {
          "output_type": "execute_result",
          "data": {
            "text/plain": [
              "array([[0., 0., 0., 1., 0., 0., 0., 0., 0., 0., 0., 0.],\n",
              "       [0., 1., 0., 0., 0., 0., 0., 0., 0., 0., 0., 0.],\n",
              "       [0., 0., 0., 0., 1., 0., 0., 0., 0., 0., 0., 0.],\n",
              "       [0., 0., 0., 0., 0., 1., 0., 0., 0., 0., 0., 0.],\n",
              "       [0., 1., 0., 0., 0., 0., 0., 0., 0., 0., 0., 0.],\n",
              "       [0., 0., 0., 0., 0., 0., 0., 1., 0., 0., 0., 0.],\n",
              "       [0., 1., 0., 0., 0., 0., 0., 0., 0., 0., 0., 0.],\n",
              "       [0., 0., 0., 0., 0., 0., 0., 0., 0., 1., 0., 0.],\n",
              "       [0., 0., 0., 0., 0., 0., 0., 0., 0., 0., 1., 0.],\n",
              "       [0., 1., 0., 0., 0., 0., 0., 0., 0., 0., 0., 0.],\n",
              "       [0., 0., 0., 0., 0., 0., 0., 0., 0., 0., 0., 1.]], dtype=float32)"
            ]
          },
          "metadata": {},
          "execution_count": 10
        }
      ]
    },
    {
      "cell_type": "code",
      "source": [
        "y_en.shape"
      ],
      "metadata": {
        "colab": {
          "base_uri": "https://localhost:8080/"
        },
        "id": "9PQ1TRErQsA3",
        "outputId": "c6c63cb3-2c06-4c02-bea2-bfcc316c9079"
      },
      "execution_count": 11,
      "outputs": [
        {
          "output_type": "execute_result",
          "data": {
            "text/plain": [
              "(11, 12)"
            ]
          },
          "metadata": {},
          "execution_count": 11
        }
      ]
    },
    {
      "cell_type": "markdown",
      "source": [
        "- 신경망 설계"
      ],
      "metadata": {
        "id": "nw-1eNv_PiLg"
      }
    },
    {
      "cell_type": "code",
      "source": [
        "from tensorflow.keras.models import Sequential\n",
        "from tensorflow.keras.layers import Embedding, SimpleRNN, Dense\n",
        "\n",
        "model1 = Sequential()\n",
        "\n",
        "model1.add(Embedding(vocab_size, 10, input_length=5))\n",
        "\n",
        "model1.add(SimpleRNN(32))\n",
        "\n",
        "model1.add(Dense(12, activation=\"softmax\"))\n",
        "\n",
        "model1.summary()"
      ],
      "metadata": {
        "colab": {
          "base_uri": "https://localhost:8080/"
        },
        "id": "G2v07stmGfKO",
        "outputId": "5ed3d452-ca4e-4f80-f0ba-5a82071bf4a3"
      },
      "execution_count": 12,
      "outputs": [
        {
          "output_type": "stream",
          "name": "stdout",
          "text": [
            "Model: \"sequential\"\n",
            "_________________________________________________________________\n",
            " Layer (type)                Output Shape              Param #   \n",
            "=================================================================\n",
            " embedding (Embedding)       (None, 5, 10)             120       \n",
            "                                                                 \n",
            " simple_rnn (SimpleRNN)      (None, 32)                1376      \n",
            "                                                                 \n",
            " dense (Dense)               (None, 12)                396       \n",
            "                                                                 \n",
            "=================================================================\n",
            "Total params: 1,892\n",
            "Trainable params: 1,892\n",
            "Non-trainable params: 0\n",
            "_________________________________________________________________\n"
          ]
        }
      ]
    },
    {
      "cell_type": "code",
      "source": [
        "model1.compile(loss=\"categorical_crossentropy\",\n",
        "               optimizer=\"adam\",\n",
        "               metrics=[\"accuracy\"])"
      ],
      "metadata": {
        "id": "3h5pXYiCMqPA"
      },
      "execution_count": 13,
      "outputs": []
    },
    {
      "cell_type": "code",
      "source": [
        "h1 = model1.fit(X, y_en, epochs=200)"
      ],
      "metadata": {
        "colab": {
          "base_uri": "https://localhost:8080/"
        },
        "id": "OgBbdUipMqRu",
        "outputId": "bb0b55d8-c66f-43b3-b7be-36da02030877"
      },
      "execution_count": 14,
      "outputs": [
        {
          "output_type": "stream",
          "name": "stdout",
          "text": [
            "Epoch 1/200\n",
            "1/1 [==============================] - 1s 1s/step - loss: 2.4886 - accuracy: 0.0909\n",
            "Epoch 2/200\n",
            "1/1 [==============================] - 0s 12ms/step - loss: 2.4756 - accuracy: 0.0909\n",
            "Epoch 3/200\n",
            "1/1 [==============================] - 0s 9ms/step - loss: 2.4624 - accuracy: 0.0909\n",
            "Epoch 4/200\n",
            "1/1 [==============================] - 0s 11ms/step - loss: 2.4489 - accuracy: 0.0909\n",
            "Epoch 5/200\n",
            "1/1 [==============================] - 0s 8ms/step - loss: 2.4351 - accuracy: 0.0909\n",
            "Epoch 6/200\n",
            "1/1 [==============================] - 0s 8ms/step - loss: 2.4208 - accuracy: 0.1818\n",
            "Epoch 7/200\n",
            "1/1 [==============================] - 0s 9ms/step - loss: 2.4060 - accuracy: 0.1818\n",
            "Epoch 8/200\n",
            "1/1 [==============================] - 0s 8ms/step - loss: 2.3905 - accuracy: 0.1818\n",
            "Epoch 9/200\n",
            "1/1 [==============================] - 0s 7ms/step - loss: 2.3743 - accuracy: 0.2727\n",
            "Epoch 10/200\n",
            "1/1 [==============================] - 0s 12ms/step - loss: 2.3573 - accuracy: 0.3636\n",
            "Epoch 11/200\n",
            "1/1 [==============================] - 0s 8ms/step - loss: 2.3393 - accuracy: 0.3636\n",
            "Epoch 12/200\n",
            "1/1 [==============================] - 0s 9ms/step - loss: 2.3203 - accuracy: 0.3636\n",
            "Epoch 13/200\n",
            "1/1 [==============================] - 0s 10ms/step - loss: 2.3003 - accuracy: 0.3636\n",
            "Epoch 14/200\n",
            "1/1 [==============================] - 0s 7ms/step - loss: 2.2792 - accuracy: 0.3636\n",
            "Epoch 15/200\n",
            "1/1 [==============================] - 0s 8ms/step - loss: 2.2571 - accuracy: 0.3636\n",
            "Epoch 16/200\n",
            "1/1 [==============================] - 0s 8ms/step - loss: 2.2340 - accuracy: 0.3636\n",
            "Epoch 17/200\n",
            "1/1 [==============================] - 0s 13ms/step - loss: 2.2098 - accuracy: 0.3636\n",
            "Epoch 18/200\n",
            "1/1 [==============================] - 0s 7ms/step - loss: 2.1848 - accuracy: 0.3636\n",
            "Epoch 19/200\n",
            "1/1 [==============================] - 0s 7ms/step - loss: 2.1591 - accuracy: 0.3636\n",
            "Epoch 20/200\n",
            "1/1 [==============================] - 0s 8ms/step - loss: 2.1328 - accuracy: 0.3636\n",
            "Epoch 21/200\n",
            "1/1 [==============================] - 0s 7ms/step - loss: 2.1063 - accuracy: 0.3636\n",
            "Epoch 22/200\n",
            "1/1 [==============================] - 0s 8ms/step - loss: 2.0797 - accuracy: 0.3636\n",
            "Epoch 23/200\n",
            "1/1 [==============================] - 0s 9ms/step - loss: 2.0534 - accuracy: 0.3636\n",
            "Epoch 24/200\n",
            "1/1 [==============================] - 0s 7ms/step - loss: 2.0279 - accuracy: 0.3636\n",
            "Epoch 25/200\n",
            "1/1 [==============================] - 0s 7ms/step - loss: 2.0035 - accuracy: 0.3636\n",
            "Epoch 26/200\n",
            "1/1 [==============================] - 0s 7ms/step - loss: 1.9806 - accuracy: 0.3636\n",
            "Epoch 27/200\n",
            "1/1 [==============================] - 0s 8ms/step - loss: 1.9596 - accuracy: 0.3636\n",
            "Epoch 28/200\n",
            "1/1 [==============================] - 0s 7ms/step - loss: 1.9407 - accuracy: 0.3636\n",
            "Epoch 29/200\n",
            "1/1 [==============================] - 0s 7ms/step - loss: 1.9242 - accuracy: 0.3636\n",
            "Epoch 30/200\n",
            "1/1 [==============================] - 0s 7ms/step - loss: 1.9102 - accuracy: 0.3636\n",
            "Epoch 31/200\n",
            "1/1 [==============================] - 0s 7ms/step - loss: 1.8984 - accuracy: 0.3636\n",
            "Epoch 32/200\n",
            "1/1 [==============================] - 0s 8ms/step - loss: 1.8887 - accuracy: 0.3636\n",
            "Epoch 33/200\n",
            "1/1 [==============================] - 0s 7ms/step - loss: 1.8805 - accuracy: 0.3636\n",
            "Epoch 34/200\n",
            "1/1 [==============================] - 0s 8ms/step - loss: 1.8734 - accuracy: 0.3636\n",
            "Epoch 35/200\n",
            "1/1 [==============================] - 0s 7ms/step - loss: 1.8669 - accuracy: 0.3636\n",
            "Epoch 36/200\n",
            "1/1 [==============================] - 0s 12ms/step - loss: 1.8604 - accuracy: 0.3636\n",
            "Epoch 37/200\n",
            "1/1 [==============================] - 0s 12ms/step - loss: 1.8537 - accuracy: 0.3636\n",
            "Epoch 38/200\n",
            "1/1 [==============================] - 0s 8ms/step - loss: 1.8463 - accuracy: 0.3636\n",
            "Epoch 39/200\n",
            "1/1 [==============================] - 0s 8ms/step - loss: 1.8383 - accuracy: 0.3636\n",
            "Epoch 40/200\n",
            "1/1 [==============================] - 0s 8ms/step - loss: 1.8297 - accuracy: 0.3636\n",
            "Epoch 41/200\n",
            "1/1 [==============================] - 0s 7ms/step - loss: 1.8205 - accuracy: 0.3636\n",
            "Epoch 42/200\n",
            "1/1 [==============================] - 0s 10ms/step - loss: 1.8107 - accuracy: 0.3636\n",
            "Epoch 43/200\n",
            "1/1 [==============================] - 0s 7ms/step - loss: 1.8007 - accuracy: 0.3636\n",
            "Epoch 44/200\n",
            "1/1 [==============================] - 0s 7ms/step - loss: 1.7904 - accuracy: 0.3636\n",
            "Epoch 45/200\n",
            "1/1 [==============================] - 0s 7ms/step - loss: 1.7801 - accuracy: 0.3636\n",
            "Epoch 46/200\n",
            "1/1 [==============================] - 0s 7ms/step - loss: 1.7696 - accuracy: 0.3636\n",
            "Epoch 47/200\n",
            "1/1 [==============================] - 0s 7ms/step - loss: 1.7591 - accuracy: 0.3636\n",
            "Epoch 48/200\n",
            "1/1 [==============================] - 0s 7ms/step - loss: 1.7485 - accuracy: 0.3636\n",
            "Epoch 49/200\n",
            "1/1 [==============================] - 0s 15ms/step - loss: 1.7379 - accuracy: 0.3636\n",
            "Epoch 50/200\n",
            "1/1 [==============================] - 0s 12ms/step - loss: 1.7270 - accuracy: 0.3636\n",
            "Epoch 51/200\n",
            "1/1 [==============================] - 0s 9ms/step - loss: 1.7160 - accuracy: 0.3636\n",
            "Epoch 52/200\n",
            "1/1 [==============================] - 0s 10ms/step - loss: 1.7047 - accuracy: 0.3636\n",
            "Epoch 53/200\n",
            "1/1 [==============================] - 0s 8ms/step - loss: 1.6930 - accuracy: 0.3636\n",
            "Epoch 54/200\n",
            "1/1 [==============================] - 0s 7ms/step - loss: 1.6809 - accuracy: 0.3636\n",
            "Epoch 55/200\n",
            "1/1 [==============================] - 0s 7ms/step - loss: 1.6684 - accuracy: 0.3636\n",
            "Epoch 56/200\n",
            "1/1 [==============================] - 0s 7ms/step - loss: 1.6553 - accuracy: 0.4545\n",
            "Epoch 57/200\n",
            "1/1 [==============================] - 0s 7ms/step - loss: 1.6418 - accuracy: 0.5455\n",
            "Epoch 58/200\n",
            "1/1 [==============================] - 0s 7ms/step - loss: 1.6277 - accuracy: 0.5455\n",
            "Epoch 59/200\n",
            "1/1 [==============================] - 0s 7ms/step - loss: 1.6130 - accuracy: 0.5455\n",
            "Epoch 60/200\n",
            "1/1 [==============================] - 0s 7ms/step - loss: 1.5979 - accuracy: 0.5455\n",
            "Epoch 61/200\n",
            "1/1 [==============================] - 0s 7ms/step - loss: 1.5822 - accuracy: 0.5455\n",
            "Epoch 62/200\n",
            "1/1 [==============================] - 0s 7ms/step - loss: 1.5661 - accuracy: 0.5455\n",
            "Epoch 63/200\n",
            "1/1 [==============================] - 0s 7ms/step - loss: 1.5495 - accuracy: 0.5455\n",
            "Epoch 64/200\n",
            "1/1 [==============================] - 0s 7ms/step - loss: 1.5324 - accuracy: 0.5455\n",
            "Epoch 65/200\n",
            "1/1 [==============================] - 0s 7ms/step - loss: 1.5150 - accuracy: 0.5455\n",
            "Epoch 66/200\n",
            "1/1 [==============================] - 0s 7ms/step - loss: 1.4972 - accuracy: 0.5455\n",
            "Epoch 67/200\n",
            "1/1 [==============================] - 0s 7ms/step - loss: 1.4792 - accuracy: 0.5455\n",
            "Epoch 68/200\n",
            "1/1 [==============================] - 0s 7ms/step - loss: 1.4608 - accuracy: 0.5455\n",
            "Epoch 69/200\n",
            "1/1 [==============================] - 0s 7ms/step - loss: 1.4422 - accuracy: 0.5455\n",
            "Epoch 70/200\n",
            "1/1 [==============================] - 0s 7ms/step - loss: 1.4235 - accuracy: 0.5455\n",
            "Epoch 71/200\n",
            "1/1 [==============================] - 0s 7ms/step - loss: 1.4046 - accuracy: 0.5455\n",
            "Epoch 72/200\n",
            "1/1 [==============================] - 0s 8ms/step - loss: 1.3856 - accuracy: 0.5455\n",
            "Epoch 73/200\n",
            "1/1 [==============================] - 0s 9ms/step - loss: 1.3667 - accuracy: 0.5455\n",
            "Epoch 74/200\n",
            "1/1 [==============================] - 0s 9ms/step - loss: 1.3478 - accuracy: 0.5455\n",
            "Epoch 75/200\n",
            "1/1 [==============================] - 0s 9ms/step - loss: 1.3289 - accuracy: 0.6364\n",
            "Epoch 76/200\n",
            "1/1 [==============================] - 0s 8ms/step - loss: 1.3102 - accuracy: 0.6364\n",
            "Epoch 77/200\n",
            "1/1 [==============================] - 0s 8ms/step - loss: 1.2917 - accuracy: 0.6364\n",
            "Epoch 78/200\n",
            "1/1 [==============================] - 0s 9ms/step - loss: 1.2733 - accuracy: 0.6364\n",
            "Epoch 79/200\n",
            "1/1 [==============================] - 0s 9ms/step - loss: 1.2551 - accuracy: 0.6364\n",
            "Epoch 80/200\n",
            "1/1 [==============================] - 0s 10ms/step - loss: 1.2371 - accuracy: 0.6364\n",
            "Epoch 81/200\n",
            "1/1 [==============================] - 0s 10ms/step - loss: 1.2193 - accuracy: 0.6364\n",
            "Epoch 82/200\n",
            "1/1 [==============================] - 0s 9ms/step - loss: 1.2017 - accuracy: 0.6364\n",
            "Epoch 83/200\n",
            "1/1 [==============================] - 0s 9ms/step - loss: 1.1843 - accuracy: 0.6364\n",
            "Epoch 84/200\n",
            "1/1 [==============================] - 0s 9ms/step - loss: 1.1670 - accuracy: 0.6364\n",
            "Epoch 85/200\n",
            "1/1 [==============================] - 0s 9ms/step - loss: 1.1500 - accuracy: 0.6364\n",
            "Epoch 86/200\n",
            "1/1 [==============================] - 0s 8ms/step - loss: 1.1331 - accuracy: 0.6364\n",
            "Epoch 87/200\n",
            "1/1 [==============================] - 0s 8ms/step - loss: 1.1164 - accuracy: 0.6364\n",
            "Epoch 88/200\n",
            "1/1 [==============================] - 0s 9ms/step - loss: 1.0998 - accuracy: 0.6364\n",
            "Epoch 89/200\n",
            "1/1 [==============================] - 0s 9ms/step - loss: 1.0834 - accuracy: 0.6364\n",
            "Epoch 90/200\n",
            "1/1 [==============================] - 0s 9ms/step - loss: 1.0672 - accuracy: 0.6364\n",
            "Epoch 91/200\n",
            "1/1 [==============================] - 0s 8ms/step - loss: 1.0511 - accuracy: 0.6364\n",
            "Epoch 92/200\n",
            "1/1 [==============================] - 0s 9ms/step - loss: 1.0351 - accuracy: 0.6364\n",
            "Epoch 93/200\n",
            "1/1 [==============================] - 0s 8ms/step - loss: 1.0193 - accuracy: 0.7273\n",
            "Epoch 94/200\n",
            "1/1 [==============================] - 0s 9ms/step - loss: 1.0036 - accuracy: 0.7273\n",
            "Epoch 95/200\n",
            "1/1 [==============================] - 0s 8ms/step - loss: 0.9881 - accuracy: 0.7273\n",
            "Epoch 96/200\n",
            "1/1 [==============================] - 0s 8ms/step - loss: 0.9728 - accuracy: 0.7273\n",
            "Epoch 97/200\n",
            "1/1 [==============================] - 0s 8ms/step - loss: 0.9575 - accuracy: 0.7273\n",
            "Epoch 98/200\n",
            "1/1 [==============================] - 0s 9ms/step - loss: 0.9424 - accuracy: 0.7273\n",
            "Epoch 99/200\n",
            "1/1 [==============================] - 0s 9ms/step - loss: 0.9274 - accuracy: 0.7273\n",
            "Epoch 100/200\n",
            "1/1 [==============================] - 0s 8ms/step - loss: 0.9126 - accuracy: 0.7273\n",
            "Epoch 101/200\n",
            "1/1 [==============================] - 0s 9ms/step - loss: 0.8979 - accuracy: 0.7273\n",
            "Epoch 102/200\n",
            "1/1 [==============================] - 0s 9ms/step - loss: 0.8833 - accuracy: 0.7273\n",
            "Epoch 103/200\n",
            "1/1 [==============================] - 0s 9ms/step - loss: 0.8688 - accuracy: 0.7273\n",
            "Epoch 104/200\n",
            "1/1 [==============================] - 0s 8ms/step - loss: 0.8544 - accuracy: 0.7273\n",
            "Epoch 105/200\n",
            "1/1 [==============================] - 0s 9ms/step - loss: 0.8401 - accuracy: 0.7273\n",
            "Epoch 106/200\n",
            "1/1 [==============================] - 0s 9ms/step - loss: 0.8259 - accuracy: 0.7273\n",
            "Epoch 107/200\n",
            "1/1 [==============================] - 0s 9ms/step - loss: 0.8118 - accuracy: 0.7273\n",
            "Epoch 108/200\n",
            "1/1 [==============================] - 0s 9ms/step - loss: 0.7978 - accuracy: 0.7273\n",
            "Epoch 109/200\n",
            "1/1 [==============================] - 0s 13ms/step - loss: 0.7839 - accuracy: 0.7273\n",
            "Epoch 110/200\n",
            "1/1 [==============================] - 0s 11ms/step - loss: 0.7701 - accuracy: 0.7273\n",
            "Epoch 111/200\n",
            "1/1 [==============================] - 0s 8ms/step - loss: 0.7563 - accuracy: 0.7273\n",
            "Epoch 112/200\n",
            "1/1 [==============================] - 0s 9ms/step - loss: 0.7427 - accuracy: 0.7273\n",
            "Epoch 113/200\n",
            "1/1 [==============================] - 0s 9ms/step - loss: 0.7291 - accuracy: 0.7273\n",
            "Epoch 114/200\n",
            "1/1 [==============================] - 0s 9ms/step - loss: 0.7157 - accuracy: 0.8182\n",
            "Epoch 115/200\n",
            "1/1 [==============================] - 0s 9ms/step - loss: 0.7023 - accuracy: 0.8182\n",
            "Epoch 116/200\n",
            "1/1 [==============================] - 0s 9ms/step - loss: 0.6890 - accuracy: 0.9091\n",
            "Epoch 117/200\n",
            "1/1 [==============================] - 0s 9ms/step - loss: 0.6758 - accuracy: 0.9091\n",
            "Epoch 118/200\n",
            "1/1 [==============================] - 0s 9ms/step - loss: 0.6628 - accuracy: 0.9091\n",
            "Epoch 119/200\n",
            "1/1 [==============================] - 0s 8ms/step - loss: 0.6498 - accuracy: 0.9091\n",
            "Epoch 120/200\n",
            "1/1 [==============================] - 0s 9ms/step - loss: 0.6370 - accuracy: 0.9091\n",
            "Epoch 121/200\n",
            "1/1 [==============================] - 0s 9ms/step - loss: 0.6242 - accuracy: 0.9091\n",
            "Epoch 122/200\n",
            "1/1 [==============================] - 0s 9ms/step - loss: 0.6116 - accuracy: 0.9091\n",
            "Epoch 123/200\n",
            "1/1 [==============================] - 0s 9ms/step - loss: 0.5991 - accuracy: 0.9091\n",
            "Epoch 124/200\n",
            "1/1 [==============================] - 0s 9ms/step - loss: 0.5868 - accuracy: 0.9091\n",
            "Epoch 125/200\n",
            "1/1 [==============================] - 0s 10ms/step - loss: 0.5746 - accuracy: 0.9091\n",
            "Epoch 126/200\n",
            "1/1 [==============================] - 0s 9ms/step - loss: 0.5625 - accuracy: 0.9091\n",
            "Epoch 127/200\n",
            "1/1 [==============================] - 0s 8ms/step - loss: 0.5506 - accuracy: 0.9091\n",
            "Epoch 128/200\n",
            "1/1 [==============================] - 0s 9ms/step - loss: 0.5388 - accuracy: 0.9091\n",
            "Epoch 129/200\n",
            "1/1 [==============================] - 0s 9ms/step - loss: 0.5272 - accuracy: 0.9091\n",
            "Epoch 130/200\n",
            "1/1 [==============================] - 0s 9ms/step - loss: 0.5157 - accuracy: 0.9091\n",
            "Epoch 131/200\n",
            "1/1 [==============================] - 0s 9ms/step - loss: 0.5044 - accuracy: 0.9091\n",
            "Epoch 132/200\n",
            "1/1 [==============================] - 0s 9ms/step - loss: 0.4933 - accuracy: 0.9091\n",
            "Epoch 133/200\n",
            "1/1 [==============================] - 0s 8ms/step - loss: 0.4824 - accuracy: 0.9091\n",
            "Epoch 134/200\n",
            "1/1 [==============================] - 0s 8ms/step - loss: 0.4717 - accuracy: 0.9091\n",
            "Epoch 135/200\n",
            "1/1 [==============================] - 0s 8ms/step - loss: 0.4611 - accuracy: 0.9091\n",
            "Epoch 136/200\n",
            "1/1 [==============================] - 0s 7ms/step - loss: 0.4507 - accuracy: 0.9091\n",
            "Epoch 137/200\n",
            "1/1 [==============================] - 0s 7ms/step - loss: 0.4405 - accuracy: 0.9091\n",
            "Epoch 138/200\n",
            "1/1 [==============================] - 0s 7ms/step - loss: 0.4305 - accuracy: 0.9091\n",
            "Epoch 139/200\n",
            "1/1 [==============================] - 0s 7ms/step - loss: 0.4208 - accuracy: 0.9091\n",
            "Epoch 140/200\n",
            "1/1 [==============================] - 0s 8ms/step - loss: 0.4112 - accuracy: 0.9091\n",
            "Epoch 141/200\n",
            "1/1 [==============================] - 0s 9ms/step - loss: 0.4018 - accuracy: 0.9091\n",
            "Epoch 142/200\n",
            "1/1 [==============================] - 0s 7ms/step - loss: 0.3926 - accuracy: 0.9091\n",
            "Epoch 143/200\n",
            "1/1 [==============================] - 0s 7ms/step - loss: 0.3836 - accuracy: 0.9091\n",
            "Epoch 144/200\n",
            "1/1 [==============================] - 0s 7ms/step - loss: 0.3748 - accuracy: 0.9091\n",
            "Epoch 145/200\n",
            "1/1 [==============================] - 0s 7ms/step - loss: 0.3662 - accuracy: 0.9091\n",
            "Epoch 146/200\n",
            "1/1 [==============================] - 0s 7ms/step - loss: 0.3578 - accuracy: 0.9091\n",
            "Epoch 147/200\n",
            "1/1 [==============================] - 0s 7ms/step - loss: 0.3496 - accuracy: 0.9091\n",
            "Epoch 148/200\n",
            "1/1 [==============================] - 0s 7ms/step - loss: 0.3416 - accuracy: 0.9091\n",
            "Epoch 149/200\n",
            "1/1 [==============================] - 0s 7ms/step - loss: 0.3337 - accuracy: 0.9091\n",
            "Epoch 150/200\n",
            "1/1 [==============================] - 0s 10ms/step - loss: 0.3261 - accuracy: 0.9091\n",
            "Epoch 151/200\n",
            "1/1 [==============================] - 0s 7ms/step - loss: 0.3187 - accuracy: 0.9091\n",
            "Epoch 152/200\n",
            "1/1 [==============================] - 0s 7ms/step - loss: 0.3115 - accuracy: 0.9091\n",
            "Epoch 153/200\n",
            "1/1 [==============================] - 0s 7ms/step - loss: 0.3044 - accuracy: 0.9091\n",
            "Epoch 154/200\n",
            "1/1 [==============================] - 0s 7ms/step - loss: 0.2976 - accuracy: 0.9091\n",
            "Epoch 155/200\n",
            "1/1 [==============================] - 0s 7ms/step - loss: 0.2909 - accuracy: 0.9091\n",
            "Epoch 156/200\n",
            "1/1 [==============================] - 0s 7ms/step - loss: 0.2844 - accuracy: 1.0000\n",
            "Epoch 157/200\n",
            "1/1 [==============================] - 0s 7ms/step - loss: 0.2781 - accuracy: 1.0000\n",
            "Epoch 158/200\n",
            "1/1 [==============================] - 0s 8ms/step - loss: 0.2719 - accuracy: 1.0000\n",
            "Epoch 159/200\n",
            "1/1 [==============================] - 0s 9ms/step - loss: 0.2660 - accuracy: 1.0000\n",
            "Epoch 160/200\n",
            "1/1 [==============================] - 0s 9ms/step - loss: 0.2601 - accuracy: 1.0000\n",
            "Epoch 161/200\n",
            "1/1 [==============================] - 0s 12ms/step - loss: 0.2545 - accuracy: 1.0000\n",
            "Epoch 162/200\n",
            "1/1 [==============================] - 0s 13ms/step - loss: 0.2490 - accuracy: 1.0000\n",
            "Epoch 163/200\n",
            "1/1 [==============================] - 0s 8ms/step - loss: 0.2437 - accuracy: 1.0000\n",
            "Epoch 164/200\n",
            "1/1 [==============================] - 0s 9ms/step - loss: 0.2385 - accuracy: 1.0000\n",
            "Epoch 165/200\n",
            "1/1 [==============================] - 0s 10ms/step - loss: 0.2334 - accuracy: 1.0000\n",
            "Epoch 166/200\n",
            "1/1 [==============================] - 0s 13ms/step - loss: 0.2285 - accuracy: 1.0000\n",
            "Epoch 167/200\n",
            "1/1 [==============================] - 0s 19ms/step - loss: 0.2237 - accuracy: 1.0000\n",
            "Epoch 168/200\n",
            "1/1 [==============================] - 0s 18ms/step - loss: 0.2191 - accuracy: 1.0000\n",
            "Epoch 169/200\n",
            "1/1 [==============================] - 0s 17ms/step - loss: 0.2146 - accuracy: 1.0000\n",
            "Epoch 170/200\n",
            "1/1 [==============================] - 0s 14ms/step - loss: 0.2102 - accuracy: 1.0000\n",
            "Epoch 171/200\n",
            "1/1 [==============================] - 0s 11ms/step - loss: 0.2059 - accuracy: 1.0000\n",
            "Epoch 172/200\n",
            "1/1 [==============================] - 0s 10ms/step - loss: 0.2018 - accuracy: 1.0000\n",
            "Epoch 173/200\n",
            "1/1 [==============================] - 0s 12ms/step - loss: 0.1977 - accuracy: 1.0000\n",
            "Epoch 174/200\n",
            "1/1 [==============================] - 0s 11ms/step - loss: 0.1938 - accuracy: 1.0000\n",
            "Epoch 175/200\n",
            "1/1 [==============================] - 0s 11ms/step - loss: 0.1900 - accuracy: 1.0000\n",
            "Epoch 176/200\n",
            "1/1 [==============================] - 0s 14ms/step - loss: 0.1863 - accuracy: 1.0000\n",
            "Epoch 177/200\n",
            "1/1 [==============================] - 0s 12ms/step - loss: 0.1827 - accuracy: 1.0000\n",
            "Epoch 178/200\n",
            "1/1 [==============================] - 0s 9ms/step - loss: 0.1791 - accuracy: 1.0000\n",
            "Epoch 179/200\n",
            "1/1 [==============================] - 0s 13ms/step - loss: 0.1757 - accuracy: 1.0000\n",
            "Epoch 180/200\n",
            "1/1 [==============================] - 0s 14ms/step - loss: 0.1724 - accuracy: 1.0000\n",
            "Epoch 181/200\n",
            "1/1 [==============================] - 0s 15ms/step - loss: 0.1691 - accuracy: 1.0000\n",
            "Epoch 182/200\n",
            "1/1 [==============================] - 0s 11ms/step - loss: 0.1660 - accuracy: 1.0000\n",
            "Epoch 183/200\n",
            "1/1 [==============================] - 0s 11ms/step - loss: 0.1629 - accuracy: 1.0000\n",
            "Epoch 184/200\n",
            "1/1 [==============================] - 0s 15ms/step - loss: 0.1599 - accuracy: 1.0000\n",
            "Epoch 185/200\n",
            "1/1 [==============================] - 0s 20ms/step - loss: 0.1570 - accuracy: 1.0000\n",
            "Epoch 186/200\n",
            "1/1 [==============================] - 0s 12ms/step - loss: 0.1541 - accuracy: 1.0000\n",
            "Epoch 187/200\n",
            "1/1 [==============================] - 0s 12ms/step - loss: 0.1513 - accuracy: 1.0000\n",
            "Epoch 188/200\n",
            "1/1 [==============================] - 0s 10ms/step - loss: 0.1486 - accuracy: 1.0000\n",
            "Epoch 189/200\n",
            "1/1 [==============================] - 0s 10ms/step - loss: 0.1459 - accuracy: 1.0000\n",
            "Epoch 190/200\n",
            "1/1 [==============================] - 0s 7ms/step - loss: 0.1434 - accuracy: 1.0000\n",
            "Epoch 191/200\n",
            "1/1 [==============================] - 0s 7ms/step - loss: 0.1408 - accuracy: 1.0000\n",
            "Epoch 192/200\n",
            "1/1 [==============================] - 0s 8ms/step - loss: 0.1384 - accuracy: 1.0000\n",
            "Epoch 193/200\n",
            "1/1 [==============================] - 0s 7ms/step - loss: 0.1360 - accuracy: 1.0000\n",
            "Epoch 194/200\n",
            "1/1 [==============================] - 0s 7ms/step - loss: 0.1336 - accuracy: 1.0000\n",
            "Epoch 195/200\n",
            "1/1 [==============================] - 0s 8ms/step - loss: 0.1313 - accuracy: 1.0000\n",
            "Epoch 196/200\n",
            "1/1 [==============================] - 0s 8ms/step - loss: 0.1291 - accuracy: 1.0000\n",
            "Epoch 197/200\n",
            "1/1 [==============================] - 0s 8ms/step - loss: 0.1269 - accuracy: 1.0000\n",
            "Epoch 198/200\n",
            "1/1 [==============================] - 0s 8ms/step - loss: 0.1247 - accuracy: 1.0000\n",
            "Epoch 199/200\n",
            "1/1 [==============================] - 0s 8ms/step - loss: 0.1227 - accuracy: 1.0000\n",
            "Epoch 200/200\n",
            "1/1 [==============================] - 0s 8ms/step - loss: 0.1206 - accuracy: 1.0000\n"
          ]
        }
      ]
    },
    {
      "cell_type": "markdown",
      "source": [
        "- 문장을 생성하는 함수"
      ],
      "metadata": {
        "id": "vrJse9bSS6WY"
      }
    },
    {
      "cell_type": "code",
      "source": [
        "import numpy as np\n",
        "\n",
        "# model : 사용한 모델\n",
        "# t : 사용한 Tonkenizer\n",
        "# word : 입력단어\n",
        "# n : 입력단어로부터 예측할 단어 수\n",
        "def generate_seqence(model, t, current_word, n) :\n",
        "  init_word = current_word  # 입력된 단어로 시작해야 하므로 입력단어를 먼저 저장\n",
        "\n",
        "  # 생성한 문장을 저장할 변수 초기화\n",
        "  seq = \"\"\n",
        "\n",
        "  for _ in range(n) :\n",
        "    # 현재 단어를 인코딩하고 padding 처리를 수행\n",
        "    encoded = t.texts_to_sequences([current_word])[0]\n",
        "    encoded = pad_sequences([encoded], maxlen=max_len-1)\n",
        "\n",
        "    # 현재 단어로 다음 단어를 예측 (인덱스 반환)\n",
        "    result = np.argmax(model.predict(encoded))\n",
        "\n",
        "    #print(result)  \n",
        "    for word, index in t.word_index.items() :\n",
        "      # 예측한 단어와 동일한 인덱스의 단어가 있다면 종료\n",
        "      if index == result :\n",
        "        break\n",
        "      \n",
        "    # 현재단어와 예측한 단어를 연결\n",
        "    current_word = current_word + \" \" + word\n",
        "\n",
        "    seq = seq + \" \" + word\n",
        "\n",
        "  seq = init_word + seq\n",
        "\n",
        "  return seq "
      ],
      "metadata": {
        "id": "2YSFnD0EMqUf"
      },
      "execution_count": 23,
      "outputs": []
    },
    {
      "cell_type": "code",
      "source": [
        "generate_seqence(model1, t, \"오는 말이\", 2)"
      ],
      "metadata": {
        "colab": {
          "base_uri": "https://localhost:8080/",
          "height": 71
        },
        "id": "-gwEgt-8MqW-",
        "outputId": "bbf21a8e-58af-4e2a-c4d1-70d2ffa57f77"
      },
      "execution_count": 31,
      "outputs": [
        {
          "output_type": "stream",
          "name": "stdout",
          "text": [
            "1/1 [==============================] - 0s 16ms/step\n",
            "1/1 [==============================] - 0s 15ms/step\n"
          ]
        },
        {
          "output_type": "execute_result",
          "data": {
            "text/plain": [
              "'오는 말이 고와야 오는'"
            ],
            "application/vnd.google.colaboratory.intrinsic+json": {
              "type": "string"
            }
          },
          "metadata": {},
          "execution_count": 31
        }
      ]
    },
    {
      "cell_type": "code",
      "source": [],
      "metadata": {
        "id": "aWAeyEr6MqZp"
      },
      "execution_count": 16,
      "outputs": []
    },
    {
      "cell_type": "code",
      "source": [],
      "metadata": {
        "id": "fc3MiXalMqcB"
      },
      "execution_count": 16,
      "outputs": []
    },
    {
      "cell_type": "code",
      "source": [],
      "metadata": {
        "id": "oBrvFUK-Mqen"
      },
      "execution_count": 16,
      "outputs": []
    },
    {
      "cell_type": "code",
      "source": [],
      "metadata": {
        "id": "WIj6WpBnMqhO"
      },
      "execution_count": 16,
      "outputs": []
    },
    {
      "cell_type": "code",
      "source": [],
      "metadata": {
        "id": "Au7AHJ8LMqj2"
      },
      "execution_count": 16,
      "outputs": []
    },
    {
      "cell_type": "code",
      "source": [],
      "metadata": {
        "id": "nRLfm_woMqmB"
      },
      "execution_count": 16,
      "outputs": []
    }
  ]
}