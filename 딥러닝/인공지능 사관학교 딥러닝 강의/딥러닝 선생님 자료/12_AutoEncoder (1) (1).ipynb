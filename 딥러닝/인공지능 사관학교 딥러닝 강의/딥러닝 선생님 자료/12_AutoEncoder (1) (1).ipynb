{
  "nbformat": 4,
  "nbformat_minor": 0,
  "metadata": {
    "colab": {
      "provenance": [],
      "collapsed_sections": []
    },
    "kernelspec": {
      "name": "python3",
      "display_name": "Python 3"
    },
    "language_info": {
      "name": "python"
    }
  },
  "cells": [
    {
      "cell_type": "markdown",
      "source": [
        "# AutoEncoder \n",
        "\n",
        "- 입력 데이터를 출력 층에서 그대로 복원하는 은닉층의 신경망의 파라미터를 계산하는 것\n",
        "- 평가함수 : 오차 (출력층 - 입력층)\n",
        "\n",
        "\n",
        "- 구성 : 입력-인코더-은닉층-디코더-출력\n",
        "\n",
        "- 인코더 : 입력층에서 특성을 추출하는 기능\n",
        "- 디코더 : 추출한 특성을 이용해서 원래의 데이터를 복원하는 기능\n",
        "- 은닉층 : 입력의 데이터를 복원하기 위한 특성 파라미터를 계산 기능\n",
        "\n",
        "\n",
        "- 비지도 학습에 속함 - 라벨 데이터가 필요 없음"
      ],
      "metadata": {
        "id": "SOyQZc5u_Tml"
      }
    },
    {
      "cell_type": "markdown",
      "source": [
        "## (1) Uncomplete AE : 입력층보다 은닉층의 크기가 작은 AE"
      ],
      "metadata": {
        "id": "qizaKIImAUnN"
      }
    },
    {
      "cell_type": "markdown",
      "source": [
        "- 손글씨 데이터를 이용한 손글씨 복원"
      ],
      "metadata": {
        "id": "481-EFVGAlRH"
      }
    },
    {
      "cell_type": "code",
      "source": [
        "from tensorflow.keras.datasets import mnist\n",
        "\n",
        "# 데이터를 가져올 때 특성 데이터만 가져옴\n",
        "(X_train, _), (X_test, _) = mnist.load_data()"
      ],
      "metadata": {
        "colab": {
          "base_uri": "https://localhost:8080/"
        },
        "id": "LbqmG5DB_Tan",
        "outputId": "c40bf5db-f1f8-480e-f995-24d09dc37be1"
      },
      "execution_count": 2,
      "outputs": [
        {
          "output_type": "stream",
          "name": "stdout",
          "text": [
            "Downloading data from https://storage.googleapis.com/tensorflow/tf-keras-datasets/mnist.npz\n",
            "11490434/11490434 [==============================] - 0s 0us/step\n"
          ]
        }
      ]
    },
    {
      "cell_type": "code",
      "execution_count": 3,
      "metadata": {
        "id": "sWOTmSwV_CPP",
        "colab": {
          "base_uri": "https://localhost:8080/"
        },
        "outputId": "2089bb1d-a637-49c6-9340-6d173cde2686"
      },
      "outputs": [
        {
          "output_type": "execute_result",
          "data": {
            "text/plain": [
              "((60000, 28, 28), (10000, 28, 28))"
            ]
          },
          "metadata": {},
          "execution_count": 3
        }
      ],
      "source": [
        "X_train.shape, X_test.shape"
      ]
    },
    {
      "cell_type": "code",
      "source": [
        "# 정규화 (0-255 -> 0.0-1.0)\n",
        "# Dense층만 사용하므로 2차원 데이터를 1차원으로 변환\n",
        "X_train = X_train.reshape(60000, 28*28)\n",
        "X_test = X_test.reshape(10000, 28*28)\n",
        "\n",
        "X_train = X_train.astype(\"float32\") / 255\n",
        "X_test = X_test.astype(\"float32\") / 255"
      ],
      "metadata": {
        "id": "dm46J5cR_TdU"
      },
      "execution_count": 4,
      "outputs": []
    },
    {
      "cell_type": "code",
      "source": [
        "X_train.shape, X_test.shape"
      ],
      "metadata": {
        "colab": {
          "base_uri": "https://localhost:8080/"
        },
        "id": "CiepsyzNBbpH",
        "outputId": "c0923acd-4b88-4464-eb3a-aa0002bbc291"
      },
      "execution_count": 5,
      "outputs": [
        {
          "output_type": "execute_result",
          "data": {
            "text/plain": [
              "((60000, 784), (10000, 784))"
            ]
          },
          "metadata": {},
          "execution_count": 5
        }
      ]
    },
    {
      "cell_type": "code",
      "source": [
        "# 오토인코더 설계\n",
        "from tensorflow.keras.models import Sequential\n",
        "from tensorflow.keras.layers import Dense\n",
        "\n",
        "model1 = Sequential()\n",
        "\n",
        "# Uncomplete AE에서는 퍼셉트론의 수를 32개로 설정\n",
        "# 인코더\n",
        "model1.add(Dense(32, input_dim=784, activation=\"relu\"))\n",
        "\n",
        "# 디코더\n",
        "# 출력층의 수는 입력층의 수와 동일하게 설정\n",
        "model1.add(Dense(784, activation=\"sigmoid\"))\n",
        "\n",
        "model1.summary()"
      ],
      "metadata": {
        "colab": {
          "base_uri": "https://localhost:8080/"
        },
        "id": "gP_7w2gmBbr_",
        "outputId": "02397a3c-f23a-4881-9f95-056b1d3f107b"
      },
      "execution_count": 8,
      "outputs": [
        {
          "output_type": "stream",
          "name": "stdout",
          "text": [
            "Model: \"sequential_1\"\n",
            "_________________________________________________________________\n",
            " Layer (type)                Output Shape              Param #   \n",
            "=================================================================\n",
            " dense_2 (Dense)             (None, 32)                25120     \n",
            "                                                                 \n",
            " dense_3 (Dense)             (None, 784)               25872     \n",
            "                                                                 \n",
            "=================================================================\n",
            "Total params: 50,992\n",
            "Trainable params: 50,992\n",
            "Non-trainable params: 0\n",
            "_________________________________________________________________\n"
          ]
        }
      ]
    },
    {
      "cell_type": "code",
      "source": [
        "# AE는 평가도구 loss를 사용하므로 metrics를 설정하지 않음\n",
        "model1.compile(loss=\"binary_crossentropy\",\n",
        "               optimizer=\"adam\")"
      ],
      "metadata": {
        "id": "XBTndK-eBbu0"
      },
      "execution_count": 9,
      "outputs": []
    },
    {
      "cell_type": "code",
      "source": [
        "# 입력 데이터와 출력 데이터가 동일\n",
        "h1 = model1.fit(X_train, X_train, epochs=20, batch_size=256, shuffle=True,\n",
        "                validation_data=(X_test, X_test))"
      ],
      "metadata": {
        "colab": {
          "base_uri": "https://localhost:8080/"
        },
        "id": "HeNwwJ0fBbx0",
        "outputId": "7c13fdde-9c43-4368-d35f-d0ef8548a56e"
      },
      "execution_count": 10,
      "outputs": [
        {
          "output_type": "stream",
          "name": "stdout",
          "text": [
            "Epoch 1/20\n",
            "235/235 [==============================] - 4s 14ms/step - loss: 0.2803 - val_loss: 0.1931\n",
            "Epoch 2/20\n",
            "235/235 [==============================] - 3s 13ms/step - loss: 0.1727 - val_loss: 0.1548\n",
            "Epoch 3/20\n",
            "235/235 [==============================] - 3s 14ms/step - loss: 0.1452 - val_loss: 0.1343\n",
            "Epoch 4/20\n",
            "235/235 [==============================] - 3s 14ms/step - loss: 0.1288 - val_loss: 0.1213\n",
            "Epoch 5/20\n",
            "235/235 [==============================] - 3s 14ms/step - loss: 0.1182 - val_loss: 0.1128\n",
            "Epoch 6/20\n",
            "235/235 [==============================] - 3s 13ms/step - loss: 0.1111 - val_loss: 0.1070\n",
            "Epoch 7/20\n",
            "235/235 [==============================] - 3s 13ms/step - loss: 0.1062 - val_loss: 0.1028\n",
            "Epoch 8/20\n",
            "235/235 [==============================] - 3s 13ms/step - loss: 0.1025 - val_loss: 0.0998\n",
            "Epoch 9/20\n",
            "235/235 [==============================] - 3s 12ms/step - loss: 0.0998 - val_loss: 0.0976\n",
            "Epoch 10/20\n",
            "235/235 [==============================] - 3s 12ms/step - loss: 0.0979 - val_loss: 0.0960\n",
            "Epoch 11/20\n",
            "235/235 [==============================] - 3s 12ms/step - loss: 0.0966 - val_loss: 0.0948\n",
            "Epoch 12/20\n",
            "235/235 [==============================] - 3s 12ms/step - loss: 0.0957 - val_loss: 0.0941\n",
            "Epoch 13/20\n",
            "235/235 [==============================] - 3s 12ms/step - loss: 0.0951 - val_loss: 0.0936\n",
            "Epoch 14/20\n",
            "235/235 [==============================] - 3s 12ms/step - loss: 0.0947 - val_loss: 0.0932\n",
            "Epoch 15/20\n",
            "235/235 [==============================] - 3s 12ms/step - loss: 0.0944 - val_loss: 0.0930\n",
            "Epoch 16/20\n",
            "235/235 [==============================] - 3s 12ms/step - loss: 0.0942 - val_loss: 0.0927\n",
            "Epoch 17/20\n",
            "235/235 [==============================] - 3s 12ms/step - loss: 0.0940 - val_loss: 0.0926\n",
            "Epoch 18/20\n",
            "235/235 [==============================] - 3s 12ms/step - loss: 0.0938 - val_loss: 0.0924\n",
            "Epoch 19/20\n",
            "235/235 [==============================] - 3s 12ms/step - loss: 0.0937 - val_loss: 0.0925\n",
            "Epoch 20/20\n",
            "235/235 [==============================] - 3s 12ms/step - loss: 0.0936 - val_loss: 0.0924\n"
          ]
        }
      ]
    },
    {
      "cell_type": "code",
      "source": [
        "# 예측\n",
        "decode1 = model1.predict(X_test)"
      ],
      "metadata": {
        "colab": {
          "base_uri": "https://localhost:8080/"
        },
        "id": "V2y9bt2oBb1Z",
        "outputId": "b88b1aba-fc94-489a-c3bf-6523b89f7fe1"
      },
      "execution_count": 12,
      "outputs": [
        {
          "output_type": "stream",
          "name": "stdout",
          "text": [
            "313/313 [==============================] - 1s 2ms/step\n"
          ]
        }
      ]
    },
    {
      "cell_type": "code",
      "source": [
        "decode1.mean()"
      ],
      "metadata": {
        "colab": {
          "base_uri": "https://localhost:8080/"
        },
        "id": "erb_hBvP_TgE",
        "outputId": "a527c753-3f75-41dd-924a-c243af0792d3"
      },
      "execution_count": 13,
      "outputs": [
        {
          "output_type": "execute_result",
          "data": {
            "text/plain": [
              "0.13254446"
            ]
          },
          "metadata": {},
          "execution_count": 13
        }
      ]
    },
    {
      "cell_type": "code",
      "source": [
        "# 결과 시각화\n",
        "import matplotlib.pyplot as plt\n",
        "\n",
        "# 출력 이미지 수\n",
        "n = 10\n",
        "\n",
        "plt.figure(figsize=(20, 4))\n",
        "\n",
        "for i in range(n) :\n",
        "  # 원본 이미지\n",
        "  # 행, 열, 출력위치\n",
        "  plt.subplot(2, n, i+1)\n",
        "  plt.imshow(X_test[i].reshape(28, 28), cmap=\"gray\")\n",
        "  plt.axis(\"off\")\n",
        "\n",
        "  # 생성 이미지\n",
        "  plt.subplot(2, n, i+1+n)\n",
        "  plt.imshow(decode1[i].reshape(28, 28), cmap=\"gray\")\n",
        "  plt.axis(\"off\")"
      ],
      "metadata": {
        "colab": {
          "base_uri": "https://localhost:8080/",
          "height": 185
        },
        "id": "p4Hu3jQrHvct",
        "outputId": "e0289937-0e6e-4f3b-bf9d-a8a81f6f4e32"
      },
      "execution_count": 16,
      "outputs": [
        {
          "output_type": "display_data",
          "data": {
            "text/plain": [
              "<Figure size 1440x288 with 20 Axes>"
            ],
            "image/png": "[encoded data removed]"
          },
          "metadata": {
            "needs_background": "light"
          }
        }
      ]
    },
    {
      "cell_type": "markdown",
      "source": [
        "## (2) Sparse AE \n",
        "- 입력층에 L1이나 L2를 추가해서 과적합 부분을 줄여준 것"
      ],
      "metadata": {
        "id": "vsHkwYzmJmo3"
      }
    },
    {
      "cell_type": "code",
      "source": [
        "from tensorflow.keras import regularizers\n",
        "\n",
        "model2 = Sequential()\n",
        "\n",
        "# 인코더\n",
        "# L1 규제를 추가\n",
        "model2.add(Dense(32, input_dim=784, activation=\"relu\",\n",
        "                 activity_regularizer=regularizers.l1(10e-7)))\n",
        "\n",
        "# 디코더\n",
        "model2.add(Dense(784, activation=\"sigmoid\"))\n",
        "\n",
        "model2.summary()"
      ],
      "metadata": {
        "colab": {
          "base_uri": "https://localhost:8080/"
        },
        "id": "GaE1mdgvHvfk",
        "outputId": "cfc5ff6f-3d41-4eaa-df6c-dae8cba10310"
      },
      "execution_count": 17,
      "outputs": [
        {
          "output_type": "stream",
          "name": "stdout",
          "text": [
            "Model: \"sequential_2\"\n",
            "_________________________________________________________________\n",
            " Layer (type)                Output Shape              Param #   \n",
            "=================================================================\n",
            " dense_4 (Dense)             (None, 32)                25120     \n",
            "                                                                 \n",
            " dense_5 (Dense)             (None, 784)               25872     \n",
            "                                                                 \n",
            "=================================================================\n",
            "Total params: 50,992\n",
            "Trainable params: 50,992\n",
            "Non-trainable params: 0\n",
            "_________________________________________________________________\n"
          ]
        }
      ]
    },
    {
      "cell_type": "code",
      "source": [
        "model2.compile(loss=\"binary_crossentropy\",\n",
        "               optimizer=\"adam\")"
      ],
      "metadata": {
        "id": "V99Y0nfWHviO"
      },
      "execution_count": 18,
      "outputs": []
    },
    {
      "cell_type": "code",
      "source": [
        "h2 = model2.fit(X_train, X_train, epochs=50, batch_size=256, shuffle = True,\n",
        "                validation_data=(X_test, X_test))"
      ],
      "metadata": {
        "colab": {
          "base_uri": "https://localhost:8080/"
        },
        "id": "a3qdDJ00HvlH",
        "outputId": "83447aa0-73ee-440f-8734-937f508bc0a1"
      },
      "execution_count": 19,
      "outputs": [
        {
          "output_type": "stream",
          "name": "stdout",
          "text": [
            "Epoch 1/50\n",
            "235/235 [==============================] - 3s 12ms/step - loss: 0.2784 - val_loss: 0.1907\n",
            "Epoch 2/50\n",
            "235/235 [==============================] - 3s 12ms/step - loss: 0.1711 - val_loss: 0.1538\n",
            "Epoch 3/50\n",
            "235/235 [==============================] - 3s 12ms/step - loss: 0.1443 - val_loss: 0.1340\n",
            "Epoch 4/50\n",
            "235/235 [==============================] - 3s 12ms/step - loss: 0.1291 - val_loss: 0.1226\n",
            "Epoch 5/50\n",
            "235/235 [==============================] - 3s 12ms/step - loss: 0.1195 - val_loss: 0.1145\n",
            "Epoch 6/50\n",
            "235/235 [==============================] - 3s 12ms/step - loss: 0.1124 - val_loss: 0.1085\n",
            "Epoch 7/50\n",
            "235/235 [==============================] - 3s 12ms/step - loss: 0.1072 - val_loss: 0.1041\n",
            "Epoch 8/50\n",
            "235/235 [==============================] - 3s 12ms/step - loss: 0.1032 - val_loss: 0.1004\n",
            "Epoch 9/50\n",
            "235/235 [==============================] - 3s 12ms/step - loss: 0.1002 - val_loss: 0.0979\n",
            "Epoch 10/50\n",
            "235/235 [==============================] - 3s 12ms/step - loss: 0.0981 - val_loss: 0.0961\n",
            "Epoch 11/50\n",
            "235/235 [==============================] - 3s 12ms/step - loss: 0.0968 - val_loss: 0.0949\n",
            "Epoch 12/50\n",
            "235/235 [==============================] - 3s 12ms/step - loss: 0.0959 - val_loss: 0.0942\n",
            "Epoch 13/50\n",
            "235/235 [==============================] - 3s 13ms/step - loss: 0.0953 - val_loss: 0.0937\n",
            "Epoch 14/50\n",
            "235/235 [==============================] - 3s 12ms/step - loss: 0.0949 - val_loss: 0.0934\n",
            "Epoch 15/50\n",
            "235/235 [==============================] - 3s 12ms/step - loss: 0.0946 - val_loss: 0.0931\n",
            "Epoch 16/50\n",
            "235/235 [==============================] - 3s 12ms/step - loss: 0.0943 - val_loss: 0.0929\n",
            "Epoch 17/50\n",
            "235/235 [==============================] - 3s 13ms/step - loss: 0.0941 - val_loss: 0.0929\n",
            "Epoch 18/50\n",
            "235/235 [==============================] - 4s 19ms/step - loss: 0.0940 - val_loss: 0.0927\n",
            "Epoch 19/50\n",
            "235/235 [==============================] - 3s 13ms/step - loss: 0.0939 - val_loss: 0.0926\n",
            "Epoch 20/50\n",
            "235/235 [==============================] - 3s 13ms/step - loss: 0.0938 - val_loss: 0.0924\n",
            "Epoch 21/50\n",
            "235/235 [==============================] - 3s 12ms/step - loss: 0.0937 - val_loss: 0.0924\n",
            "Epoch 22/50\n",
            "235/235 [==============================] - 3s 12ms/step - loss: 0.0936 - val_loss: 0.0923\n",
            "Epoch 23/50\n",
            "235/235 [==============================] - 3s 12ms/step - loss: 0.0935 - val_loss: 0.0923\n",
            "Epoch 24/50\n",
            "235/235 [==============================] - 4s 17ms/step - loss: 0.0935 - val_loss: 0.0922\n",
            "Epoch 25/50\n",
            "235/235 [==============================] - 4s 19ms/step - loss: 0.0934 - val_loss: 0.0921\n",
            "Epoch 26/50\n",
            "235/235 [==============================] - 3s 12ms/step - loss: 0.0934 - val_loss: 0.0921\n",
            "Epoch 27/50\n",
            "235/235 [==============================] - 3s 13ms/step - loss: 0.0933 - val_loss: 0.0920\n",
            "Epoch 28/50\n",
            "235/235 [==============================] - 3s 13ms/step - loss: 0.0933 - val_loss: 0.0920\n",
            "Epoch 29/50\n",
            "235/235 [==============================] - 3s 12ms/step - loss: 0.0932 - val_loss: 0.0920\n",
            "Epoch 30/50\n",
            "235/235 [==============================] - 3s 12ms/step - loss: 0.0932 - val_loss: 0.0920\n",
            "Epoch 31/50\n",
            "235/235 [==============================] - 3s 13ms/step - loss: 0.0932 - val_loss: 0.0919\n",
            "Epoch 32/50\n",
            "235/235 [==============================] - 3s 12ms/step - loss: 0.0931 - val_loss: 0.0919\n",
            "Epoch 33/50\n",
            "235/235 [==============================] - 3s 12ms/step - loss: 0.0931 - val_loss: 0.0920\n",
            "Epoch 34/50\n",
            "235/235 [==============================] - 3s 13ms/step - loss: 0.0931 - val_loss: 0.0919\n",
            "Epoch 35/50\n",
            "235/235 [==============================] - 3s 12ms/step - loss: 0.0931 - val_loss: 0.0919\n",
            "Epoch 36/50\n",
            "235/235 [==============================] - 3s 12ms/step - loss: 0.0930 - val_loss: 0.0918\n",
            "Epoch 37/50\n",
            "235/235 [==============================] - 3s 12ms/step - loss: 0.0930 - val_loss: 0.0919\n",
            "Epoch 38/50\n",
            "235/235 [==============================] - 3s 12ms/step - loss: 0.0930 - val_loss: 0.0918\n",
            "Epoch 39/50\n",
            "235/235 [==============================] - 3s 12ms/step - loss: 0.0930 - val_loss: 0.0918\n",
            "Epoch 40/50\n",
            "235/235 [==============================] - 3s 12ms/step - loss: 0.0930 - val_loss: 0.0918\n",
            "Epoch 41/50\n",
            "235/235 [==============================] - 3s 13ms/step - loss: 0.0929 - val_loss: 0.0918\n",
            "Epoch 42/50\n",
            "235/235 [==============================] - 3s 12ms/step - loss: 0.0929 - val_loss: 0.0917\n",
            "Epoch 43/50\n",
            "235/235 [==============================] - 3s 13ms/step - loss: 0.0929 - val_loss: 0.0919\n",
            "Epoch 44/50\n",
            "235/235 [==============================] - 3s 12ms/step - loss: 0.0929 - val_loss: 0.0919\n",
            "Epoch 45/50\n",
            "235/235 [==============================] - 3s 13ms/step - loss: 0.0929 - val_loss: 0.0918\n",
            "Epoch 46/50\n",
            "235/235 [==============================] - 3s 12ms/step - loss: 0.0929 - val_loss: 0.0917\n",
            "Epoch 47/50\n",
            "235/235 [==============================] - 3s 12ms/step - loss: 0.0929 - val_loss: 0.0917\n",
            "Epoch 48/50\n",
            "235/235 [==============================] - 3s 13ms/step - loss: 0.0928 - val_loss: 0.0917\n",
            "Epoch 49/50\n",
            "235/235 [==============================] - 3s 12ms/step - loss: 0.0928 - val_loss: 0.0918\n",
            "Epoch 50/50\n",
            "235/235 [==============================] - 3s 12ms/step - loss: 0.0928 - val_loss: 0.0917\n"
          ]
        }
      ]
    },
    {
      "cell_type": "code",
      "source": [
        "decode2 = model2.predict(X_test)"
      ],
      "metadata": {
        "colab": {
          "base_uri": "https://localhost:8080/"
        },
        "id": "fbqtbK0lHvn0",
        "outputId": "15e19ae5-866b-463b-9dc9-c094fca1a4bf"
      },
      "execution_count": 20,
      "outputs": [
        {
          "output_type": "stream",
          "name": "stdout",
          "text": [
            "313/313 [==============================] - 1s 2ms/step\n"
          ]
        }
      ]
    },
    {
      "cell_type": "code",
      "source": [
        "# 결과 시각화\n",
        "import matplotlib.pyplot as plt\n",
        "\n",
        "# 출력 이미지 수\n",
        "n = 10\n",
        "\n",
        "plt.figure(figsize=(20, 4))\n",
        "\n",
        "for i in range(n) :\n",
        "  # 원본 이미지\n",
        "  # 행, 열, 출력위치\n",
        "  plt.subplot(2, n, i+1)\n",
        "  plt.imshow(X_test[i].reshape(28, 28), cmap=\"gray\")\n",
        "  plt.axis(\"off\")\n",
        "\n",
        "  # 생성 이미지\n",
        "  plt.subplot(2, n, i+1+n)\n",
        "  plt.imshow(decode2[i].reshape(28, 28), cmap=\"gray\")\n",
        "  plt.axis(\"off\")"
      ],
      "metadata": {
        "colab": {
          "base_uri": "https://localhost:8080/",
          "height": 264
        },
        "id": "NZe8WKyCHvqk",
        "outputId": "3306b0e3-8ffb-47d0-90a5-c452304fd113"
      },
      "execution_count": 21,
      "outputs": [
        {
          "output_type": "display_data",
          "data": {
            "text/plain": [
              "<Figure size 1440x288 with 20 Axes>"
            ],
            "image/png": "[encoded data removed]"
          },
          "metadata": {
            "needs_background": "light"
          }
        }
      ]
    },
    {
      "cell_type": "markdown",
      "source": [
        "# (3) Stacked AE (Deep Fully-connected AE) \n",
        "\n",
        "- 은닉층을 더 많이 쌓은 것\n",
        "- 인코더와 디코더는 대칭되도록 퍼셉트론 수를 맞추어야 함"
      ],
      "metadata": {
        "id": "9Z0YI9tPM5Gs"
      }
    },
    {
      "cell_type": "code",
      "source": [
        "model3 = Sequential()\n",
        "\n",
        "# 인코더\n",
        "model3.add(Dense(128, input_dim=784, activation=\"relu\"))\n",
        "\n",
        "# 은닉층 (인코더 쪽) - 은닉층의 퍼셉트론 수를 줄여감\n",
        "model3.add(Dense(64))\n",
        "\n",
        "model3.add(Dense(32))\n",
        "\n",
        "# 은닉층 (디코더 쪽) - 은닉층의 페셉트론 수를 늘려감\n",
        "model3.add(Dense(64))\n",
        "model3.add(Dense(128))\n",
        "\n",
        "# 디코더\n",
        "model3.add(Dense(784, activation=\"sigmoid\"))\n",
        "\n",
        "model3.summary()"
      ],
      "metadata": {
        "colab": {
          "base_uri": "https://localhost:8080/"
        },
        "id": "RoECMlylHvtB",
        "outputId": "9c80269c-5667-49e4-ffe2-0baec6834305"
      },
      "execution_count": 22,
      "outputs": [
        {
          "output_type": "stream",
          "name": "stdout",
          "text": [
            "Model: \"sequential_3\"\n",
            "_________________________________________________________________\n",
            " Layer (type)                Output Shape              Param #   \n",
            "=================================================================\n",
            " dense_6 (Dense)             (None, 128)               100480    \n",
            "                                                                 \n",
            " dense_7 (Dense)             (None, 64)                8256      \n",
            "                                                                 \n",
            " dense_8 (Dense)             (None, 32)                2080      \n",
            "                                                                 \n",
            " dense_9 (Dense)             (None, 64)                2112      \n",
            "                                                                 \n",
            " dense_10 (Dense)            (None, 128)               8320      \n",
            "                                                                 \n",
            " dense_11 (Dense)            (None, 784)               101136    \n",
            "                                                                 \n",
            "=================================================================\n",
            "Total params: 222,384\n",
            "Trainable params: 222,384\n",
            "Non-trainable params: 0\n",
            "_________________________________________________________________\n"
          ]
        }
      ]
    },
    {
      "cell_type": "code",
      "source": [
        "model3.compile(loss=\"binary_crossentropy\", optimizer=\"adam\")"
      ],
      "metadata": {
        "id": "ojjeglV_M4tG"
      },
      "execution_count": 23,
      "outputs": []
    },
    {
      "cell_type": "code",
      "source": [
        "h3 = model3.fit(X_train, X_train, epochs=20, batch_size=256, shuffle=True,\n",
        "                validation_data=(X_test, X_test))"
      ],
      "metadata": {
        "colab": {
          "base_uri": "https://localhost:8080/"
        },
        "id": "Uadu9t7SM4v0",
        "outputId": "65cddcd3-3a9c-4cd8-e1cf-affb337329d0"
      },
      "execution_count": 24,
      "outputs": [
        {
          "output_type": "stream",
          "name": "stdout",
          "text": [
            "Epoch 1/20\n",
            "235/235 [==============================] - 5s 20ms/step - loss: 0.2077 - val_loss: 0.1413\n",
            "Epoch 2/20\n",
            "235/235 [==============================] - 6s 25ms/step - loss: 0.1302 - val_loss: 0.1193\n",
            "Epoch 3/20\n",
            "235/235 [==============================] - 7s 30ms/step - loss: 0.1169 - val_loss: 0.1114\n",
            "Epoch 4/20\n",
            "235/235 [==============================] - 4s 18ms/step - loss: 0.1095 - val_loss: 0.1045\n",
            "Epoch 5/20\n",
            "235/235 [==============================] - 5s 23ms/step - loss: 0.1039 - val_loss: 0.1004\n",
            "Epoch 6/20\n",
            "235/235 [==============================] - 5s 20ms/step - loss: 0.1008 - val_loss: 0.0981\n",
            "Epoch 7/20\n",
            "235/235 [==============================] - 4s 18ms/step - loss: 0.0984 - val_loss: 0.0958\n",
            "Epoch 8/20\n",
            "235/235 [==============================] - 4s 18ms/step - loss: 0.0960 - val_loss: 0.0937\n",
            "Epoch 9/20\n",
            "235/235 [==============================] - 4s 18ms/step - loss: 0.0942 - val_loss: 0.0921\n",
            "Epoch 10/20\n",
            "235/235 [==============================] - 4s 18ms/step - loss: 0.0928 - val_loss: 0.0909\n",
            "Epoch 11/20\n",
            "235/235 [==============================] - 4s 17ms/step - loss: 0.0916 - val_loss: 0.0899\n",
            "Epoch 12/20\n",
            "235/235 [==============================] - 4s 17ms/step - loss: 0.0906 - val_loss: 0.0890\n",
            "Epoch 13/20\n",
            "235/235 [==============================] - 4s 18ms/step - loss: 0.0895 - val_loss: 0.0878\n",
            "Epoch 14/20\n",
            "235/235 [==============================] - 4s 17ms/step - loss: 0.0885 - val_loss: 0.0871\n",
            "Epoch 15/20\n",
            "235/235 [==============================] - 4s 17ms/step - loss: 0.0877 - val_loss: 0.0863\n",
            "Epoch 16/20\n",
            "235/235 [==============================] - 5s 20ms/step - loss: 0.0870 - val_loss: 0.0857\n",
            "Epoch 17/20\n",
            "235/235 [==============================] - 6s 24ms/step - loss: 0.0864 - val_loss: 0.0852\n",
            "Epoch 18/20\n",
            "235/235 [==============================] - 4s 18ms/step - loss: 0.0859 - val_loss: 0.0846\n",
            "Epoch 19/20\n",
            "235/235 [==============================] - 4s 18ms/step - loss: 0.0854 - val_loss: 0.0844\n",
            "Epoch 20/20\n",
            "235/235 [==============================] - 4s 17ms/step - loss: 0.0850 - val_loss: 0.0842\n"
          ]
        }
      ]
    },
    {
      "cell_type": "code",
      "source": [
        "decode3 = model3.predict(X_test)"
      ],
      "metadata": {
        "colab": {
          "base_uri": "https://localhost:8080/"
        },
        "id": "Nf6NgwD4M4yf",
        "outputId": "3ff88b45-0bc7-4faf-992c-9f31d131de39"
      },
      "execution_count": 25,
      "outputs": [
        {
          "output_type": "stream",
          "name": "stdout",
          "text": [
            "313/313 [==============================] - 1s 2ms/step\n"
          ]
        }
      ]
    },
    {
      "cell_type": "code",
      "source": [
        "# 결과 시각화\n",
        "import matplotlib.pyplot as plt\n",
        "\n",
        "# 출력 이미지 수\n",
        "n = 10\n",
        "\n",
        "plt.figure(figsize=(20, 4))\n",
        "\n",
        "for i in range(n) :\n",
        "  # 원본 이미지\n",
        "  # 행, 열, 출력위치\n",
        "  plt.subplot(2, n, i+1)\n",
        "  plt.imshow(X_test[i].reshape(28, 28), cmap=\"gray\")\n",
        "  plt.axis(\"off\")\n",
        "\n",
        "  # 생성 이미지\n",
        "  plt.subplot(2, n, i+1+n)\n",
        "  plt.imshow(decode3[i].reshape(28, 28), cmap=\"gray\")\n",
        "  plt.axis(\"off\")"
      ],
      "metadata": {
        "colab": {
          "base_uri": "https://localhost:8080/",
          "height": 264
        },
        "id": "06ikE6ycM404",
        "outputId": "a313c199-0488-4b8e-ecd6-c48f29531182"
      },
      "execution_count": 26,
      "outputs": [
        {
          "output_type": "display_data",
          "data": {
            "text/plain": [
              "<Figure size 1440x288 with 20 Axes>"
            ],
            "image/png": "[encoded data removed]"
          },
          "metadata": {
            "needs_background": "light"
          }
        }
      ]
    },
    {
      "cell_type": "markdown",
      "source": [
        "# (4) Deep Convolution AE\n",
        "\n",
        "- CNN을 이용해서 AE를 구성한 것\n",
        "\n",
        "- 인코더 : Conv2D, MaxPooling2D로 구성\n",
        "- 디코더 : Conv2D, UpSampling2D로 구성"
      ],
      "metadata": {
        "id": "Pe4Ufu9LV11u"
      }
    },
    {
      "cell_type": "code",
      "source": [
        "from tensorflow.keras.datasets import mnist, fashion_mnist\n",
        "\n",
        "# 색상 차원 추가\n",
        "(X_train, _), (X_test, _) = mnist.load_data()\n",
        "\n",
        "X_train = X_train.reshape(60000, 28, 28, 1).astype(\"float32\") / 255\n",
        "X_test = X_test.reshape(10000, 28, 28, 1).astype(\"float32\") / 255\n",
        "\n",
        "X_train.shape, X_test.shape"
      ],
      "metadata": {
        "colab": {
          "base_uri": "https://localhost:8080/"
        },
        "id": "FE6Mi6swXmIf",
        "outputId": "f5e5f53b-1081-4a89-f308-8bf649c1d998"
      },
      "execution_count": 2,
      "outputs": [
        {
          "output_type": "stream",
          "name": "stdout",
          "text": [
            "Downloading data from https://storage.googleapis.com/tensorflow/tf-keras-datasets/mnist.npz\n",
            "11490434/11490434 [==============================] - 0s 0us/step\n"
          ]
        },
        {
          "output_type": "execute_result",
          "data": {
            "text/plain": [
              "((60000, 28, 28, 1), (10000, 28, 28, 1))"
            ]
          },
          "metadata": {},
          "execution_count": 2
        }
      ]
    },
    {
      "cell_type": "code",
      "source": [
        "from tensorflow.keras.models import Sequential\n",
        "from tensorflow.keras.layers import Dense, Conv2D, MaxPooling2D, UpSampling2D\n",
        "\n",
        "model4 = Sequential()\n",
        "\n",
        "# 인코더\n",
        "model4.add(Conv2D(16, (3, 3), padding=\"same\", input_shape=(28, 28, 1), activation=\"relu\"))\n",
        "model4.add(MaxPooling2D((2,2)))\n",
        "model4.add(Conv2D(8, (3, 3), padding=\"same\", activation=\"relu\"))\n",
        "model4.add(MaxPooling2D((2,2)))\n",
        "\n",
        "# 디코더\n",
        "model4.add(Conv2D(8, (3, 3), padding=\"same\", activation=\"relu\"))\n",
        "model4.add(UpSampling2D(pool_size=(2,2)))\n",
        "model4.add(Conv2D(16, (3, 3), padding=\"same\", activation=\"relu\"))\n",
        "model4.add(UpSampling2D((2,2)))\n",
        "model4.add(Conv2D(1, (3, 3), padding=\"same\", activation=\"sigmoid\"))\n",
        "\n",
        "model4.summary()"
      ],
      "metadata": {
        "colab": {
          "base_uri": "https://localhost:8080/"
        },
        "id": "I2QSQhPjM43g",
        "outputId": "161cf545-9cf4-4465-f935-59534cfa0165"
      },
      "execution_count": 5,
      "outputs": [
        {
          "output_type": "stream",
          "name": "stdout",
          "text": [
            "Model: \"sequential_2\"\n",
            "_________________________________________________________________\n",
            " Layer (type)                Output Shape              Param #   \n",
            "=================================================================\n",
            " conv2d_7 (Conv2D)           (None, 28, 28, 16)        160       \n",
            "                                                                 \n",
            " max_pooling2d_4 (MaxPooling  (None, 14, 14, 16)       0         \n",
            " 2D)                                                             \n",
            "                                                                 \n",
            " conv2d_8 (Conv2D)           (None, 14, 14, 8)         1160      \n",
            "                                                                 \n",
            " max_pooling2d_5 (MaxPooling  (None, 7, 7, 8)          0         \n",
            " 2D)                                                             \n",
            "                                                                 \n",
            " conv2d_9 (Conv2D)           (None, 7, 7, 8)           584       \n",
            "                                                                 \n",
            " up_sampling2d_2 (UpSampling  (None, 14, 14, 8)        0         \n",
            " 2D)                                                             \n",
            "                                                                 \n",
            " conv2d_10 (Conv2D)          (None, 14, 14, 16)        1168      \n",
            "                                                                 \n",
            " up_sampling2d_3 (UpSampling  (None, 28, 28, 16)       0         \n",
            " 2D)                                                             \n",
            "                                                                 \n",
            " conv2d_11 (Conv2D)          (None, 28, 28, 1)         145       \n",
            "                                                                 \n",
            "=================================================================\n",
            "Total params: 3,217\n",
            "Trainable params: 3,217\n",
            "Non-trainable params: 0\n",
            "_________________________________________________________________\n"
          ]
        }
      ]
    },
    {
      "cell_type": "code",
      "source": [
        "model4.compile(loss=\"binary_crossentropy\", optimizer=\"adam\")"
      ],
      "metadata": {
        "id": "FovOTVRsWAX3"
      },
      "execution_count": 6,
      "outputs": []
    },
    {
      "cell_type": "code",
      "source": [
        "h4 = model4.fit(X_train, X_train, epochs=20, batch_size=256, shuffle=True,\n",
        "                validation_data=(X_test, X_test))"
      ],
      "metadata": {
        "id": "auaXYntvWAam"
      },
      "execution_count": null,
      "outputs": []
    },
    {
      "cell_type": "code",
      "source": [
        "decode4 = model4.predict(X_test)"
      ],
      "metadata": {
        "id": "OJagFnXBWAdI"
      },
      "execution_count": null,
      "outputs": []
    },
    {
      "cell_type": "code",
      "source": [
        "# 결과 시각화\n",
        "import matplotlib.pyplot as plt\n",
        "\n",
        "# 출력 이미지 수\n",
        "n = 10\n",
        "\n",
        "plt.figure(figsize=(20, 4))\n",
        "\n",
        "for i in range(n) :\n",
        "  # 원본 이미지\n",
        "  # 행, 열, 출력위치\n",
        "  plt.subplot(2, n, i+1)\n",
        "  plt.imshow(X_test[i].reshape(28, 28), cmap=\"gray\")\n",
        "  plt.axis(\"off\")\n",
        "\n",
        "  # 생성 이미지\n",
        "  plt.subplot(2, n, i+1+n)\n",
        "  plt.imshow(decode4[i].reshape(28, 28), cmap=\"gray\")\n",
        "  plt.axis(\"off\")"
      ],
      "metadata": {
        "id": "NF3dvgViWAft"
      },
      "execution_count": null,
      "outputs": []
    },
    {
      "cell_type": "markdown",
      "source": [
        "# (5) Denosing AE\n",
        "\n",
        "- 잡음을 제거할 목적으로 사용하는 AE\n",
        "\n",
        "- 잡음 : 가우시안 잡음 (정규분포)을 임의로 만들어서 사용"
      ],
      "metadata": {
        "id": "84EiVyqsezFd"
      }
    },
    {
      "cell_type": "code",
      "source": [
        "import numpy as np\n",
        "\n",
        "# 원래 이미지에 잡음 추가\n",
        "noise_factor = 0.5\n",
        "\n",
        "# normal(이산평균, 이산표준편차, 데이터수) : 정규분포의 숫자를 발생\n",
        "X_train_noise = X_train + noise_factor * np.random.normal(loc=0.0, scale=1.0, size=X_train.shape)\n",
        "X_test_noise = X_test + noise_factor * np.random.normal(loc=0.0, scale=1.0, size=X_test.shape)\n",
        "\n",
        "# 범위를 벗어난 값들을 범위 안의 값으로 변환\n",
        "X_train_noise = np.clip(X_train_noise, 0.0, 1.0)\n",
        "X_test_noise = np.clip(X_test_noise, 0.0, 1.0)"
      ],
      "metadata": {
        "id": "TYetXrv3WAid"
      },
      "execution_count": 3,
      "outputs": []
    },
    {
      "cell_type": "code",
      "source": [
        "X_train.shape"
      ],
      "metadata": {
        "colab": {
          "base_uri": "https://localhost:8080/"
        },
        "id": "KBNAg-MclZUm",
        "outputId": "189827ca-c0b0-4dcb-94c9-d5afed7d3fdb"
      },
      "execution_count": 6,
      "outputs": [
        {
          "output_type": "execute_result",
          "data": {
            "text/plain": [
              "(60000, 28, 28, 1)"
            ]
          },
          "metadata": {},
          "execution_count": 6
        }
      ]
    },
    {
      "cell_type": "code",
      "source": [
        "# 추가된 잡음 이미지 확인\n",
        "import matplotlib.pyplot as plt\n",
        "\n",
        "n = 10\n",
        "\n",
        "plt.figure(figsize=(12, 2))\n",
        "\n",
        "for i in range(n) :\n",
        "  plt.subplot(2, n, i+1)\n",
        "  plt.imshow(X_train[i].reshape(28, 28), cmap=\"gray\")\n",
        "  plt.axis(\"off\")\n",
        "\n",
        "  plt.subplot(2, n, i+1+n)\n",
        "  plt.imshow(X_train_noise[i].reshape(28, 28), cmap=\"gray\")\n",
        "  plt.axis(\"off\")"
      ],
      "metadata": {
        "colab": {
          "base_uri": "https://localhost:8080/",
          "height": 140
        },
        "id": "wdQBTTALWAkd",
        "outputId": "196b52e1-8a3a-47cd-9c68-5ae2c2ef7b2c"
      },
      "execution_count": 9,
      "outputs": [
        {
          "output_type": "display_data",
          "data": {
            "text/plain": [
              "<Figure size 864x144 with 20 Axes>"
            ],
            "image/png": "[encoded data removed]"
          },
          "metadata": {
            "needs_background": "light"
          }
        }
      ]
    },
    {
      "cell_type": "code",
      "source": [
        "# AE 설계\n",
        "from tensorflow.keras.models import Sequential\n",
        "from tensorflow.keras.layers import Conv2D, MaxPooling2D, UpSampling2D\n",
        "\n",
        "model5 = Sequential()\n",
        "\n",
        "# 인코더\n",
        "model5.add(Conv2D(filters=32, kernel_size=(3, 3), padding=\"same\", \n",
        "                  activation=\"relu\", input_shape=(28, 28, 1)))\n",
        "model5.add(MaxPooling2D(pool_size=(2,2)))\n",
        "model5.add(Conv2D(filters=32, kernel_size=(3, 3), padding=\"same\", activation=\"relu\"))\n",
        "model5.add(MaxPooling2D(pool_size=(2,2)))\n",
        "\n",
        "# 디코더\n",
        "model5.add(Conv2D(filters=32, kernel_size=(3, 3), padding=\"same\", activation=\"relu\"))\n",
        "model5.add(UpSampling2D((2,2)))\n",
        "model5.add(Conv2D(filters=32, kernel_size=(3, 3), padding=\"same\", activation=\"relu\"))\n",
        "model5.add(UpSampling2D((2,2)))\n",
        "model5.add(Conv2D(filters=1, kernel_size=(3, 3), padding=\"same\", activation=\"sigmoid\"))\n",
        "\n",
        "model5.summary()"
      ],
      "metadata": {
        "colab": {
          "base_uri": "https://localhost:8080/"
        },
        "id": "-bE4Sb-Dkkof",
        "outputId": "19efff75-1eb4-4ecc-8011-442515eef8a1"
      },
      "execution_count": 13,
      "outputs": [
        {
          "output_type": "stream",
          "name": "stdout",
          "text": [
            "Model: \"sequential_2\"\n",
            "_________________________________________________________________\n",
            " Layer (type)                Output Shape              Param #   \n",
            "=================================================================\n",
            " conv2d_3 (Conv2D)           (None, 28, 28, 32)        320       \n",
            "                                                                 \n",
            " max_pooling2d_2 (MaxPooling  (None, 14, 14, 32)       0         \n",
            " 2D)                                                             \n",
            "                                                                 \n",
            " conv2d_4 (Conv2D)           (None, 14, 14, 32)        9248      \n",
            "                                                                 \n",
            " max_pooling2d_3 (MaxPooling  (None, 7, 7, 32)         0         \n",
            " 2D)                                                             \n",
            "                                                                 \n",
            " conv2d_5 (Conv2D)           (None, 7, 7, 32)          9248      \n",
            "                                                                 \n",
            " up_sampling2d (UpSampling2D  (None, 14, 14, 32)       0         \n",
            " )                                                               \n",
            "                                                                 \n",
            " conv2d_6 (Conv2D)           (None, 14, 14, 32)        9248      \n",
            "                                                                 \n",
            " up_sampling2d_1 (UpSampling  (None, 28, 28, 32)       0         \n",
            " 2D)                                                             \n",
            "                                                                 \n",
            " conv2d_7 (Conv2D)           (None, 28, 28, 1)         289       \n",
            "                                                                 \n",
            "=================================================================\n",
            "Total params: 28,353\n",
            "Trainable params: 28,353\n",
            "Non-trainable params: 0\n",
            "_________________________________________________________________\n"
          ]
        }
      ]
    },
    {
      "cell_type": "code",
      "source": [
        "model5.compile(loss=\"binary_crossentropy\", optimizer=\"adam\")"
      ],
      "metadata": {
        "id": "EKt_c3VYkkq8"
      },
      "execution_count": 14,
      "outputs": []
    },
    {
      "cell_type": "code",
      "source": [
        "h5 = model5.fit(X_train_noise, X_train, epochs=20, batch_size=256, shuffle=True,\n",
        "                validation_data=(X_test_noise, X_test))"
      ],
      "metadata": {
        "colab": {
          "base_uri": "https://localhost:8080/"
        },
        "id": "22MrNEDrkktn",
        "outputId": "4acc4a03-326d-4d38-cdbc-13c9ccd4b76f"
      },
      "execution_count": null,
      "outputs": [
        {
          "output_type": "stream",
          "name": "stdout",
          "text": [
            "Epoch 1/20\n",
            "235/235 [==============================] - 149s 635ms/step - loss: 0.1530 - val_loss: 0.1239\n",
            "Epoch 2/20\n",
            "235/235 [==============================] - 151s 644ms/step - loss: 0.1201 - val_loss: 0.1144\n",
            "Epoch 3/20\n",
            "235/235 [==============================] - 150s 639ms/step - loss: 0.1138 - val_loss: 0.1102\n",
            "Epoch 4/20\n",
            "235/235 [==============================] - 150s 640ms/step - loss: 0.1104 - val_loss: 0.1080\n",
            "Epoch 5/20\n",
            "235/235 [==============================] - 150s 640ms/step - loss: 0.1083 - val_loss: 0.1063\n",
            "Epoch 6/20\n",
            "235/235 [==============================] - 149s 632ms/step - loss: 0.1067 - val_loss: 0.1053\n",
            "Epoch 7/20\n",
            "235/235 [==============================] - 150s 636ms/step - loss: 0.1055 - val_loss: 0.1042\n",
            "Epoch 8/20\n",
            "235/235 [==============================] - 165s 703ms/step - loss: 0.1044 - val_loss: 0.1033\n",
            "Epoch 9/20\n",
            " 45/235 [====>.........................] - ETA: 2:15 - loss: 0.1038"
          ]
        }
      ]
    },
    {
      "cell_type": "code",
      "source": [
        "model5.compile(loss=\"binary_crossentropy\", optimizer=\"adam\")"
      ],
      "metadata": {
        "id": "6lrqj7PTkkwg"
      },
      "execution_count": null,
      "outputs": []
    },
    {
      "cell_type": "code",
      "source": [
        "decode5 = model5.predict(X_test_noise)"
      ],
      "metadata": {
        "id": "QSYvANTisIPg"
      },
      "execution_count": null,
      "outputs": []
    },
    {
      "cell_type": "code",
      "source": [
        "# 추가된 잡음 이미지 확인\n",
        "import matplotlib.pyplot as plt\n",
        "\n",
        "n = 10\n",
        "\n",
        "plt.figure(figsize=(12, 2))\n",
        "\n",
        "for i in range(n) :\n",
        "  # 원본 이미지\n",
        "  plt.subplot(2, n, i+1)\n",
        "  plt.imshow(X_train[i].reshape(28, 28), cmap=\"gray\")\n",
        "  plt.axis(\"off\")\n",
        "\n",
        "  # 잡음 이미지\n",
        "  plt.subplot(2, n, i+1+n)\n",
        "  plt.imshow(X_train_noise[i].reshape(28, 28), cmap=\"gray\")\n",
        "  plt.axis(\"off\")\n",
        "\n",
        "  # 복원된 이미지\n",
        "  plt.subplot(2, n, i+1+n*2)\n",
        "  plt.imshow(decode5[i].reshape(28, 28), cmap=\"gray\")\n",
        "  plt.axis(\"off\")"
      ],
      "metadata": {
        "id": "VlraLsEKsIR6"
      },
      "execution_count": null,
      "outputs": []
    }
  ]
}