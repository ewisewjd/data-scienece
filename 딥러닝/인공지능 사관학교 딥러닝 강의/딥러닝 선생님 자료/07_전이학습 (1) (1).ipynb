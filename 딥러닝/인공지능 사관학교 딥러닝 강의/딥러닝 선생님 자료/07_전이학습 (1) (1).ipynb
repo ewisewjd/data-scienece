{
  "nbformat": 4,
  "nbformat_minor": 0,
  "metadata": {
    "colab": {
      "provenance": []
    },
    "kernelspec": {
      "name": "python3",
      "display_name": "Python 3"
    },
    "language_info": {
      "name": "python"
    },
    "accelerator": "GPU"
  },
  "cells": [
    {
      "cell_type": "code",
      "source": [
        "# 할당된 GPU 보기\n",
        "from tensorflow.python.client import device_lib\n",
        "\n",
        "device_lib.list_local_devices()"
      ],
      "metadata": {
        "colab": {
          "base_uri": "https://localhost:8080/"
        },
        "id": "Ne3sFNMaFd4L",
        "outputId": "b8a4f99f-85d8-4aae-f95a-6cbd0c6c040e"
      },
      "execution_count": 2,
      "outputs": [
        {
          "output_type": "execute_result",
          "data": {
            "text/plain": [
              "[name: \"/device:CPU:0\"\n",
              " device_type: \"CPU\"\n",
              " memory_limit: 268435456\n",
              " locality {\n",
              " }\n",
              " incarnation: 3965136641125189705\n",
              " xla_global_id: -1, name: \"/device:GPU:0\"\n",
              " device_type: \"GPU\"\n",
              " memory_limit: 14415560704\n",
              " locality {\n",
              "   bus_id: 1\n",
              "   links {\n",
              "   }\n",
              " }\n",
              " incarnation: 15760099424778582115\n",
              " physical_device_desc: \"device: 0, name: Tesla T4, pci bus id: 0000:00:04.0, compute capability: 7.5\"\n",
              " xla_global_id: 416903419]"
            ]
          },
          "metadata": {},
          "execution_count": 2
        }
      ]
    },
    {
      "cell_type": "code",
      "source": [
        "# 현재 할당된 것이 CPU인지 GPU인지 확인\n",
        "import tensorflow as tf\n",
        "\n",
        "tf.config.experimental.list_physical_devices('GPU')"
      ],
      "metadata": {
        "colab": {
          "base_uri": "https://localhost:8080/"
        },
        "id": "ISEAyuwHFm4E",
        "outputId": "b8a557e9-a39f-48fc-8bd5-ceed2bba965e"
      },
      "execution_count": 3,
      "outputs": [
        {
          "output_type": "execute_result",
          "data": {
            "text/plain": [
              "[PhysicalDevice(name='/physical_device:GPU:0', device_type='GPU')]"
            ]
          },
          "metadata": {},
          "execution_count": 3
        }
      ]
    },
    {
      "cell_type": "code",
      "source": [
        "# 할당된 GPU를 실행\n",
        "import os\n",
        "\n",
        "os.environ[\"CUDA_VISIBLE_DEVICES\"] = \"0\"\n",
        "gpus = tf.config.experimental.list_physical_devices(\"GPU\")\n",
        "\n",
        "if gpus :\n",
        "  try :\n",
        "    # GPU 메모리 사용을 설|정\n",
        "    tf.config.experimental.set_memory_growth(gpus[0], True)\n",
        "  except RuntimeError as re :  \n",
        "    print(re)"
      ],
      "metadata": {
        "id": "UFFRqs-_Fm-K"
      },
      "execution_count": 4,
      "outputs": []
    },
    {
      "cell_type": "code",
      "source": [
        "# GPU 메모리를 전부 할당하지 않고 필요에 따라 자동으로 할당하도록 설정\n",
        "from tensorflow.compat.v1 import ConfigProto\n",
        "from tensorflow.compat.v1 import InteractiveSession\n",
        "\n",
        "config = ConfigProto()\n",
        "config.gpu_options.allow_growth = True\n",
        "session = InteractiveSession(config = config)"
      ],
      "metadata": {
        "id": "PzESPX3gFrFi"
      },
      "execution_count": 5,
      "outputs": []
    },
    {
      "cell_type": "markdown",
      "source": [
        "# 패션데이터셋을 이용한 이미지 분류\n",
        "\n",
        "- 패션 데이터셋\n",
        "  - 10가지의 패션 이미지 데이터로 구성\n",
        "  - 60000개의 데이터\n",
        "  - 이미지 크기 : 28 x 28\n",
        "  \n",
        "- Xception 모델을 전이학습"
      ],
      "metadata": {
        "id": "ioNmbdF5yuWi"
      }
    },
    {
      "cell_type": "code",
      "execution_count": 6,
      "metadata": {
        "id": "EOakE4gHyceo",
        "colab": {
          "base_uri": "https://localhost:8080/"
        },
        "outputId": "b794652e-74ff-4143-e7cd-a9e5eb2deabd"
      },
      "outputs": [
        {
          "output_type": "stream",
          "name": "stdout",
          "text": [
            "Downloading data from https://storage.googleapis.com/tensorflow/tf-keras-datasets/train-labels-idx1-ubyte.gz\n",
            "29515/29515 [==============================] - 0s 0us/step\n",
            "Downloading data from https://storage.googleapis.com/tensorflow/tf-keras-datasets/train-images-idx3-ubyte.gz\n",
            "26421880/26421880 [==============================] - 0s 0us/step\n",
            "Downloading data from https://storage.googleapis.com/tensorflow/tf-keras-datasets/t10k-labels-idx1-ubyte.gz\n",
            "5148/5148 [==============================] - 0s 0us/step\n",
            "Downloading data from https://storage.googleapis.com/tensorflow/tf-keras-datasets/t10k-images-idx3-ubyte.gz\n",
            "4422102/4422102 [==============================] - 0s 0us/step\n"
          ]
        },
        {
          "output_type": "execute_result",
          "data": {
            "text/plain": [
              "((60000, 28, 28), (60000,), (10000, 28, 28), (10000,))"
            ]
          },
          "metadata": {},
          "execution_count": 6
        }
      ],
      "source": [
        "# 데이터 로드\n",
        "from tensorflow.keras.datasets import fashion_mnist\n",
        "\n",
        "(X_train, y_train), (X_test, y_test) = fashion_mnist.load_data()\n",
        "\n",
        "X_train.shape, y_train.shape, X_test.shape, y_test.shape"
      ]
    },
    {
      "cell_type": "code",
      "source": [
        "# 훈련데이터 1000개, 테스트데이터 300개만 사용\n",
        "X_train = X_train[:1000, :]\n",
        "y_train = y_train[:1000]\n",
        "X_test = X_test[:300, :]\n",
        "y_test = y_test[:300]\n",
        "\n",
        "X_train.shape, y_train.shape, X_test.shape, y_test.shape"
      ],
      "metadata": {
        "colab": {
          "base_uri": "https://localhost:8080/"
        },
        "id": "KxULtO6Pytn6",
        "outputId": "3ee0569a-09ea-4d9b-8a8c-9b4805feef73"
      },
      "execution_count": 7,
      "outputs": [
        {
          "output_type": "execute_result",
          "data": {
            "text/plain": [
              "((1000, 28, 28), (1000,), (300, 28, 28), (300,))"
            ]
          },
          "metadata": {},
          "execution_count": 7
        }
      ]
    },
    {
      "cell_type": "code",
      "source": [
        "# y의 라벨 확인\n",
        "import pandas as pd\n",
        "\n",
        "print(pd.Series(y_train).unique())\n",
        "print(pd.Series(y_test).unique())"
      ],
      "metadata": {
        "colab": {
          "base_uri": "https://localhost:8080/"
        },
        "id": "8uuvQ26Fytqx",
        "outputId": "e3823c4b-e577-4c09-c5ee-f63dd6625479"
      },
      "execution_count": 8,
      "outputs": [
        {
          "output_type": "stream",
          "name": "stdout",
          "text": [
            "[9 0 3 2 7 5 1 6 4 8]\n",
            "[9 2 1 6 4 5 7 3 8 0]\n"
          ]
        }
      ]
    },
    {
      "cell_type": "code",
      "source": [
        "# 이미지 확인\n",
        "import matplotlib.pyplot as plt\n",
        "\n",
        "plt.imshow(X_train[160], cmap=\"gray\")"
      ],
      "metadata": {
        "colab": {
          "base_uri": "https://localhost:8080/",
          "height": 283
        },
        "id": "vvtFjc4xyttr",
        "outputId": "ec1f83af-3b0f-4f78-a962-ce6eecf94180"
      },
      "execution_count": 9,
      "outputs": [
        {
          "output_type": "execute_result",
          "data": {
            "text/plain": [
              "<matplotlib.image.AxesImage at 0x7f7110064b50>"
            ]
          },
          "metadata": {},
          "execution_count": 9
        },
        {
          "output_type": "display_data",
          "data": {
            "text/plain": [
              "<Figure size 432x288 with 1 Axes>"
            ],
            "image/png": "[encoded data removed]"
          },
          "metadata": {
            "needs_background": "light"
          }
        }
      ]
    },
    {
      "cell_type": "code",
      "source": [
        "# y를 원핫 인코딩\n",
        "y_train_en = pd.get_dummies(y_train)\n",
        "y_test_en = pd.get_dummies(y_test)\n",
        "\n",
        "y_train_en.shape, y_test_en.shape"
      ],
      "metadata": {
        "colab": {
          "base_uri": "https://localhost:8080/"
        },
        "id": "aK0m6banytwi",
        "outputId": "53f76573-c434-4c40-9d6b-5dd50a51b831"
      },
      "execution_count": 10,
      "outputs": [
        {
          "output_type": "execute_result",
          "data": {
            "text/plain": [
              "((1000, 10), (300, 10))"
            ]
          },
          "metadata": {},
          "execution_count": 10
        }
      ]
    },
    {
      "cell_type": "code",
      "source": [
        "# 이미지를 (244, 244) 크기로 변환\n",
        "from PIL import Image\n",
        "import numpy as np\n",
        "\n",
        "train_resize_list = []\n",
        "for i in range(len(X_train)) :\n",
        "  train_resize_img = Image.fromarray(X_train[i]).resize((244, 244))\n",
        "  train_resize_list.append(np.array(train_resize_img))\n",
        "\n",
        "test_resize_list = []\n",
        "for i in range(len(X_test)) :\n",
        "  test_resize_img = Image.fromarray(X_test[i]).resize((244, 244))\n",
        "  test_resize_list.append(np.array(test_resize_img))"
      ],
      "metadata": {
        "id": "GvGttpYK9zA0"
      },
      "execution_count": 11,
      "outputs": []
    },
    {
      "cell_type": "code",
      "source": [
        "X_train_resized = np.array(train_resize_list)\n",
        "X_test_resized = np.array(test_resize_list)\n",
        "\n",
        "X_train_resized.shape, X_test_resized.shape"
      ],
      "metadata": {
        "colab": {
          "base_uri": "https://localhost:8080/"
        },
        "id": "mihtSA4O9zD7",
        "outputId": "e9f2156a-4554-47a8-d242-77b495aff437"
      },
      "execution_count": 12,
      "outputs": [
        {
          "output_type": "execute_result",
          "data": {
            "text/plain": [
              "((1000, 244, 244), (300, 244, 244))"
            ]
          },
          "metadata": {},
          "execution_count": 12
        }
      ]
    },
    {
      "cell_type": "code",
      "source": [
        "# 색상채널 차원 추가\n",
        "X_train_resized = X_train_resized.reshape(X_train_resized.shape[0], 244, 244, 1)\n",
        "X_test_resized = X_test_resized.reshape(X_test_resized.shape[0], 244, 244, 1)\n",
        "\n",
        "X_train_resized.shape, X_test_resized.shape"
      ],
      "metadata": {
        "colab": {
          "base_uri": "https://localhost:8080/"
        },
        "id": "dD_93j609zG6",
        "outputId": "619c2aac-aa64-4e9e-eeb0-328a80c78f1d"
      },
      "execution_count": 13,
      "outputs": [
        {
          "output_type": "execute_result",
          "data": {
            "text/plain": [
              "((1000, 244, 244, 1), (300, 244, 244, 1))"
            ]
          },
          "metadata": {},
          "execution_count": 13
        }
      ]
    },
    {
      "cell_type": "code",
      "source": [
        "# 신경망 설계\n",
        "from tensorflow.keras.models import Sequential\n",
        "from tensorflow.keras.layers import Dense, Conv2D, MaxPooling2D, Flatten\n",
        "\n",
        "model1 = Sequential()\n",
        "\n",
        "# CNN 층 설계 - 특성 추출기\n",
        "# CNN 층의 최종 크기는 10x10보다 크거나 작거나\n",
        "model1.add(Conv2D(filters=32, kernel_size=(3, 3), \n",
        "                  input_shape=(244, 244, 1), activation=\"relu\"))\n",
        "model1.add(Conv2D(filters=32, kernel_size=(3, 3), activation=\"relu\"))\n",
        "model1.add(MaxPooling2D(pool_size=(2, 2)))\n",
        "model1.add(Conv2D(filters=64, kernel_size=(3, 3), activation=\"relu\"))\n",
        "model1.add(Conv2D(filters=128, kernel_size=(3, 3), activation=\"relu\"))\n",
        "model1.add(MaxPooling2D(pool_size=(2, 2)))\n",
        "\n",
        "# 다차원 데이터를 1차원을 변환\n",
        "model1.add(Flatten())\n",
        "\n",
        "# 분류기 모델 설계\n",
        "model1.add(Dense(units=256, activation=\"relu\"))\n",
        "model1.add(Dense(units=64, activation=\"relu\"))\n",
        "model1.add(Dense(units=10, activation=\"softmax\"))\n",
        "\n",
        "model1.summary()"
      ],
      "metadata": {
        "colab": {
          "base_uri": "https://localhost:8080/"
        },
        "id": "zMT7x2wL9zJh",
        "outputId": "c9abf3cc-8a78-444a-aeca-75f1d811d39b"
      },
      "execution_count": 15,
      "outputs": [
        {
          "output_type": "stream",
          "name": "stdout",
          "text": [
            "Model: \"sequential_1\"\n",
            "_________________________________________________________________\n",
            " Layer (type)                Output Shape              Param #   \n",
            "=================================================================\n",
            " conv2d_4 (Conv2D)           (None, 242, 242, 32)      320       \n",
            "                                                                 \n",
            " conv2d_5 (Conv2D)           (None, 240, 240, 32)      9248      \n",
            "                                                                 \n",
            " max_pooling2d_2 (MaxPooling  (None, 120, 120, 32)     0         \n",
            " 2D)                                                             \n",
            "                                                                 \n",
            " conv2d_6 (Conv2D)           (None, 118, 118, 64)      18496     \n",
            "                                                                 \n",
            " conv2d_7 (Conv2D)           (None, 116, 116, 128)     73856     \n",
            "                                                                 \n",
            " max_pooling2d_3 (MaxPooling  (None, 58, 58, 128)      0         \n",
            " 2D)                                                             \n",
            "                                                                 \n",
            " flatten_1 (Flatten)         (None, 430592)            0         \n",
            "                                                                 \n",
            " dense_3 (Dense)             (None, 256)               110231808 \n",
            "                                                                 \n",
            " dense_4 (Dense)             (None, 64)                16448     \n",
            "                                                                 \n",
            " dense_5 (Dense)             (None, 10)                650       \n",
            "                                                                 \n",
            "=================================================================\n",
            "Total params: 110,350,826\n",
            "Trainable params: 110,350,826\n",
            "Non-trainable params: 0\n",
            "_________________________________________________________________\n"
          ]
        }
      ]
    },
    {
      "cell_type": "code",
      "source": [
        "model1.compile(loss=\"categorical_crossentropy\",\n",
        "               optimizer=\"adam\",\n",
        "               metrics=[\"accuracy\"])"
      ],
      "metadata": {
        "id": "6_3z_Sx49zMU"
      },
      "execution_count": 16,
      "outputs": []
    },
    {
      "cell_type": "code",
      "source": [
        "h1 = model1.fit(X_train_resized, y_train_en, batch_size=20, epochs=10,\n",
        "                validation_data=(X_test_resized, y_test_en))"
      ],
      "metadata": {
        "id": "lVXx7Fot9zPB",
        "colab": {
          "base_uri": "https://localhost:8080/"
        },
        "outputId": "32e4ed9f-7bd6-444b-eb4d-f51e49050412"
      },
      "execution_count": 17,
      "outputs": [
        {
          "output_type": "stream",
          "name": "stdout",
          "text": [
            "Epoch 1/10\n",
            "50/50 [==============================] - 17s 131ms/step - loss: 55.1625 - accuracy: 0.6260 - val_loss: 0.8240 - val_accuracy: 0.7367\n",
            "Epoch 2/10\n",
            "50/50 [==============================] - 6s 126ms/step - loss: 0.3569 - accuracy: 0.8800 - val_loss: 0.6363 - val_accuracy: 0.8133\n",
            "Epoch 3/10\n",
            "50/50 [==============================] - 6s 126ms/step - loss: 0.1497 - accuracy: 0.9450 - val_loss: 0.8121 - val_accuracy: 0.7633\n",
            "Epoch 4/10\n",
            "50/50 [==============================] - 6s 127ms/step - loss: 0.0858 - accuracy: 0.9720 - val_loss: 0.9037 - val_accuracy: 0.7833\n",
            "Epoch 5/10\n",
            "50/50 [==============================] - 6s 122ms/step - loss: 0.0957 - accuracy: 0.9660 - val_loss: 1.1108 - val_accuracy: 0.7833\n",
            "Epoch 6/10\n",
            "50/50 [==============================] - 6s 121ms/step - loss: 0.0412 - accuracy: 0.9880 - val_loss: 1.0671 - val_accuracy: 0.8067\n",
            "Epoch 7/10\n",
            "50/50 [==============================] - 6s 121ms/step - loss: 0.0402 - accuracy: 0.9890 - val_loss: 1.0464 - val_accuracy: 0.8033\n",
            "Epoch 8/10\n",
            "50/50 [==============================] - 6s 122ms/step - loss: 0.0142 - accuracy: 0.9980 - val_loss: 1.3544 - val_accuracy: 0.7900\n",
            "Epoch 9/10\n",
            "50/50 [==============================] - 6s 123ms/step - loss: 0.0122 - accuracy: 0.9950 - val_loss: 1.6981 - val_accuracy: 0.7633\n",
            "Epoch 10/10\n",
            "50/50 [==============================] - 6s 123ms/step - loss: 0.0066 - accuracy: 0.9970 - val_loss: 1.4299 - val_accuracy: 0.8000\n"
          ]
        }
      ]
    },
    {
      "cell_type": "code",
      "source": [
        "import matplotlib.pyplot as plt\n",
        "\n",
        "acc = h1.history[\"accuracy\"]\n",
        "val_acc = h1.history[\"val_accuracy\"]\n",
        "\n",
        "e = range(1, len(acc) + 1)\n",
        "\n",
        "plt.plot(e, acc, \"r\", label=\"Train\")\n",
        "plt.plot(e, val_acc, \"b\", label=\"Test\")\n",
        "plt.legend()"
      ],
      "metadata": {
        "id": "gDhzA-9H9zRq",
        "colab": {
          "base_uri": "https://localhost:8080/",
          "height": 283
        },
        "outputId": "13841aa9-b566-4a5a-ee60-eb1669bba3e5"
      },
      "execution_count": 19,
      "outputs": [
        {
          "output_type": "execute_result",
          "data": {
            "text/plain": [
              "<matplotlib.legend.Legend at 0x7f701daff510>"
            ]
          },
          "metadata": {},
          "execution_count": 19
        },
        {
          "output_type": "display_data",
          "data": {
            "text/plain": [
              "<Figure size 432x288 with 1 Axes>"
            ],
            "image/png": "[encoded data removed]"
          },
          "metadata": {
            "needs_background": "light"
          }
        }
      ]
    },
    {
      "cell_type": "markdown",
      "source": [
        "# Dropout을 이용한 과적합 방지\n",
        "\n",
        "- Dropout \n",
        "   - 각 층의 퍼셉스톤의 수를 줄여서 과적합을 방지\n",
        "   - 0.5이하의 값을 사용\n",
        "   - 이전층과 다음층의 파라미터의 수가 많이 차이나는 곳에 배치"
      ],
      "metadata": {
        "id": "wo_tkb5gvU4G"
      }
    },
    {
      "cell_type": "code",
      "source": [
        "# 신경망 설계\n",
        "from tensorflow.keras.models import Sequential\n",
        "from tensorflow.keras.layers import Dense, Conv2D, MaxPooling2D, Flatten\n",
        "from tensorflow.keras.layers import Dropout\n",
        "\n",
        "model2 = Sequential()\n",
        "\n",
        "# CNN 층 설계 - 특성 추출기\n",
        "# CNN 층의 최종 크기는 10x10보다 크거나 작거나\n",
        "model2.add(Conv2D(filters=32, kernel_size=(3, 3), \n",
        "                  input_shape=(244, 244, 1), activation=\"relu\"))\n",
        "model2.add(Conv2D(filters=32, kernel_size=(3, 3), activation=\"relu\"))\n",
        "model2.add(MaxPooling2D(pool_size=(2, 2)))\n",
        "model2.add(Conv2D(filters=64, kernel_size=(3, 3), activation=\"relu\"))\n",
        "model2.add(Conv2D(filters=128, kernel_size=(3, 3), activation=\"relu\"))\n",
        "model2.add(MaxPooling2D(pool_size=(2, 2)))\n",
        "model2.add(Dropout(0.5))\n",
        "\n",
        "# 다차원 데이터를 1차원을 변환\n",
        "model2.add(Flatten())\n",
        "\n",
        "# 분류기 모델 설계\n",
        "model2.add(Dense(units=256, activation=\"relu\"))\n",
        "model2.add(Dropout(0.5))\n",
        "model2.add(Dense(units=64, activation=\"relu\"))\n",
        "model2.add(Dropout(0.2))\n",
        "model2.add(Dense(units=10, activation=\"softmax\"))\n",
        "\n",
        "model2.summary()"
      ],
      "metadata": {
        "id": "aTpUwlNi9zT9",
        "colab": {
          "base_uri": "https://localhost:8080/"
        },
        "outputId": "b6f9c05d-4f2a-489d-8284-53ac0a0c57e8"
      },
      "execution_count": 22,
      "outputs": [
        {
          "output_type": "stream",
          "name": "stdout",
          "text": [
            "Model: \"sequential_4\"\n",
            "_________________________________________________________________\n",
            " Layer (type)                Output Shape              Param #   \n",
            "=================================================================\n",
            " conv2d_16 (Conv2D)          (None, 242, 242, 32)      320       \n",
            "                                                                 \n",
            " conv2d_17 (Conv2D)          (None, 240, 240, 32)      9248      \n",
            "                                                                 \n",
            " max_pooling2d_8 (MaxPooling  (None, 120, 120, 32)     0         \n",
            " 2D)                                                             \n",
            "                                                                 \n",
            " conv2d_18 (Conv2D)          (None, 118, 118, 64)      18496     \n",
            "                                                                 \n",
            " conv2d_19 (Conv2D)          (None, 116, 116, 128)     73856     \n",
            "                                                                 \n",
            " max_pooling2d_9 (MaxPooling  (None, 58, 58, 128)      0         \n",
            " 2D)                                                             \n",
            "                                                                 \n",
            " dropout (Dropout)           (None, 58, 58, 128)       0         \n",
            "                                                                 \n",
            " flatten_4 (Flatten)         (None, 430592)            0         \n",
            "                                                                 \n",
            " dense_12 (Dense)            (None, 256)               110231808 \n",
            "                                                                 \n",
            " dropout_1 (Dropout)         (None, 256)               0         \n",
            "                                                                 \n",
            " dense_13 (Dense)            (None, 64)                16448     \n",
            "                                                                 \n",
            " dropout_2 (Dropout)         (None, 64)                0         \n",
            "                                                                 \n",
            " dense_14 (Dense)            (None, 10)                650       \n",
            "                                                                 \n",
            "=================================================================\n",
            "Total params: 110,350,826\n",
            "Trainable params: 110,350,826\n",
            "Non-trainable params: 0\n",
            "_________________________________________________________________\n"
          ]
        }
      ]
    },
    {
      "cell_type": "code",
      "source": [
        "model2.compile(loss=\"categorical_crossentropy\",\n",
        "               optimizer=\"adam\",\n",
        "               metrics=[\"accuracy\"])"
      ],
      "metadata": {
        "id": "4dT9X7EavrYs"
      },
      "execution_count": 23,
      "outputs": []
    },
    {
      "cell_type": "code",
      "source": [
        "h2 = model2.fit(X_train_resized, y_train_en, batch_size=20, epochs=10,\n",
        "                validation_data=(X_test_resized, y_test_en))"
      ],
      "metadata": {
        "colab": {
          "base_uri": "https://localhost:8080/"
        },
        "id": "2xqvxfDNvrbc",
        "outputId": "4d8d6025-a403-4672-e45c-51e95f7cf58b"
      },
      "execution_count": 24,
      "outputs": [
        {
          "output_type": "stream",
          "name": "stdout",
          "text": [
            "Epoch 1/10\n",
            "50/50 [==============================] - 7s 130ms/step - loss: 17.2245 - accuracy: 0.4720 - val_loss: 0.9988 - val_accuracy: 0.7367\n",
            "Epoch 2/10\n",
            "50/50 [==============================] - 6s 126ms/step - loss: 0.9226 - accuracy: 0.7430 - val_loss: 0.7587 - val_accuracy: 0.7967\n",
            "Epoch 3/10\n",
            "50/50 [==============================] - 6s 125ms/step - loss: 0.5913 - accuracy: 0.8010 - val_loss: 0.6627 - val_accuracy: 0.7800\n",
            "Epoch 4/10\n",
            "50/50 [==============================] - 6s 127ms/step - loss: 0.5104 - accuracy: 0.8300 - val_loss: 0.6477 - val_accuracy: 0.7933\n",
            "Epoch 5/10\n",
            "50/50 [==============================] - 6s 127ms/step - loss: 0.4298 - accuracy: 0.8680 - val_loss: 0.7111 - val_accuracy: 0.8000\n",
            "Epoch 6/10\n",
            "50/50 [==============================] - 6s 125ms/step - loss: 0.2909 - accuracy: 0.8990 - val_loss: 0.5353 - val_accuracy: 0.8500\n",
            "Epoch 7/10\n",
            "50/50 [==============================] - 6s 127ms/step - loss: 0.2790 - accuracy: 0.9230 - val_loss: 0.6643 - val_accuracy: 0.8100\n",
            "Epoch 8/10\n",
            "50/50 [==============================] - 6s 126ms/step - loss: 0.2804 - accuracy: 0.9220 - val_loss: 0.8264 - val_accuracy: 0.8033\n",
            "Epoch 9/10\n",
            "50/50 [==============================] - 6s 126ms/step - loss: 0.2313 - accuracy: 0.9290 - val_loss: 0.6628 - val_accuracy: 0.8167\n",
            "Epoch 10/10\n",
            "50/50 [==============================] - 6s 126ms/step - loss: 0.1617 - accuracy: 0.9540 - val_loss: 0.8356 - val_accuracy: 0.8167\n"
          ]
        }
      ]
    },
    {
      "cell_type": "code",
      "source": [
        "import matplotlib.pyplot as plt\n",
        "\n",
        "acc = h2.history[\"accuracy\"]\n",
        "val_acc = h2.history[\"val_accuracy\"]\n",
        "\n",
        "e = range(1, len(acc) + 1)\n",
        "\n",
        "plt.plot(e, acc, \"r\", label=\"Train\")\n",
        "plt.plot(e, val_acc, \"b\", label=\"Test\")\n",
        "plt.legend()"
      ],
      "metadata": {
        "colab": {
          "base_uri": "https://localhost:8080/",
          "height": 283
        },
        "id": "0ZF7dObcvreQ",
        "outputId": "666231c4-544e-44e5-dacb-52f625e16312"
      },
      "execution_count": 25,
      "outputs": [
        {
          "output_type": "execute_result",
          "data": {
            "text/plain": [
              "<matplotlib.legend.Legend at 0x7f701b743510>"
            ]
          },
          "metadata": {},
          "execution_count": 25
        },
        {
          "output_type": "display_data",
          "data": {
            "text/plain": [
              "<Figure size 432x288 with 1 Axes>"
            ],
            "image/png": "[encoded data removed]"
          },
          "metadata": {
            "needs_background": "light"
          }
        }
      ]
    },
    {
      "cell_type": "markdown",
      "source": [
        "# BatchNormalization을 이용한 과적합 방지\n",
        "\n",
        "- CNN 층에서 w, b의 값들을 정규화 (일정한 범위의 값으로 변환)\n",
        "- 결과값의 변동폭을 줄여주는 효과\n",
        "\n",
        "- Conv 층과 Activation 층 사이에 배치\n",
        "  - Activation 층에 다음에 오면 Activation 층이 약간 정규화하는 효과가 있기 때문에 효과가 떨어짐"
      ],
      "metadata": {
        "id": "Ela7RZhkyTBO"
      }
    },
    {
      "cell_type": "code",
      "source": [
        "# 신경망 설계\n",
        "from tensorflow.keras.models import Sequential\n",
        "from tensorflow.keras.layers import Dense, Conv2D, MaxPooling2D, Flatten\n",
        "from tensorflow.keras.layers import Dropout, BatchNormalization, Activation\n",
        "\n",
        "model3 = Sequential()\n",
        "\n",
        "model3.add(Conv2D(filters=32, kernel_size=(3, 3), \n",
        "                  input_shape=(244, 244, 1)))\n",
        "model3.add(BatchNormalization())\n",
        "model3.add(Activation(\"relu\"))\n",
        "model3.add(Conv2D(filters=32, kernel_size=(3, 3)))\n",
        "model3.add(BatchNormalization())\n",
        "model3.add(Activation(\"relu\"))\n",
        "model3.add(MaxPooling2D(pool_size=(2, 2)))\n",
        "model3.add(Conv2D(filters=64, kernel_size=(3, 3)))\n",
        "model3.add(Activation(\"relu\"))\n",
        "model3.add(Conv2D(filters=128, kernel_size=(3, 3)))\n",
        "model3.add(Activation(\"relu\"))\n",
        "model3.add(MaxPooling2D(pool_size=(2, 2)))\n",
        "#model3.add(Dropout(0.5))\n",
        "\n",
        "# 다차원 데이터를 1차원을 변환\n",
        "model3.add(Flatten())\n",
        "\n",
        "# 분류기 모델 설계\n",
        "model3.add(Dense(units=256, activation=\"relu\"))\n",
        "model3.add(Dropout(0.5))\n",
        "model3.add(Dense(units=64, activation=\"relu\"))\n",
        "model3.add(Dropout(0.2))\n",
        "model3.add(Dense(units=10, activation=\"softmax\"))\n",
        "\n",
        "model3.summary()"
      ],
      "metadata": {
        "colab": {
          "base_uri": "https://localhost:8080/"
        },
        "id": "TO8lgROuvrhI",
        "outputId": "b843bfee-8db0-4da6-d650-4d9a23126107"
      },
      "execution_count": 40,
      "outputs": [
        {
          "output_type": "stream",
          "name": "stdout",
          "text": [
            "Model: \"sequential_10\"\n",
            "_________________________________________________________________\n",
            " Layer (type)                Output Shape              Param #   \n",
            "=================================================================\n",
            " conv2d_40 (Conv2D)          (None, 242, 242, 32)      320       \n",
            "                                                                 \n",
            " batch_normalization_9 (Batc  (None, 242, 242, 32)     128       \n",
            " hNormalization)                                                 \n",
            "                                                                 \n",
            " activation_20 (Activation)  (None, 242, 242, 32)      0         \n",
            "                                                                 \n",
            " conv2d_41 (Conv2D)          (None, 240, 240, 32)      9248      \n",
            "                                                                 \n",
            " batch_normalization_10 (Bat  (None, 240, 240, 32)     128       \n",
            " chNormalization)                                                \n",
            "                                                                 \n",
            " activation_21 (Activation)  (None, 240, 240, 32)      0         \n",
            "                                                                 \n",
            " max_pooling2d_20 (MaxPoolin  (None, 120, 120, 32)     0         \n",
            " g2D)                                                            \n",
            "                                                                 \n",
            " conv2d_42 (Conv2D)          (None, 118, 118, 64)      18496     \n",
            "                                                                 \n",
            " activation_22 (Activation)  (None, 118, 118, 64)      0         \n",
            "                                                                 \n",
            " conv2d_43 (Conv2D)          (None, 116, 116, 128)     73856     \n",
            "                                                                 \n",
            " activation_23 (Activation)  (None, 116, 116, 128)     0         \n",
            "                                                                 \n",
            " max_pooling2d_21 (MaxPoolin  (None, 58, 58, 128)      0         \n",
            " g2D)                                                            \n",
            "                                                                 \n",
            " flatten_10 (Flatten)        (None, 430592)            0         \n",
            "                                                                 \n",
            " dense_30 (Dense)            (None, 256)               110231808 \n",
            "                                                                 \n",
            " dropout_13 (Dropout)        (None, 256)               0         \n",
            "                                                                 \n",
            " dense_31 (Dense)            (None, 64)                16448     \n",
            "                                                                 \n",
            " dropout_14 (Dropout)        (None, 64)                0         \n",
            "                                                                 \n",
            " dense_32 (Dense)            (None, 10)                650       \n",
            "                                                                 \n",
            "=================================================================\n",
            "Total params: 110,351,082\n",
            "Trainable params: 110,350,954\n",
            "Non-trainable params: 128\n",
            "_________________________________________________________________\n"
          ]
        }
      ]
    },
    {
      "cell_type": "code",
      "source": [
        "model3.compile(loss=\"categorical_crossentropy\",\n",
        "               optimizer=\"adam\",\n",
        "               metrics=[\"accuracy\"])"
      ],
      "metadata": {
        "id": "RaCjzR1vvrjf"
      },
      "execution_count": 42,
      "outputs": []
    },
    {
      "cell_type": "code",
      "source": [
        "h3 = model3.fit(X_train_resized, y_train_en, batch_size=20, epochs=10,\n",
        "                validation_data=(X_test_resized, y_test_en))"
      ],
      "metadata": {
        "colab": {
          "base_uri": "https://localhost:8080/"
        },
        "id": "HVG_YgEXvrl4",
        "outputId": "08cefdfa-51b9-45d0-938d-9011c11f7167"
      },
      "execution_count": 43,
      "outputs": [
        {
          "output_type": "stream",
          "name": "stdout",
          "text": [
            "Epoch 1/10\n",
            "50/50 [==============================] - 8s 130ms/step - loss: 5.0024 - accuracy: 0.4520 - val_loss: 1.1922 - val_accuracy: 0.7133\n",
            "Epoch 2/10\n",
            "50/50 [==============================] - 6s 126ms/step - loss: 0.8554 - accuracy: 0.7200 - val_loss: 1.0178 - val_accuracy: 0.7267\n",
            "Epoch 3/10\n",
            "50/50 [==============================] - 6s 130ms/step - loss: 0.6315 - accuracy: 0.7920 - val_loss: 0.6488 - val_accuracy: 0.8000\n",
            "Epoch 4/10\n",
            "50/50 [==============================] - 6s 127ms/step - loss: 0.5073 - accuracy: 0.8330 - val_loss: 0.5781 - val_accuracy: 0.8000\n",
            "Epoch 5/10\n",
            "50/50 [==============================] - 6s 130ms/step - loss: 0.3935 - accuracy: 0.8650 - val_loss: 0.5415 - val_accuracy: 0.8333\n",
            "Epoch 6/10\n",
            "50/50 [==============================] - 6s 128ms/step - loss: 0.3242 - accuracy: 0.8840 - val_loss: 0.5553 - val_accuracy: 0.8167\n",
            "Epoch 7/10\n",
            "50/50 [==============================] - 6s 128ms/step - loss: 0.2900 - accuracy: 0.9050 - val_loss: 0.6331 - val_accuracy: 0.8133\n",
            "Epoch 8/10\n",
            "50/50 [==============================] - 6s 128ms/step - loss: 0.2543 - accuracy: 0.9240 - val_loss: 0.5612 - val_accuracy: 0.8167\n",
            "Epoch 9/10\n",
            "50/50 [==============================] - 6s 128ms/step - loss: 0.1979 - accuracy: 0.9340 - val_loss: 0.6119 - val_accuracy: 0.8300\n",
            "Epoch 10/10\n",
            "50/50 [==============================] - 7s 131ms/step - loss: 0.1516 - accuracy: 0.9480 - val_loss: 0.6489 - val_accuracy: 0.8367\n"
          ]
        }
      ]
    },
    {
      "cell_type": "code",
      "source": [
        "import matplotlib.pyplot as plt\n",
        "\n",
        "acc = h3.history[\"accuracy\"]\n",
        "val_acc = h3.history[\"val_accuracy\"]\n",
        "\n",
        "e = range(1, len(acc) + 1)\n",
        "\n",
        "plt.plot(e, acc, \"r\", label=\"Train\")\n",
        "plt.plot(e, val_acc, \"b\", label=\"Test\")\n",
        "plt.legend()"
      ],
      "metadata": {
        "colab": {
          "base_uri": "https://localhost:8080/",
          "height": 283
        },
        "id": "BrhZQ6_71Nye",
        "outputId": "36561845-cb94-47b8-bfbd-4f566137b885"
      },
      "execution_count": 44,
      "outputs": [
        {
          "output_type": "execute_result",
          "data": {
            "text/plain": [
              "<matplotlib.legend.Legend at 0x7f701a2f2dd0>"
            ]
          },
          "metadata": {},
          "execution_count": 44
        },
        {
          "output_type": "display_data",
          "data": {
            "text/plain": [
              "<Figure size 432x288 with 1 Axes>"
            ],
            "image/png": "[encoded data removed]"
          },
          "metadata": {
            "needs_background": "light"
          }
        }
      ]
    },
    {
      "cell_type": "markdown",
      "source": [
        "# GlobalAveragePooling2D을 이용한 과적합 방지 \n",
        "\n",
        "- Flatten() 층 대신에 사용\n",
        "- 다차원 배열을 1차원 만들때 AveragePooling 방법을 사용\n",
        "- 근처 특성값들을 평균내서 크기를 줄이는 방식으로 1차원으로 변환"
      ],
      "metadata": {
        "id": "DNwnpASX6e8l"
      }
    },
    {
      "cell_type": "code",
      "source": [
        "# w, b를 초기값을 동일하게 하기 위해서 seed 설정 필요\n",
        "import tensorflow as tf\n",
        "import numpy as np\n",
        "\n",
        "seed = 0\n",
        "\n",
        "np.random.seed(seed)\n",
        "tf.random.set_seed(seed)"
      ],
      "metadata": {
        "id": "Bnk_L5fW9zLG"
      },
      "execution_count": 51,
      "outputs": []
    },
    {
      "cell_type": "code",
      "source": [
        "# 신경망 설계\n",
        "from tensorflow.keras.models import Sequential\n",
        "from tensorflow.keras.layers import Dense, Conv2D, MaxPooling2D, GlobalAveragePooling2D\n",
        "from tensorflow.keras.layers import Dropout, BatchNormalization, Activation\n",
        "\n",
        "model4 = Sequential()\n",
        "\n",
        "model4.add(Conv2D(filters=32, kernel_size=(3, 3), \n",
        "                  input_shape=(244, 244, 1)))\n",
        "model4.add(BatchNormalization())\n",
        "model4.add(Activation(\"relu\"))\n",
        "model4.add(Conv2D(filters=32, kernel_size=(3, 3)))\n",
        "model4.add(BatchNormalization())\n",
        "model4.add(Activation(\"relu\"))\n",
        "model4.add(MaxPooling2D(pool_size=(2, 2)))\n",
        "model4.add(Conv2D(filters=64, kernel_size=(3, 3)))\n",
        "model4.add(Activation(\"relu\"))\n",
        "model4.add(Conv2D(filters=128, kernel_size=(3, 3)))\n",
        "model4.add(Activation(\"relu\"))\n",
        "model4.add(MaxPooling2D(pool_size=(2, 2)))\n",
        "#model3.add(Dropout(0.5))\n",
        "\n",
        "# 다차원 데이터를 1차원을 변환\n",
        "model4.add(GlobalAveragePooling2D())\n",
        "\n",
        "# 분류기 모델 설계\n",
        "model4.add(Dense(units=256, activation=\"relu\"))\n",
        "model4.add(Dropout(0.5))\n",
        "model4.add(Dense(units=64, activation=\"relu\"))\n",
        "model4.add(Dropout(0.2))\n",
        "model4.add(Dense(units=10, activation=\"softmax\"))\n",
        "\n",
        "model4.summary()"
      ],
      "metadata": {
        "colab": {
          "base_uri": "https://localhost:8080/"
        },
        "id": "8Jf77aMB1N1O",
        "outputId": "4fd88e1e-14a3-4a79-e0f2-a47d7987eca3"
      },
      "execution_count": 47,
      "outputs": [
        {
          "output_type": "stream",
          "name": "stdout",
          "text": [
            "Model: \"sequential_13\"\n",
            "_________________________________________________________________\n",
            " Layer (type)                Output Shape              Param #   \n",
            "=================================================================\n",
            " conv2d_52 (Conv2D)          (None, 242, 242, 32)      320       \n",
            "                                                                 \n",
            " batch_normalization_15 (Bat  (None, 242, 242, 32)     128       \n",
            " chNormalization)                                                \n",
            "                                                                 \n",
            " activation_32 (Activation)  (None, 242, 242, 32)      0         \n",
            "                                                                 \n",
            " conv2d_53 (Conv2D)          (None, 240, 240, 32)      9248      \n",
            "                                                                 \n",
            " batch_normalization_16 (Bat  (None, 240, 240, 32)     128       \n",
            " chNormalization)                                                \n",
            "                                                                 \n",
            " activation_33 (Activation)  (None, 240, 240, 32)      0         \n",
            "                                                                 \n",
            " max_pooling2d_26 (MaxPoolin  (None, 120, 120, 32)     0         \n",
            " g2D)                                                            \n",
            "                                                                 \n",
            " conv2d_54 (Conv2D)          (None, 118, 118, 64)      18496     \n",
            "                                                                 \n",
            " activation_34 (Activation)  (None, 118, 118, 64)      0         \n",
            "                                                                 \n",
            " conv2d_55 (Conv2D)          (None, 116, 116, 128)     73856     \n",
            "                                                                 \n",
            " activation_35 (Activation)  (None, 116, 116, 128)     0         \n",
            "                                                                 \n",
            " max_pooling2d_27 (MaxPoolin  (None, 58, 58, 128)      0         \n",
            " g2D)                                                            \n",
            "                                                                 \n",
            " global_average_pooling2d_1   (None, 128)              0         \n",
            " (GlobalAveragePooling2D)                                        \n",
            "                                                                 \n",
            " dense_36 (Dense)            (None, 256)               33024     \n",
            "                                                                 \n",
            " dropout_17 (Dropout)        (None, 256)               0         \n",
            "                                                                 \n",
            " dense_37 (Dense)            (None, 64)                16448     \n",
            "                                                                 \n",
            " dropout_18 (Dropout)        (None, 64)                0         \n",
            "                                                                 \n",
            " dense_38 (Dense)            (None, 10)                650       \n",
            "                                                                 \n",
            "=================================================================\n",
            "Total params: 152,298\n",
            "Trainable params: 152,170\n",
            "Non-trainable params: 128\n",
            "_________________________________________________________________\n"
          ]
        }
      ]
    },
    {
      "cell_type": "code",
      "source": [
        "model4.compile(loss=\"categorical_crossentropy\",\n",
        "               optimizer=\"adam\",\n",
        "               metrics=[\"accuracy\"])"
      ],
      "metadata": {
        "id": "Ye1lrQIv1Rvt"
      },
      "execution_count": 48,
      "outputs": []
    },
    {
      "cell_type": "code",
      "source": [
        "h4 = model4.fit(X_train_resized, y_train_en, batch_size=20, epochs=10,\n",
        "                validation_data=(X_test_resized, y_test_en))"
      ],
      "metadata": {
        "colab": {
          "base_uri": "https://localhost:8080/"
        },
        "id": "IzPVzgxk1Ryl",
        "outputId": "063c8546-2a35-46be-eb1c-c198e2ce878d"
      },
      "execution_count": 49,
      "outputs": [
        {
          "output_type": "stream",
          "name": "stdout",
          "text": [
            "Epoch 1/10\n",
            "50/50 [==============================] - 7s 109ms/step - loss: 2.3078 - accuracy: 0.1060 - val_loss: 2.2765 - val_accuracy: 0.1267\n",
            "Epoch 2/10\n",
            "50/50 [==============================] - 5s 105ms/step - loss: 2.2505 - accuracy: 0.1270 - val_loss: 2.2195 - val_accuracy: 0.1133\n",
            "Epoch 3/10\n",
            "50/50 [==============================] - 5s 105ms/step - loss: 2.0918 - accuracy: 0.2340 - val_loss: 2.0382 - val_accuracy: 0.1933\n",
            "Epoch 4/10\n",
            "50/50 [==============================] - 5s 105ms/step - loss: 1.8626 - accuracy: 0.2780 - val_loss: 2.4026 - val_accuracy: 0.1700\n",
            "Epoch 5/10\n",
            "50/50 [==============================] - 5s 105ms/step - loss: 1.6221 - accuracy: 0.3350 - val_loss: 2.6609 - val_accuracy: 0.2000\n",
            "Epoch 6/10\n",
            "50/50 [==============================] - 5s 101ms/step - loss: 1.4733 - accuracy: 0.3910 - val_loss: 1.7496 - val_accuracy: 0.3800\n",
            "Epoch 7/10\n",
            "50/50 [==============================] - 5s 105ms/step - loss: 1.4344 - accuracy: 0.3950 - val_loss: 1.2498 - val_accuracy: 0.5267\n",
            "Epoch 8/10\n",
            "50/50 [==============================] - 5s 101ms/step - loss: 1.3804 - accuracy: 0.4620 - val_loss: 2.1966 - val_accuracy: 0.3000\n",
            "Epoch 9/10\n",
            "50/50 [==============================] - 5s 101ms/step - loss: 1.3420 - accuracy: 0.4500 - val_loss: 1.4091 - val_accuracy: 0.4333\n",
            "Epoch 10/10\n",
            "50/50 [==============================] - 5s 101ms/step - loss: 1.3071 - accuracy: 0.4810 - val_loss: 1.8416 - val_accuracy: 0.3033\n"
          ]
        }
      ]
    },
    {
      "cell_type": "code",
      "source": [
        "import matplotlib.pyplot as plt\n",
        "\n",
        "acc = h4.history[\"accuracy\"]\n",
        "val_acc = h4.history[\"val_accuracy\"]\n",
        "\n",
        "e = range(1, len(acc) + 1)\n",
        "\n",
        "plt.plot(e, acc, \"r\", label=\"Train\")\n",
        "plt.plot(e, val_acc, \"b\", label=\"Test\")\n",
        "plt.legend()"
      ],
      "metadata": {
        "colab": {
          "base_uri": "https://localhost:8080/",
          "height": 283
        },
        "id": "GXmWMIJU1R1d",
        "outputId": "8e2ae921-f9de-4904-f48f-51a7ae9630d9"
      },
      "execution_count": 61,
      "outputs": [
        {
          "output_type": "execute_result",
          "data": {
            "text/plain": [
              "<matplotlib.legend.Legend at 0x7f701b5082d0>"
            ]
          },
          "metadata": {},
          "execution_count": 61
        },
        {
          "output_type": "display_data",
          "data": {
            "text/plain": [
              "<Figure size 432x288 with 1 Axes>"
            ],
            "image/png": "[encoded data removed]"
          },
          "metadata": {
            "needs_background": "light"
          }
        }
      ]
    },
    {
      "cell_type": "markdown",
      "source": [
        "# Xception 모델을 이용한 전이학습"
      ],
      "metadata": {
        "id": "LEax-U2E-969"
      }
    },
    {
      "cell_type": "code",
      "source": [
        "# Exception 모델 가져오기\n",
        "from tensorflow.keras.applications import Xception\n",
        "\n",
        "# include_top : 모델을 가져올때 분류기를 가져올지 여부 (False이면 CNN층만 가져옴)\n",
        "# weights : 가져올 가중치의 종류 (imagenet)\n",
        "# input_shape() : 사용할 입력이미지 크기\n",
        "pre_trained_model = Xception(include_top = False,\n",
        "                             weights = \"imagenet\",\n",
        "                             input_shape = (244, 244, 3))\n",
        "\n",
        "pre_trained_model.summary()"
      ],
      "metadata": {
        "id": "XloM7QVd1R4N"
      },
      "execution_count": null,
      "outputs": []
    },
    {
      "cell_type": "code",
      "source": [
        "X_train_resized.shape, X_test_resized.shape"
      ],
      "metadata": {
        "colab": {
          "base_uri": "https://localhost:8080/"
        },
        "id": "wCY4bSyq1R6c",
        "outputId": "11bc0e64-7c2b-482d-eff4-e46c0d9d7861"
      },
      "execution_count": 55,
      "outputs": [
        {
          "output_type": "execute_result",
          "data": {
            "text/plain": [
              "((1000, 244, 244, 1), (300, 244, 244, 1))"
            ]
          },
          "metadata": {},
          "execution_count": 55
        }
      ]
    },
    {
      "cell_type": "code",
      "source": [
        "# 1채널인 색상채널을 3채널로 변환\n",
        "# 3차원 축을 3번 반복해서 저장\n",
        "X_train_resized = np.repeat(X_train_resized, 3, axis=3)\n",
        "X_test_resized = np.repeat(X_test_resized, 3, axis=3)\n",
        "\n",
        "X_train_resized.shape, X_test_resized.shape"
      ],
      "metadata": {
        "colab": {
          "base_uri": "https://localhost:8080/"
        },
        "id": "20KBPbJO1N38",
        "outputId": "ce1240b0-a20a-4ca9-b397-e438a02e7e1d"
      },
      "execution_count": 56,
      "outputs": [
        {
          "output_type": "execute_result",
          "data": {
            "text/plain": [
              "((1000, 244, 244, 3), (300, 244, 244, 3))"
            ]
          },
          "metadata": {},
          "execution_count": 56
        }
      ]
    },
    {
      "cell_type": "code",
      "source": [
        "# 전이학습 모델 설계\n",
        "from tensorflow.keras.models import Sequential\n",
        "from tensorflow.keras.layers import Dense, Dropout, Flatten\n",
        "\n",
        "model5 = Sequential()\n",
        "\n",
        "# Xception 모델을 전이학습\n",
        "model5.add(pre_trained_model)\n",
        "\n",
        "model5.add(Flatten())\n",
        "\n",
        "# 우리가 설계한 분류 모델을 추가\n",
        "model5.add(Dense(units=512, activation=\"relu\"))\n",
        "model5.add(Dense(units=10, activation=\"softmax\"))\n",
        "\n",
        "model5.summary()"
      ],
      "metadata": {
        "colab": {
          "base_uri": "https://localhost:8080/"
        },
        "id": "LHW1YW8h1N6u",
        "outputId": "3b08dc75-5927-4edf-c33d-10ad5e1c46c4"
      },
      "execution_count": 58,
      "outputs": [
        {
          "output_type": "stream",
          "name": "stdout",
          "text": [
            "Model: \"sequential_15\"\n",
            "_________________________________________________________________\n",
            " Layer (type)                Output Shape              Param #   \n",
            "=================================================================\n",
            " xception (Functional)       (None, 8, 8, 2048)        20861480  \n",
            "                                                                 \n",
            " flatten_12 (Flatten)        (None, 131072)            0         \n",
            "                                                                 \n",
            " dense_42 (Dense)            (None, 512)               67109376  \n",
            "                                                                 \n",
            " dense_43 (Dense)            (None, 10)                5130      \n",
            "                                                                 \n",
            "=================================================================\n",
            "Total params: 87,975,986\n",
            "Trainable params: 87,921,458\n",
            "Non-trainable params: 54,528\n",
            "_________________________________________________________________\n"
          ]
        }
      ]
    },
    {
      "cell_type": "code",
      "source": [
        "model5.compile(loss=\"categorical_crossentropy\",\n",
        "               optimizer=\"adam\",\n",
        "               metrics=[\"accuracy\"])"
      ],
      "metadata": {
        "id": "pMpW8n421N9j"
      },
      "execution_count": 59,
      "outputs": []
    },
    {
      "cell_type": "code",
      "source": [
        "h5 = model5.fit(X_train_resized, y_train_en, batch_size=20, epochs=10,\n",
        "                validation_data=(X_test_resized, y_test_en))"
      ],
      "metadata": {
        "colab": {
          "base_uri": "https://localhost:8080/"
        },
        "id": "xw5hqpWpG8CF",
        "outputId": "4db30e9f-cfe7-4e20-e7e4-9261d9593dc4"
      },
      "execution_count": 60,
      "outputs": [
        {
          "output_type": "stream",
          "name": "stdout",
          "text": [
            "Epoch 1/10\n",
            "50/50 [==============================] - 30s 473ms/step - loss: 2.5260 - accuracy: 0.3430 - val_loss: 1.5715 - val_accuracy: 0.4900\n",
            "Epoch 2/10\n",
            "50/50 [==============================] - 23s 453ms/step - loss: 0.9432 - accuracy: 0.6690 - val_loss: 1.0448 - val_accuracy: 0.6967\n",
            "Epoch 3/10\n",
            "50/50 [==============================] - 23s 459ms/step - loss: 0.5503 - accuracy: 0.8230 - val_loss: 0.8403 - val_accuracy: 0.7567\n",
            "Epoch 4/10\n",
            "50/50 [==============================] - 24s 491ms/step - loss: 0.4862 - accuracy: 0.8490 - val_loss: 1.9817 - val_accuracy: 0.6567\n",
            "Epoch 5/10\n",
            "50/50 [==============================] - 25s 496ms/step - loss: 0.3370 - accuracy: 0.9040 - val_loss: 0.6756 - val_accuracy: 0.8267\n",
            "Epoch 6/10\n",
            "50/50 [==============================] - 25s 497ms/step - loss: 0.2541 - accuracy: 0.9190 - val_loss: 1.7654 - val_accuracy: 0.7433\n",
            "Epoch 7/10\n",
            "50/50 [==============================] - 25s 501ms/step - loss: 0.1702 - accuracy: 0.9470 - val_loss: 0.5901 - val_accuracy: 0.8067\n",
            "Epoch 8/10\n",
            "50/50 [==============================] - 24s 478ms/step - loss: 0.2282 - accuracy: 0.9220 - val_loss: 5.7523 - val_accuracy: 0.6100\n",
            "Epoch 9/10\n",
            "50/50 [==============================] - 24s 479ms/step - loss: 0.2669 - accuracy: 0.9180 - val_loss: 1.7606 - val_accuracy: 0.6400\n",
            "Epoch 10/10\n",
            "50/50 [==============================] - 25s 503ms/step - loss: 0.2189 - accuracy: 0.9310 - val_loss: 0.9345 - val_accuracy: 0.7833\n"
          ]
        }
      ]
    },
    {
      "cell_type": "code",
      "source": [
        "import matplotlib.pyplot as plt\n",
        "\n",
        "acc = h5.history[\"accuracy\"]\n",
        "val_acc = h5.history[\"val_accuracy\"]\n",
        "\n",
        "e = range(1, len(acc) + 1)\n",
        "\n",
        "plt.plot(e, acc, \"r\", label=\"Train\")\n",
        "plt.plot(e, val_acc, \"b\", label=\"Test\")\n",
        "plt.legend()"
      ],
      "metadata": {
        "colab": {
          "base_uri": "https://localhost:8080/",
          "height": 283
        },
        "id": "OXzZUcZ6G8I2",
        "outputId": "4995bb50-dc05-4ae7-fe19-a229506f3845"
      },
      "execution_count": 62,
      "outputs": [
        {
          "output_type": "execute_result",
          "data": {
            "text/plain": [
              "<matplotlib.legend.Legend at 0x7f701b32abd0>"
            ]
          },
          "metadata": {},
          "execution_count": 62
        },
        {
          "output_type": "display_data",
          "data": {
            "text/plain": [
              "<Figure size 432x288 with 1 Axes>"
            ],
            "image/png": "[encoded data removed]"
          },
          "metadata": {
            "needs_background": "light"
          }
        }
      ]
    },
    {
      "cell_type": "code",
      "source": [],
      "metadata": {
        "id": "j_4H5MF5G8Lk"
      },
      "execution_count": null,
      "outputs": []
    },
    {
      "cell_type": "code",
      "source": [],
      "metadata": {
        "id": "5PZabjBbG8Qr"
      },
      "execution_count": null,
      "outputs": []
    },
    {
      "cell_type": "code",
      "source": [],
      "metadata": {
        "id": "ILRbROFXG8Tt"
      },
      "execution_count": null,
      "outputs": []
    }
  ]
}